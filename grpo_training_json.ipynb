{
 "cells": [
  {
   "cell_type": "code",
   "execution_count": 1,
   "id": "cca3b5b7",
   "metadata": {},
   "outputs": [
    {
     "name": "stdout",
     "output_type": "stream",
     "text": [
      "Sun Sep 21 08:48:14 2025       \n",
      "+-----------------------------------------------------------------------------------------+\n",
      "| NVIDIA-SMI 550.163.01             Driver Version: 550.163.01     CUDA Version: 12.4     |\n",
      "|-----------------------------------------+------------------------+----------------------+\n",
      "| GPU  Name                 Persistence-M | Bus-Id          Disp.A | Volatile Uncorr. ECC |\n",
      "| Fan  Temp   Perf          Pwr:Usage/Cap |           Memory-Usage | GPU-Util  Compute M. |\n",
      "|                                         |                        |               MIG M. |\n",
      "|=========================================+========================+======================|\n",
      "|   0  NVIDIA GeForce RTX 3090        Off |   00000000:01:00.0  On |                  N/A |\n",
      "|  0%   30C    P8             17W /  350W |     213MiB /  24576MiB |      0%      Default |\n",
      "|                                         |                        |                  N/A |\n",
      "+-----------------------------------------+------------------------+----------------------+\n",
      "                                                                                         \n",
      "+-----------------------------------------------------------------------------------------+\n",
      "| Processes:                                                                              |\n",
      "|  GPU   GI   CI        PID   Type   Process name                              GPU Memory |\n",
      "|        ID   ID                                                               Usage      |\n",
      "|=========================================================================================|\n",
      "|    0   N/A  N/A      2020      G   /usr/lib/xorg/Xorg                             78MiB |\n",
      "|    0   N/A  N/A      2169      G   /usr/bin/gnome-shell                          125MiB |\n",
      "+-----------------------------------------------------------------------------------------+\n"
     ]
    }
   ],
   "source": [
    "!nvidia-smi"
   ]
  },
  {
   "cell_type": "code",
   "execution_count": 2,
   "id": "7088e06d",
   "metadata": {},
   "outputs": [
    {
     "name": "stdout",
     "output_type": "stream",
     "text": [
      "INFO 09-21 08:48:18 [__init__.py:216] Automatically detected platform cuda.\n",
      "Successfully imported vllm version: 0.10.2\n"
     ]
    }
   ],
   "source": [
    "try:\n",
    "    from vllm.distributed.parallel_state import (\n",
    "        destroy_model_parallel,\n",
    "        destroy_distributed_environment,\n",
    "    )\n",
    "    import vllm\n",
    "#    !export VLLM_LOGGING_LEVEL=ERROR\n",
    "\n",
    "    print(f\"Successfully imported vllm version: {vllm.__version__}\")\n",
    "    USE_VLLM = True\n",
    "except ImportError as e:\n",
    "    print(f\"An error occurred: {e}\")\n",
    "    USE_VLLM = False"
   ]
  },
  {
   "cell_type": "code",
   "execution_count": 3,
   "id": "46155e76",
   "metadata": {},
   "outputs": [
    {
     "name": "stdout",
     "output_type": "stream",
     "text": [
      "Using PyTorch version: 2.8.0+cu128\n",
      "Using TRL version: 0.23.0\n",
      "Using bitsandbytes version: 0.47.0\n"
     ]
    }
   ],
   "source": [
    "import torch\n",
    "import trl\n",
    "import bitsandbytes\n",
    "\n",
    "print(f\"Using PyTorch version: {torch.__version__}\")\n",
    "print(f\"Using TRL version: {trl.__version__}\")\n",
    "print(f\"Using bitsandbytes version: {bitsandbytes.__version__}\")"
   ]
  },
  {
   "cell_type": "code",
   "execution_count": 4,
   "id": "f82ddb79",
   "metadata": {},
   "outputs": [],
   "source": [
    "import os\n",
    "import gc\n",
    "import sys\n",
    "import warnings\n",
    "import contextlib\n",
    "from huggingface_hub import login\n",
    "from datasets import load_dataset, Dataset\n",
    "import gc\n",
    "import random\n",
    "import re\n",
    "import json\n",
    "import re\n",
    "import torch\n",
    "import logging\n",
    "import numpy as np\n",
    "from transformers import AutoTokenizer, AutoModelForCausalLM\n",
    "from trl import GRPOConfig, GRPOTrainer, SFTConfig, SFTTrainer\n",
    "from peft import LoraConfig\n",
    "from tqdm import tqdm"
   ]
  },
  {
   "cell_type": "code",
   "execution_count": 5,
   "id": "e9c27e9c",
   "metadata": {},
   "outputs": [],
   "source": [
    "if 'google.colab' in sys.modules:\n",
    "    from google.colab import userdata\n",
    "    from huggingface_hub import login\n",
    "\n",
    "    # Access the secret\n",
    "    # Make sure you have created a secret named 'HUGGING_FACE_HUB_TOKEN' in your Colab secrets\n",
    "    hf_token = userdata.get(\"HF_TOKEN\")\n",
    "\n",
    "    # Log in to Hugging Face\n",
    "    # The 'token' parameter is used for non-interactive login\n",
    "    login(token=hf_token)\n",
    "\n",
    "    print(\"Hugging Face login successful!\")"
   ]
  },
  {
   "cell_type": "code",
   "execution_count": 6,
   "id": "07ada8cb",
   "metadata": {},
   "outputs": [],
   "source": [
    "def silence_annoying_logs():\n",
    "    \"\"\"\n",
    "    Silences INFO and WARNING messages from specific libraries.\n",
    "    This is a robust method that handles placeholder loggers.\n",
    "    \"\"\"\n",
    "    # List of logger prefixes to silence\n",
    "    loggers_to_silence = [\"vllm\", \"numba\"]  # Added numba as it can also be noisy\n",
    "\n",
    "    for name, logger in logging.root.manager.loggerDict.items():\n",
    "        # Check if the logger name starts with any of the prefixes\n",
    "        if any(name.startswith(prefix) for prefix in loggers_to_silence):\n",
    "            # IMPORTANT: Check if it's a real logger and not a placeholder\n",
    "            if isinstance(logger, logging.Logger):\n",
    "                logger.setLevel(logging.ERROR)\n",
    "\n",
    "\n",
    "# Also, let's suppress the UserWarning from numba if it appears\n",
    "warnings.filterwarnings(\"ignore\", category=UserWarning, module=\"numba\")\n",
    "\n",
    "\n",
    "# Call the function to apply the changes\n",
    "silence_annoying_logs()"
   ]
  },
  {
   "cell_type": "code",
   "execution_count": 18,
   "id": "23b2399c",
   "metadata": {},
   "outputs": [],
   "source": [
    "# --- System Prompts and Formatting (JSON-Only) ---\n",
    "\n",
    "# A clear and direct instruction for the AI's role and task.\n",
    "SYSTEM_PROMPT_HEADER = \"\"\"You are a financial analyst AI. Your task is to analyze the sentiment of the provided financial news snippet.\"\"\"\n",
    "\n",
    "# Specific instructions on the output format.\n",
    "JSON_STRUCTURE_INSTRUCTIONS = \"\"\"Your response MUST be only one, valid JSON object containing two keys:\n",
    "1. `sentiment`: Must be one of \"positive\", \"negative\", or \"neutral\".\n",
    "2. `explanation`: A brief justification for the sentiment, under 50 words.\n",
    "After answering the JSON object, stop.\"\"\"\n",
    "\n",
    "# A perfect example of the desired output.\n",
    "EXAMPLE_JSON = \"\"\"{\n",
    "  \"sentiment\": \"positive\",\n",
    "  \"explanation\": \"The company announced record profits and a successful product launch, indicating strong positive performance.\"\n",
    "}\n",
    "\n",
    "After generating the single JSON object, stop.\"\"\"\n",
    "\n",
    "# Combine all parts into the final system prompt.\n",
    "SYSTEM_PROMPT = (\n",
    "    SYSTEM_PROMPT_HEADER\n",
    "    + \"\\n\\n\"\n",
    "    + JSON_STRUCTURE_INSTRUCTIONS\n",
    "    + \"\\n\\n\"\n",
    "    + \"Here is an example of the required output format:\\n\"\n",
    "    + EXAMPLE_JSON\n",
    ")"
   ]
  },
  {
   "cell_type": "code",
   "execution_count": 21,
   "id": "83ae213b",
   "metadata": {},
   "outputs": [],
   "source": [
    "# --- Configuration Class ---\n",
    "\n",
    "class Config:\n",
    "    \"\"\"Configuration parameters\"\"\"\n",
    "\n",
    "    SIZE = \"3-270m\"\n",
    "    #SIZE = \"3-1b\"\n",
    "    MODEL_NAME = f\"google/gemma-{SIZE}-it\"\n",
    "    OUTPUT_MODEL = f\"gemma-{SIZE}-it-grpo-finsent-json\"\n",
    "\n",
    "    max_prompt_length = 1024\n",
    "    max_completion_length = 100\n",
    "\n",
    "\n",
    "# --- Environment and Utility Functions ---\n",
    "\n",
    "\n",
    "def init():\n",
    "    \"\"\"Initialization script\"\"\"\n",
    "    os.environ[\"HF_HUB_ENABLE_HF_TRANSFER\"] = \"0\"\n",
    "    os.environ[\"TOKENIZERS_PARALLELISM\"] = \"false\"\n",
    "    os.environ[\"CUDA_VISIBLE_DEVICES\"] = \"0\"\n",
    "    os.environ[\"PYTORCH_CUDA_ALLOC_CONF\"] = \"max_split_size_mb:128\"\n",
    "\n",
    "    # It is recommended to set the HF_TOKEN as an environment variable\n",
    "    token = os.environ.get(\"HF_TOKEN\")\n",
    "    if token:\n",
    "        login(token=token)\n",
    "    else:\n",
    "        print(\"HF_TOKEN not set. You might need to log in manually.\")\n",
    "\n",
    "    torch.cuda.empty_cache()\n",
    "    gc.collect()\n",
    "    warnings.filterwarnings(\"ignore\")\n",
    "\n",
    "\n",
    "def close(llm=None):\n",
    "    \"\"\"Close vllm and clean up resources\"\"\"\n",
    "    destroy_model_parallel()\n",
    "    destroy_distributed_environment()\n",
    "    if llm:\n",
    "        del llm.llm_engine.model_executor\n",
    "        del llm\n",
    "    with contextlib.suppress(AssertionError):\n",
    "        torch.distributed.destroy_process_group()\n",
    "    gc.collect()\n",
    "    torch.cuda.empty_cache()\n",
    "\n",
    "\n",
    "def is_bfloat16_supported():\n",
    "    \"\"\"Checks if the current device supports bfloat16.\"\"\"\n",
    "    return torch.cuda.is_available() and torch.cuda.get_device_capability(0)[0] >= 8\n",
    "\n",
    "\n",
    "def info_device():\n",
    "    \"\"\"Get device for PyTorch\"\"\"\n",
    "    device = torch.device(\"cuda\" if torch.cuda.is_available() else \"cpu\")\n",
    "    print(f\"Using device: {device}\")\n",
    "    return device"
   ]
  },
  {
   "cell_type": "code",
   "execution_count": 22,
   "id": "35f50979",
   "metadata": {},
   "outputs": [
    {
     "name": "stderr",
     "output_type": "stream",
     "text": [
      "Note: Environment variable`HF_TOKEN` is set and is the current active token independently from the token you've just configured.\n"
     ]
    },
    {
     "name": "stdout",
     "output_type": "stream",
     "text": [
      "Using device: cuda\n"
     ]
    }
   ],
   "source": [
    "init()\n",
    "params = Config()\n",
    "device = info_device()\n",
    "dtype = torch.bfloat16 if is_bfloat16_supported() else torch.float16"
   ]
  },
  {
   "cell_type": "code",
   "execution_count": 10,
   "id": "bb42bed9",
   "metadata": {},
   "outputs": [],
   "source": [
    "def get_fpb_questions(split=\"train\"):\n",
    "    \"\"\"Upload FinancialPhraseBank dataset\"\"\"\n",
    "    repo_id = \"lmassaron/FinancialPhraseBank\"\n",
    "    data = load_dataset(repo_id, cache_dir=\"/tmp\")[split]\n",
    "\n",
    "    data = data.map(\n",
    "        lambda x: {\n",
    "            \"prompt\": [\n",
    "                {\"role\": \"user\", \"content\": SYSTEM_PROMPT + \"\\n[\" + x[\"sentence\"]+\"]\"},\n",
    "            ],\n",
    "            \"answer\": x[\"sentiment\"],\n",
    "        }\n",
    "    )\n",
    "    data = data.remove_columns([\"sentiment\", \"sentence\", \"label\"])\n",
    "    return data"
   ]
  },
  {
   "cell_type": "code",
   "execution_count": 11,
   "id": "24edcd88",
   "metadata": {},
   "outputs": [
    {
     "data": {
      "application/vnd.jupyter.widget-view+json": {
       "model_id": "37b405a70ceb43388429fd26ffa5d17c",
       "version_major": 2,
       "version_minor": 0
      },
      "text/plain": [
       "Generating train split:   0%|          | 0/900 [00:00<?, ? examples/s]"
      ]
     },
     "metadata": {},
     "output_type": "display_data"
    },
    {
     "data": {
      "application/vnd.jupyter.widget-view+json": {
       "model_id": "0e9fcf21da684919a0778055953661e9",
       "version_major": 2,
       "version_minor": 0
      },
      "text/plain": [
       "Generating validation split:   0%|          | 0/150 [00:00<?, ? examples/s]"
      ]
     },
     "metadata": {},
     "output_type": "display_data"
    },
    {
     "data": {
      "application/vnd.jupyter.widget-view+json": {
       "model_id": "c5a8436a347948adaf53f3d3261997ef",
       "version_major": 2,
       "version_minor": 0
      },
      "text/plain": [
       "Generating test split:   0%|          | 0/900 [00:00<?, ? examples/s]"
      ]
     },
     "metadata": {},
     "output_type": "display_data"
    },
    {
     "data": {
      "application/vnd.jupyter.widget-view+json": {
       "model_id": "ebda60aa0cd748119da16fd9cf753fd6",
       "version_major": 2,
       "version_minor": 0
      },
      "text/plain": [
       "Map:   0%|          | 0/900 [00:00<?, ? examples/s]"
      ]
     },
     "metadata": {},
     "output_type": "display_data"
    },
    {
     "name": "stdout",
     "output_type": "stream",
     "text": [
      "--- PROMPT ---\n",
      "You are a financial analyst AI. Your task is to analyze the sentiment of the provided financial news snippet.\n",
      "\n",
      "Your response MUST be only one, valid JSON object containing two keys:\n",
      "1. `sentiment`: Must be one of \"positive\", \"negative\", or \"neutral\".\n",
      "2. `explanation`: A brief justification for the sentiment, under 50 words.\n",
      "After answering the JSON object, stop.\n",
      "\n",
      "Here is an example of the required output format:\n",
      "{\n",
      "  \"sentiment\": \"positive\",\n",
      "  \"explanation\": \"The company announced record profits and a successful product launch, indicating strong positive performance.\"\n",
      "}\n",
      "[The new agreement , which expands a long-established cooperation between the companies , involves the transfer of certain engineering and documentation functions from Larox to Etteplan .]\n",
      "\n",
      "--- GROUND TRUTH ANSWER ---\n",
      "positive\n",
      "==============================\n",
      "--- PROMPT ---\n",
      "You are a financial analyst AI. Your task is to analyze the sentiment of the provided financial news snippet.\n",
      "\n",
      "Your response MUST be only one, valid JSON object containing two keys:\n",
      "1. `sentiment`: Must be one of \"positive\", \"negative\", or \"neutral\".\n",
      "2. `explanation`: A brief justification for the sentiment, under 50 words.\n",
      "After answering the JSON object, stop.\n",
      "\n",
      "Here is an example of the required output format:\n",
      "{\n",
      "  \"sentiment\": \"positive\",\n",
      "  \"explanation\": \"The company announced record profits and a successful product launch, indicating strong positive performance.\"\n",
      "}\n",
      "[( ADP News ) - Finnish handling systems provider Cargotec Oyj ( HEL : CGCBV ) announced on Friday it won orders worth EUR 10 million ( USD 13.2 m ) to deliver linkspans to Jordan , Morocco and Ireland .]\n",
      "\n",
      "--- GROUND TRUTH ANSWER ---\n",
      "positive\n",
      "==============================\n"
     ]
    }
   ],
   "source": [
    "# Let's load a small sample of the GSM8K data to see its structure.\n",
    "fpb_sample = get_fpb_questions(split=\"test\").select(range(2))\n",
    "\n",
    "for response in fpb_sample:\n",
    "    print(\"--- PROMPT ---\")\n",
    "    print(response[\"prompt\"][0][\"content\"])\n",
    "    print(\"\\n--- GROUND TRUTH ANSWER ---\")\n",
    "    print(response[\"answer\"])\n",
    "    print(\"=\" * 30)"
   ]
  },
  {
   "cell_type": "code",
   "execution_count": 12,
   "id": "b1a9e63c",
   "metadata": {},
   "outputs": [],
   "source": [
    "def extract_json_from_text(text: str) -> dict | None:\n",
    "    \"\"\"\n",
    "    Extracts the last JSON object from a string.\n",
    "    Handles cases where the JSON is embedded in text or code blocks.\n",
    "    \"\"\"\n",
    "    # Regex to find a JSON object, ignoring potential ```json markers\n",
    "    matches = re.findall(r\"\\{[\\s\\S]*?\\}\", text)\n",
    "    if not matches:\n",
    "        return \"\"\n",
    "    try:\n",
    "        # Return the last found JSON object\n",
    "        return json.loads(matches[-1])\n",
    "    except json.JSONDecodeError:\n",
    "        return \"\""
   ]
  },
  {
   "cell_type": "code",
   "execution_count": 13,
   "id": "180a0dbb",
   "metadata": {},
   "outputs": [],
   "source": [
    "# --- New Reward Constants (JSON-Only) ---\n",
    "\n",
    "# Level 1: JSON Format\n",
    "# Harshest penalty for failing the basic output format.\n",
    "PENALTY_INVALID_JSON = -2.0\n",
    "# A small base reward for getting the format right.\n",
    "REWARD_VALID_JSON = 0.3\n",
    "# For solving the problem of multiple JSONs\n",
    "REWARD_SINGLE_JSON = 0.2  # A  positive reward for perfect structure\n",
    "PENALTY_WRONG_JSON_COUNT = 0.0  # A weak penalty for 0 or >1 JSONs\n",
    "\n",
    "# Level 2: Core Task Correctness\n",
    "REWARD_SENTIMENT_CORRECT = 1.0\n",
    "PENALTY_SENTIMENT_WRONG = -1.0\n",
    "REWARD_SENTIMENT_NEAR = 0.2  # Encouragement for being close\n",
    "\n",
    "# Level 3: Quality/Style\n",
    "REWARD_EXPLANATION_QUALITY = 0.8\n",
    "MIN_REASONING_LEN = 20\n",
    "MAX_REASONING_LEN = 50  # Adjusted to match prompt"
   ]
  },
  {
   "cell_type": "code",
   "execution_count": 14,
   "id": "301bef4e",
   "metadata": {},
   "outputs": [],
   "source": [
    "def flatten(completion):\n",
    "    if not completion:\n",
    "        return []\n",
    "    if isinstance(completion[0], list):\n",
    "        return [item for sublist in completion for item in sublist]\n",
    "    return completion"
   ]
  },
  {
   "cell_type": "code",
   "execution_count": null,
   "id": "4540a3cc",
   "metadata": {},
   "outputs": [],
   "source": [
    "def single_json_reward_func(completions, **kwargs):\n",
    "    \"\"\"\n",
    "    Rewards the model for producing one and only one JSON object.\n",
    "    This function is the primary enforcer of output structure.\n",
    "    \"\"\"\n",
    "    output = flatten(completions)\n",
    "    rewards = []\n",
    "    for response in output:\n",
    "        # Find all occurrences of JSON-like structures\n",
    "        matches = re.findall(r\"\\{[\\s\\S]*?\\}\", response[\"content\"])\n",
    "        num_matches = len(matches)\n",
    "\n",
    "        if num_matches == 1:\n",
    "            # The ideal case: exactly one JSON found.\n",
    "            rewards.append(REWARD_SINGLE_JSON)\n",
    "        else:\n",
    "            # 0 or >1 JSONs are both incorrect formats.\n",
    "            rewards.append(PENALTY_WRONG_JSON_COUNT)\n",
    "\n",
    "    return rewards\n",
    "\n",
    "\n",
    "def json_format_reward_func(completions, **kwargs):\n",
    "    \"\"\"\n",
    "    Primary gatekeeper. Checks if the output is a valid JSON with the required keys.\n",
    "    \"\"\"\n",
    "    output = flatten(completions)\n",
    "    rewards = []\n",
    "    for response in output:\n",
    "        parsed_json = extract_json_from_text(response[\"content\"])\n",
    "        if parsed_json and \"sentiment\" in parsed_json and \"explanation\" in parsed_json:\n",
    "            rewards.append(REWARD_VALID_JSON)\n",
    "        else:\n",
    "            rewards.append(PENALTY_INVALID_JSON)\n",
    "    return rewards\n",
    "\n",
    "\n",
    "def correct_sentiment_func(completions, answer, **kwargs):\n",
    "    \"\"\"\n",
    "    Checks for the correct sentiment within the parsed JSON.\n",
    "    \"\"\"\n",
    "    sentiment_scores = {\"positive\": 1, \"neutral\": 0, \"negative\": -1}\n",
    "    output = flatten(completions)\n",
    "    rewards = []\n",
    "    for response, actual_sentiment in zip(output, answer):\n",
    "        parsed_json = extract_json_from_text(response[\"content\"])\n",
    "        if parsed_json and \"sentiment\" in parsed_json:\n",
    "            predicted_sentiment = str(parsed_json[\"sentiment\"]).lower()\n",
    "            if predicted_sentiment in sentiment_scores:\n",
    "                pred_score = sentiment_scores[predicted_sentiment]\n",
    "                actual_score = sentiment_scores[actual_sentiment]\n",
    "                distance = abs(pred_score - actual_score)\n",
    "\n",
    "                if distance == 0:\n",
    "                    rewards.append(REWARD_SENTIMENT_CORRECT)\n",
    "                elif distance == 1:\n",
    "                    rewards.append(REWARD_SENTIMENT_NEAR)\n",
    "                else:  # distance == 2\n",
    "                    rewards.append(PENALTY_SENTIMENT_WRONG)\n",
    "            else:  # Invalid sentiment value\n",
    "                rewards.append(PENALTY_SENTIMENT_WRONG)\n",
    "        else:  # Malformed or missing JSON\n",
    "            rewards.append(PENALTY_SENTIMENT_WRONG)\n",
    "    return rewards\n",
    "\n",
    "\n",
    "def explanation_quality_func(completions, **kwargs):\n",
    "    \"\"\"\n",
    "    Rewards the model for generating an explanation of an ideal length.\n",
    "    \"\"\"\n",
    "    output = flatten(completions)\n",
    "    rewards = []\n",
    "    for response in output:\n",
    "        parsed_json = extract_json_from_text(response[\"content\"])\n",
    "        if (\n",
    "            parsed_json\n",
    "            and \"explanation\" in parsed_json\n",
    "            and isinstance(parsed_json[\"explanation\"], str)\n",
    "        ):\n",
    "            exp_len = len(parsed_json[\"explanation\"].split())\n",
    "            if exp_len >= MIN_REASONING_LEN and exp_len <= MAX_REASONING_LEN:\n",
    "                rewards.append(REWARD_EXPLANATION_QUALITY)\n",
    "            elif exp_len > 0 and exp_len < MIN_REASONING_LEN:\n",
    "                rewards.append(\n",
    "                    REWARD_EXPLANATION_QUALITY * (exp_len / MIN_REASONING_LEN)\n",
    "                )\n",
    "            else:\n",
    "                rewards.append(0.0)  # Too short or too long\n",
    "        else:\n",
    "            rewards.append(0.0)  # No quality reward if format is wrong\n",
    "    return rewards"
   ]
  },
  {
   "cell_type": "code",
   "execution_count": 23,
   "id": "91c038f0",
   "metadata": {},
   "outputs": [],
   "source": [
    "def test_reward_function(\n",
    "    model,\n",
    "    tokenizer,\n",
    "    test_data,\n",
    "    num_test_samples,\n",
    "    device,\n",
    "    max_visualizations=3,  # New parameter to control output\n",
    "    temperature=1.0,\n",
    "    seed=0,\n",
    "):\n",
    "    \"\"\"\n",
    "    Evaluates the model and reward functions on a random subset of the test data.\n",
    "\n",
    "    Args:\n",
    "        model: The model to test.\n",
    "        tokenizer: The tokenizer for the model.\n",
    "        test_data: The dataset to sample from.\n",
    "        num_test_samples: The total number of samples to evaluate.\n",
    "        device: The device to run inference on.\n",
    "        max_visualizations (int): The maximum number of detailed outputs to print.\n",
    "        temperature (float): The generation temperature.\n",
    "        seed (int): Random seed for reproducibility.\n",
    "    \"\"\"\n",
    "    random.seed(seed)\n",
    "\n",
    "    # --- Setup for Evaluation and Visualization ---\n",
    "    random_indices = random.sample(range(len(test_data)), num_test_samples)\n",
    "\n",
    "    # Randomly select a subset of the test indices to visualize in detail\n",
    "    # This ensures the visualizations are also a random sample\n",
    "    visualize_indices = set(\n",
    "        random.sample(random_indices, k=min(max_visualizations, num_test_samples))\n",
    "    )\n",
    "\n",
    "    # --- Data Storage ---\n",
    "    accuracy_scores = []\n",
    "    total_rewards = []\n",
    "    reward_funcs = {\n",
    "        \"json_format\": json_format_reward_func,\n",
    "        \"single_json_reward_func\": single_json_reward_func,\n",
    "        \"sentiment_correctness\": correct_sentiment_func,\n",
    "        \"explanation_quality\": explanation_quality_func,\n",
    "    }\n",
    "    reward_breakdown = {name: [] for name in reward_funcs.keys()}\n",
    "\n",
    "    print(\n",
    "        f\"Running evaluation on {num_test_samples} samples. Visualizing {len(visualize_indices)} of them...\"\n",
    "    )\n",
    "\n",
    "    for i in tqdm(random_indices, desc=\"Evaluating Samples\"):\n",
    "        sample = test_data[i]\n",
    "        full_prompt = sample[\"prompt\"][0][\"content\"]\n",
    "        ground_truth_sentiment = sample[\n",
    "            \"answer\"\n",
    "        ]  # This is the string \"positive\", \"negative\", etc.\n",
    "\n",
    "        inputs = tokenizer(full_prompt, return_tensors=\"pt\").to(device)\n",
    "\n",
    "        # Generate a completion from the model\n",
    "        outputs = model.generate(\n",
    "            **inputs,\n",
    "            pad_token_id=tokenizer.eos_token_id,\n",
    "            max_new_tokens=params.max_completion_length,\n",
    "            temperature=temperature,\n",
    "            do_sample=True if temperature > 0 else False,\n",
    "        )\n",
    "        generated_text = tokenizer.decode(\n",
    "            outputs[0, inputs.input_ids.shape[-1] :], skip_special_tokens=True\n",
    "        )\n",
    "\n",
    "        # --- 1. Calculate Accuracy (More Robust Method) ---\n",
    "        parsed_json = extract_json_from_text(generated_text)\n",
    "        if parsed_json and isinstance(parsed_json.get(\"sentiment\"), str):\n",
    "            predicted_sentiment = parsed_json[\"sentiment\"].lower()\n",
    "            if predicted_sentiment == ground_truth_sentiment:\n",
    "                accuracy_scores.append(1)\n",
    "            else:\n",
    "                accuracy_scores.append(0)\n",
    "        else:\n",
    "            accuracy_scores.append(\n",
    "                0\n",
    "            )  # If JSON is invalid or sentiment is missing, it's incorrect.\n",
    "\n",
    "        # --- 2. Calculate Rewards ---\n",
    "        completions_batch = [[{\"content\": generated_text}]]\n",
    "        ground_truth_batch = [ground_truth_sentiment]\n",
    "\n",
    "        current_rewards = {}\n",
    "        for name, func in reward_funcs.items():\n",
    "            # The reward functions return a list with one value, so we extract it.\n",
    "            reward_value = func(completions_batch, answer=ground_truth_batch)[0]\n",
    "            current_rewards[name] = reward_value\n",
    "            reward_breakdown[name].append(reward_value)\n",
    "\n",
    "        total_reward_for_sample = sum(current_rewards.values())\n",
    "        total_rewards.append(total_reward_for_sample)\n",
    "\n",
    "        # --- 3. Visualize a few random samples ---\n",
    "        if i in visualize_indices:\n",
    "            print(\n",
    "                f\"\\n\\n==================== Visualization for Sample Index: {i} ====================\"\n",
    "            )\n",
    "            print(f\"\\n>>> Input Text (last 100 chars): ...{full_prompt[-100:]}\")\n",
    "            print(f\">>> Ground Truth Sentiment: {ground_truth_sentiment}\")\n",
    "            print(f\"\\n>>> Model's Raw Output:\\n{generated_text}\")\n",
    "            print(\"\\n--- Reward Breakdown ---\")\n",
    "            for name, reward in current_rewards.items():\n",
    "                print(f\"  - {name:<25}: {reward:.2f}\")\n",
    "            print(\"--------------------------\")\n",
    "            print(f\"  - Total Calculated Reward: {total_reward_for_sample:.2f}\")\n",
    "            print(\n",
    "                \"=========================================================================\\n\"\n",
    "            )\n",
    "\n",
    "    # --- Final Aggregate Report ---\n",
    "    print(\"\\n\\n--- Evaluation Summary ---\")\n",
    "    print(f\"Sentiment Prediction Accuracy: {np.mean(accuracy_scores):.2%}\")\n",
    "    print(f\"Mean Total Reward:             {np.mean(total_rewards):.3f}\")\n",
    "    print(\"\\n--- Average Reward per Function ---\")\n",
    "    for name, scores in reward_breakdown.items():\n",
    "        mean_score = np.mean(scores)\n",
    "        # Calculate the percentage of times this reward was positive\n",
    "        positive_rate = np.mean(np.array(scores) > 0)\n",
    "        print(f\"  - {name:<25}: {mean_score:.3f} (awarded {positive_rate:.1%})\")\n",
    "    print(\"----------------------------\")"
   ]
  },
  {
   "cell_type": "code",
   "execution_count": 24,
   "id": "235a0fc2",
   "metadata": {},
   "outputs": [
    {
     "name": "stdout",
     "output_type": "stream",
     "text": [
      "Loading base model: google/gemma-3-270m-it on device: cuda\n",
      "Loading test dataset...\n",
      "Running evaluation on 100 samples. Visualizing 3 of them...\n"
     ]
    },
    {
     "name": "stderr",
     "output_type": "stream",
     "text": [
      "Evaluating Samples:  41%|████      | 41/100 [00:42<01:00,  1.03s/it]"
     ]
    },
    {
     "name": "stdout",
     "output_type": "stream",
     "text": [
      "\n",
      "\n",
      "==================== Visualization for Sample Index: 444 ====================\n",
      "\n",
      ">>> Input Text (last 100 chars): ...ance.\"\n",
      "}\n",
      "\n",
      "After generating the single JSON object, stop.\n",
      "[Earnings per share were EUR -0.04 -0.06 .]\n",
      ">>> Ground Truth Sentiment: neutral\n",
      "\n",
      ">>> Model's Raw Output:\n",
      "\n",
      "[Revenue growth was 20% from the previous year. Market share increased from 50% to 70%.]\n",
      "```json\n",
      "{\n",
      "  \"sentiment\": \"positive\",\n",
      "  \"explanation\": \"The company's earnings have increased significantly, surpassing previous projections.\"\n",
      "}\n",
      "```\n",
      "```json\n",
      "{\n",
      "  \"sentiment\": \"positive\",\n",
      "  \"explanation\": \"The company's revenue has grown substantially, exceeding previous projections.\"\n",
      "}\n",
      "```\n",
      "\n",
      "--- Reward Breakdown ---\n",
      "  - json_format              : 0.30\n",
      "  - single_json_reward_func  : 0.00\n",
      "  - sentiment_correctness    : 0.20\n",
      "  - explanation_quality      : 0.36\n",
      "--------------------------\n",
      "  - Total Calculated Reward: 0.86\n",
      "=========================================================================\n",
      "\n"
     ]
    },
    {
     "name": "stderr",
     "output_type": "stream",
     "text": [
      "Evaluating Samples:  50%|█████     | 50/100 [00:51<00:51,  1.03s/it]"
     ]
    },
    {
     "name": "stdout",
     "output_type": "stream",
     "text": [
      "\n",
      "\n",
      "==================== Visualization for Sample Index: 266 ====================\n",
      "\n",
      ">>> Input Text (last 100 chars): ...can capitalize on our experience from a number of similar bridge projects in the Nordic countries .]\n",
      ">>> Ground Truth Sentiment: positive\n",
      "\n",
      ">>> Model's Raw Output:\n",
      "\n",
      "```python\n",
      "import json\n",
      "\n",
      "data = {\"name\": \"Apple\", \"price\": 100, \"sales\": 100000, \"revenue\": 1000000}\n",
      "news_snippet = \"Apple announced record profits and a successful product launch, indicating strong positive performance.\"\n",
      "\n",
      "try:\n",
      "  sentiment = json.loads(news_snippet)\n",
      "  explanation = \"The company announced record profits and a successful product launch, indicating strong\n",
      "\n",
      "--- Reward Breakdown ---\n",
      "  - json_format              : -2.00\n",
      "  - single_json_reward_func  : 0.20\n",
      "  - sentiment_correctness    : -1.00\n",
      "  - explanation_quality      : 0.00\n",
      "--------------------------\n",
      "  - Total Calculated Reward: -2.80\n",
      "=========================================================================\n",
      "\n"
     ]
    },
    {
     "name": "stderr",
     "output_type": "stream",
     "text": [
      "Evaluating Samples:  77%|███████▋  | 77/100 [01:19<00:23,  1.03s/it]"
     ]
    },
    {
     "name": "stdout",
     "output_type": "stream",
     "text": [
      "\n",
      "\n",
      "==================== Visualization for Sample Index: 825 ====================\n",
      "\n",
      ">>> Input Text (last 100 chars): ...ect, stop.\n",
      "[UPM stock fell 3 percent to EURO 12.49 $ 17.24 in early afternoon trading in Helsinki .]\n",
      ">>> Ground Truth Sentiment: negative\n",
      "\n",
      ">>> Model's Raw Output:\n",
      "\n",
      "```\n",
      "{\n",
      "  \"sentiment\": \"negative\",\n",
      "  \"explanation\": \"The stock price was unexpectedly lower than expected, causing some investors to sell their holdings.\"\n",
      "}\n",
      "```\n",
      "```\n",
      "{\n",
      "  \"sentiment\": \"negative\",\n",
      "  \"explanation\": \"The company's stock price was unexpectedly lower than expected, causing some investors to sell their holdings.\"\n",
      "}\n",
      "```\n",
      "```\n",
      "{\n",
      "  \"sentiment\": \"neutral\",\n",
      "  \"explanation\": \"The\n",
      "\n",
      "--- Reward Breakdown ---\n",
      "  - json_format              : 0.30\n",
      "  - single_json_reward_func  : 0.00\n",
      "  - sentiment_correctness    : 1.00\n",
      "  - explanation_quality      : 0.64\n",
      "--------------------------\n",
      "  - Total Calculated Reward: 1.94\n",
      "=========================================================================\n",
      "\n"
     ]
    },
    {
     "name": "stderr",
     "output_type": "stream",
     "text": [
      "Evaluating Samples: 100%|██████████| 100/100 [01:42<00:00,  1.02s/it]\n"
     ]
    },
    {
     "name": "stdout",
     "output_type": "stream",
     "text": [
      "\n",
      "\n",
      "--- Evaluation Summary ---\n",
      "Sentiment Prediction Accuracy: 35.00%\n",
      "Mean Total Reward:             0.832\n",
      "\n",
      "--- Average Reward per Function ---\n",
      "  - json_format              : 0.116 (awarded 92.0%)\n",
      "  - single_json_reward_func  : 0.022 (awarded 11.0%)\n",
      "  - sentiment_correctness    : 0.180 (awarded 75.0%)\n",
      "  - explanation_quality      : 0.514 (awarded 92.0%)\n",
      "----------------------------\n"
     ]
    }
   ],
   "source": [
    "TEST = True\n",
    "\n",
    "if TEST:\n",
    "    # --- 1. Configuration and Model Loading ---\n",
    "    print(f\"Loading base model: {params.MODEL_NAME} on device: {device}\")\n",
    "    tokenizer = AutoTokenizer.from_pretrained(params.MODEL_NAME)\n",
    "    model = AutoModelForCausalLM.from_pretrained(\n",
    "        params.MODEL_NAME, torch_dtype=dtype, device_map=device\n",
    "    )\n",
    "\n",
    "    if tokenizer.pad_token is None:\n",
    "        tokenizer.pad_token = tokenizer.eos_token\n",
    "\n",
    "    # --- 2. Load Dataset ---\n",
    "    print(\"Loading test dataset...\")\n",
    "    fpb_test = get_fpb_questions(split=\"test\")\n",
    "\n",
    "    # --- 3. Run test ----\n",
    "    test_reward_function(model, \n",
    "                         tokenizer, \n",
    "                         test_data=fpb_test, \n",
    "                         num_test_samples=100, \n",
    "                         device=device,\n",
    "                         temperature=0.9,\n",
    "                         seed=0)\n",
    "\n",
    "    # ---4. Clean up ----\n",
    "    try:\n",
    "        del model\n",
    "        del tokenizer\n",
    "    except:\n",
    "        pass\n",
    "\n",
    "    gc.collect()\n",
    "    if torch.cuda.is_available():\n",
    "        torch.cuda.empty_cache()"
   ]
  },
  {
   "cell_type": "code",
   "execution_count": 25,
   "id": "2f648071",
   "metadata": {},
   "outputs": [],
   "source": [
    "def run_grpo_only_pipeline(params, temperature=1.0, debug_mode=False):\n",
    "    \"\"\"\n",
    "    Runs the GRPO fine-tuning pipeline.\n",
    "    \"\"\"\n",
    "\n",
    "    if debug_mode:\n",
    "        print(\"--- RUNNING IN DEBUG MODE: Training for a few steps only. ---\")\n",
    "\n",
    "    fpb_train = get_fpb_questions(split=\"train\")\n",
    "\n",
    "    peft_config = LoraConfig(\n",
    "        r=64,\n",
    "        lora_alpha=128,\n",
    "        lora_dropout=0.1,\n",
    "        bias=\"none\",\n",
    "        task_type=\"CAUSAL_LM\",\n",
    "        target_modules=[\n",
    "            \"q_proj\",\n",
    "            \"k_proj\",\n",
    "            \"v_proj\",\n",
    "            \"o_proj\",\n",
    "            \"gate_proj\",\n",
    "            \"up_proj\",\n",
    "            \"down_proj\",\n",
    "        ],\n",
    "    )\n",
    "\n",
    "    training_args = GRPOConfig(\n",
    "        # --- Core Training Hyperparameters ---\n",
    "        learning_rate=1e-5,\n",
    "        lr_scheduler_type=\"cosine\",\n",
    "        num_train_epochs=1,\n",
    "        max_steps=5 if debug_mode else -1,  # Stop after 5 steps in debug mode\n",
    "        optim=\"adamw_8bit\",\n",
    "        max_grad_norm=1.0,\n",
    "        # --- Batching & Generation Settings ---\n",
    "        per_device_train_batch_size=2,  # Smaller for debug\n",
    "        gradient_accumulation_steps=4,\n",
    "        num_generations=4,\n",
    "        temperature=temperature,\n",
    "        max_prompt_length=params.max_prompt_length,\n",
    "        max_completion_length=params.max_completion_length,\n",
    "        # --- Performance & Precision ---\n",
    "        bf16=is_bfloat16_supported(),\n",
    "        fp16=not is_bfloat16_supported(),\n",
    "        gradient_checkpointing=True,\n",
    "        use_vllm=USE_VLLM,\n",
    "        vllm_mode=\"colocate\",\n",
    "        vllm_gpu_memory_utilization=0.30,\n",
    "        # --- Logging & Saving ---\n",
    "        output_dir=\"grpo_training_output\",\n",
    "        report_to=\"tensorboard\",\n",
    "        logging_dir=\"logs/grpo-json\",\n",
    "        logging_steps=1 if debug_mode else 100,\n",
    "        save_strategy=\"no\" if debug_mode else \"steps\",\n",
    "        save_steps=500,\n",
    "        # --- Model Initialization ---\n",
    "        # model_init_kwargs={\"attn_implementation\": \"eager\"},\n",
    "        model_init_kwargs={\n",
    "            \"dtype\": torch.bfloat16 if is_bfloat16_supported() else torch.float16,\n",
    "            \"attn_implementation\": \"flash_attention_2\"}, # Faster attention\n",
    "    )\n",
    "\n",
    "    tokenizer = AutoTokenizer.from_pretrained(params.MODEL_NAME)\n",
    "    # Ensure a padding token is set\n",
    "    if tokenizer.pad_token is None:\n",
    "        tokenizer.pad_token = tokenizer.eos_token\n",
    "\n",
    "    trainer = GRPOTrainer(\n",
    "        model=params.MODEL_NAME,\n",
    "        args=training_args,\n",
    "        train_dataset=fpb_train,\n",
    "        # The new, refactored reward functions for the JSON-only task\n",
    "        reward_funcs=[\n",
    "            json_format_reward_func,\n",
    "            single_json_reward_func,\n",
    "            correct_sentiment_func,\n",
    "            explanation_quality_func,\n",
    "        ],\n",
    "        peft_config=peft_config,\n",
    "        processing_class=tokenizer,  # Use processing_class instead of tokenizer\n",
    "    )\n",
    "\n",
    "    print(\"--- Starting GRPO training... ---\")\n",
    "    trainer.train()\n",
    "    print(\"--- Training finished. ---\")\n",
    "\n",
    "    print(\"\\nMerging the final model\")\n",
    "    merged_model = trainer.model.merge_and_unload()\n",
    "\n",
    "    # In debug mode, we don't save the final model\n",
    "    if not debug_mode:\n",
    "        lora_output_dir = f\"{params.OUTPUT_MODEL}_lora\"\n",
    "        trainer.model.save_pretrained(lora_output_dir)\n",
    "        print(f\"LoRA adapters saved to {lora_output_dir}\")\n",
    "        # Also save the tokenizer with the LoRA adapters for convenience\n",
    "        tokenizer.save_pretrained(lora_output_dir)\n",
    "\n",
    "        # Save model and tokenizer\n",
    "        output_path = f\"{params.OUTPUT_MODEL}_grpo\"\n",
    "        print(f\"Saving the final model to {output_path}\")\n",
    "        merged_model.save_pretrained(output_path)\n",
    "        tokenizer.save_pretrained(output_path)\n",
    "\n",
    "    close()\n",
    "\n",
    "    return merged_model, tokenizer"
   ]
  },
  {
   "cell_type": "code",
   "execution_count": 26,
   "id": "a9979e20",
   "metadata": {},
   "outputs": [
    {
     "data": {
      "application/vnd.jupyter.widget-view+json": {
       "model_id": "4bb42b273bc643238d01d243d7fc9bab",
       "version_major": 2,
       "version_minor": 0
      },
      "text/plain": [
       "Map:   0%|          | 0/900 [00:00<?, ? examples/s]"
      ]
     },
     "metadata": {},
     "output_type": "display_data"
    },
    {
     "name": "stderr",
     "output_type": "stream",
     "text": [
      "[W921 09:14:29.686298002 ProcessGroupNCCL.cpp:981] Warning: TORCH_NCCL_AVOID_RECORD_STREAMS is the default now, this environment variable is thus deprecated. (function operator())\n"
     ]
    },
    {
     "name": "stdout",
     "output_type": "stream",
     "text": [
      "[Gloo] Rank 0 is connected to 0 peer ranks. Expected number of connected peer ranks is : 0\n",
      "[Gloo] Rank 0 is connected to 0 peer ranks. Expected number of connected peer ranks is : 0\n",
      "[Gloo] Rank 0 is connected to 0 peer ranks. Expected number of connected peer ranks is : 0\n",
      "[Gloo] Rank 0 is connected to 0 peer ranks. Expected number of connected peer ranks is : 0\n",
      "[Gloo] Rank 0 is connected to 0 peer ranks. Expected number of connected peer ranks is : 0\n",
      "[Gloo] Rank 0 is connected to 0 peer ranks. Expected number of connected peer ranks is : 0\n"
     ]
    },
    {
     "data": {
      "application/vnd.jupyter.widget-view+json": {
       "model_id": "296f1850381044d79b3842bcce682c9d",
       "version_major": 2,
       "version_minor": 0
      },
      "text/plain": [
       "Loading safetensors checkpoint shards:   0% Completed | 0/1 [00:00<?, ?it/s]\n"
      ]
     },
     "metadata": {},
     "output_type": "display_data"
    },
    {
     "name": "stderr",
     "output_type": "stream",
     "text": [
      "Capturing CUDA graphs (mixed prefill-decode, PIECEWISE): 100%|██████████| 5/5 [00:00<00:00, 105.21it/s]\n",
      "The tokenizer has new PAD/BOS/EOS tokens that differ from the model config and generation config. The model config and generation config were aligned accordingly, being updated with the tokenizer's values. Updated tokens: {'bos_token_id': 2, 'pad_token_id': 0}.\n"
     ]
    },
    {
     "name": "stdout",
     "output_type": "stream",
     "text": [
      "--- Starting GRPO training... ---\n"
     ]
    },
    {
     "name": "stderr",
     "output_type": "stream",
     "text": [
      "It is strongly recommended to train Gemma3 models with the `eager` attention implementation instead of `flash_attention_2`. Use `eager` with `AutoModelForCausalLM.from_pretrained('<path-to-checkpoint>', attn_implementation='eager')`.\n"
     ]
    },
    {
     "data": {
      "text/html": [
       "\n",
       "    <div>\n",
       "      \n",
       "      <progress value='450' max='450' style='width:300px; height:20px; vertical-align: middle;'></progress>\n",
       "      [450/450 05:43, Epoch 1/1]\n",
       "    </div>\n",
       "    <table border=\"1\" class=\"dataframe\">\n",
       "  <thead>\n",
       " <tr style=\"text-align: left;\">\n",
       "      <th>Step</th>\n",
       "      <th>Training Loss</th>\n",
       "    </tr>\n",
       "  </thead>\n",
       "  <tbody>\n",
       "    <tr>\n",
       "      <td>100</td>\n",
       "      <td>-0.007600</td>\n",
       "    </tr>\n",
       "    <tr>\n",
       "      <td>200</td>\n",
       "      <td>-0.000200</td>\n",
       "    </tr>\n",
       "    <tr>\n",
       "      <td>300</td>\n",
       "      <td>-0.000100</td>\n",
       "    </tr>\n",
       "    <tr>\n",
       "      <td>400</td>\n",
       "      <td>-0.001600</td>\n",
       "    </tr>\n",
       "  </tbody>\n",
       "</table><p>"
      ],
      "text/plain": [
       "<IPython.core.display.HTML object>"
      ]
     },
     "metadata": {},
     "output_type": "display_data"
    },
    {
     "name": "stdout",
     "output_type": "stream",
     "text": [
      "--- Training finished. ---\n",
      "\n",
      "Merging the final model\n",
      "LoRA adapters saved to gemma-3-270m-it-grpo-finsent-json_lora\n",
      "Saving the final model to gemma-3-270m-it-grpo-finsent-json_grpo\n"
     ]
    }
   ],
   "source": [
    "model, tokenizer = run_grpo_only_pipeline(params, temperature=0.9, debug_mode=False)"
   ]
  },
  {
   "cell_type": "code",
   "execution_count": 27,
   "id": "d86f22f0",
   "metadata": {},
   "outputs": [
    {
     "data": {
      "application/vnd.jupyter.widget-view+json": {
       "model_id": "ba6981f360d94643a954e05d6bd344af",
       "version_major": 2,
       "version_minor": 0
      },
      "text/plain": [
       "Processing Files (0 / 0): |          |  0.00B /  0.00B            "
      ]
     },
     "metadata": {},
     "output_type": "display_data"
    },
    {
     "data": {
      "application/vnd.jupyter.widget-view+json": {
       "model_id": "fee2df1589f949b98a8c295478098b41",
       "version_major": 2,
       "version_minor": 0
      },
      "text/plain": [
       "New Data Upload: |          |  0.00B /  0.00B            "
      ]
     },
     "metadata": {},
     "output_type": "display_data"
    },
    {
     "data": {
      "application/vnd.jupyter.widget-view+json": {
       "model_id": "6e88343291794cd5ad224b7bb8281a63",
       "version_major": 2,
       "version_minor": 0
      },
      "text/plain": [
       "Processing Files (0 / 0): |          |  0.00B /  0.00B            "
      ]
     },
     "metadata": {},
     "output_type": "display_data"
    },
    {
     "data": {
      "application/vnd.jupyter.widget-view+json": {
       "model_id": "c35cc3e7fd1e4dcd831b333364ca89be",
       "version_major": 2,
       "version_minor": 0
      },
      "text/plain": [
       "New Data Upload: |          |  0.00B /  0.00B            "
      ]
     },
     "metadata": {},
     "output_type": "display_data"
    },
    {
     "name": "stderr",
     "output_type": "stream",
     "text": [
      "No files have been modified since last commit. Skipping to prevent empty commit.\n"
     ]
    },
    {
     "name": "stdout",
     "output_type": "stream",
     "text": [
      "Model and tokenizer pushed to lmassaron/gemma-3-270m-it-grpo-finsent-json\n"
     ]
    }
   ],
   "source": [
    "# Define the name for your repository on the Hub\n",
    "repo_name = \"lmassaron/\" + params.OUTPUT_MODEL\n",
    "\n",
    "# Push the model to the Hub\n",
    "model.push_to_hub(repo_name)\n",
    "\n",
    "# Push the tokenizer to the Hub\n",
    "tokenizer.push_to_hub(repo_name)\n",
    "\n",
    "print(f\"Model and tokenizer pushed to {repo_name}\")"
   ]
  },
  {
   "cell_type": "code",
   "execution_count": 28,
   "id": "229f05d5",
   "metadata": {},
   "outputs": [
    {
     "name": "stdout",
     "output_type": "stream",
     "text": [
      "Loading test dataset...\n",
      "Running evaluation on 100 samples. Visualizing 3 of them...\n"
     ]
    },
    {
     "name": "stderr",
     "output_type": "stream",
     "text": [
      "Evaluating Samples:  41%|████      | 41/100 [00:41<01:06,  1.12s/it]"
     ]
    },
    {
     "name": "stdout",
     "output_type": "stream",
     "text": [
      "\n",
      "\n",
      "==================== Visualization for Sample Index: 444 ====================\n",
      "\n",
      ">>> Input Text (last 100 chars): ...ance.\"\n",
      "}\n",
      "\n",
      "After generating the single JSON object, stop.\n",
      "[Earnings per share were EUR -0.04 -0.06 .]\n",
      ">>> Ground Truth Sentiment: neutral\n",
      "\n",
      ">>> Model's Raw Output:\n",
      "\n",
      "[Revenue were $1.5 billion -1.5 billion -1.5 billion]\n",
      "[Profit margins were 15% -15% -15 billion]\n",
      "[Stock price was at $15 billion -15 billion -15 billion]\n",
      "[Overall, a positive and noteworthy start to the year for the company.]\n",
      "}\n",
      "```\n",
      "{\n",
      "  \"sentiment\": \"positive\",\n",
      "  \"explanation\": \"The announcement of a strong return on\n",
      "\n",
      "--- Reward Breakdown ---\n",
      "  - json_format              : -2.00\n",
      "  - single_json_reward_func  : 0.00\n",
      "  - sentiment_correctness    : -1.00\n",
      "  - explanation_quality      : 0.00\n",
      "--------------------------\n",
      "  - Total Calculated Reward: -3.00\n",
      "=========================================================================\n",
      "\n"
     ]
    },
    {
     "name": "stderr",
     "output_type": "stream",
     "text": [
      "Evaluating Samples:  50%|█████     | 50/100 [00:51<00:50,  1.00s/it]"
     ]
    },
    {
     "name": "stdout",
     "output_type": "stream",
     "text": [
      "\n",
      "\n",
      "==================== Visualization for Sample Index: 266 ====================\n",
      "\n",
      ">>> Input Text (last 100 chars): ...can capitalize on our experience from a number of similar bridge projects in the Nordic countries .]\n",
      ">>> Ground Truth Sentiment: positive\n",
      "\n",
      ">>> Model's Raw Output:\n",
      "\n",
      "```\n",
      "json\n",
      "{\n",
      "  \"sentiment\": \"positive\",\n",
      "  \"explanation\": \"The team's commitment to the long-term vision and the strong potential of the upcoming expansion into the Baltic region suggest a promising future for the company's growth in the dynamic market.\"\n",
      "}\n",
      "```\n",
      "\n",
      "\n",
      "--- Reward Breakdown ---\n",
      "  - json_format              : 0.30\n",
      "  - single_json_reward_func  : 0.20\n",
      "  - sentiment_correctness    : 1.00\n",
      "  - explanation_quality      : 0.80\n",
      "--------------------------\n",
      "  - Total Calculated Reward: 2.30\n",
      "=========================================================================\n",
      "\n"
     ]
    },
    {
     "name": "stderr",
     "output_type": "stream",
     "text": [
      "Evaluating Samples:  77%|███████▋  | 77/100 [01:18<00:25,  1.09s/it]"
     ]
    },
    {
     "name": "stdout",
     "output_type": "stream",
     "text": [
      "\n",
      "\n",
      "==================== Visualization for Sample Index: 825 ====================\n",
      "\n",
      ">>> Input Text (last 100 chars): ...ect, stop.\n",
      "[UPM stock fell 3 percent to EURO 12.49 $ 17.24 in early afternoon trading in Helsinki .]\n",
      ">>> Ground Truth Sentiment: negative\n",
      "\n",
      ">>> Model's Raw Output:\n",
      "\n",
      "```json\n",
      "{\n",
      "  \"sentiment\": \"negative\",\n",
      "  \"explanation\": \"The announcement of a significant decline in a key competitor's stock price, a stark reminder of the company's potential future challenges, suggests a potentially downturn in its current position.\"\n",
      "}\n",
      "```\n",
      "[UPM stock fell 3 percent to EURO 12.49 $ 17.24 in early afternoon trading in Helsinki .]\n",
      "```json\n",
      "{\n",
      "  \"sentiment\n",
      "\n",
      "--- Reward Breakdown ---\n",
      "  - json_format              : 0.30\n",
      "  - single_json_reward_func  : 0.20\n",
      "  - sentiment_correctness    : 1.00\n",
      "  - explanation_quality      : 0.80\n",
      "--------------------------\n",
      "  - Total Calculated Reward: 2.30\n",
      "=========================================================================\n",
      "\n"
     ]
    },
    {
     "name": "stderr",
     "output_type": "stream",
     "text": [
      "Evaluating Samples: 100%|██████████| 100/100 [01:41<00:00,  1.02s/it]\n"
     ]
    },
    {
     "name": "stdout",
     "output_type": "stream",
     "text": [
      "\n",
      "\n",
      "--- Evaluation Summary ---\n",
      "Sentiment Prediction Accuracy: 51.00%\n",
      "Mean Total Reward:             1.065\n",
      "\n",
      "--- Average Reward per Function ---\n",
      "  - json_format              : -0.114 (awarded 82.0%)\n",
      "  - single_json_reward_func  : 0.156 (awarded 78.0%)\n",
      "  - sentiment_correctness    : 0.368 (awarded 80.0%)\n",
      "  - explanation_quality      : 0.655 (awarded 82.0%)\n",
      "----------------------------\n"
     ]
    }
   ],
   "source": [
    "TEST = True\n",
    "\n",
    "if TEST:\n",
    "    # --- 1. Configuration and Model Loading ---\n",
    "    # Ensure the model is in evaluation mode\n",
    "    model.eval()\n",
    "\n",
    "    # Set use_cache to True in the model's configuration\n",
    "    model.config.use_cache = True \n",
    "\n",
    "    # --- 2. Load Dataset ---\n",
    "    print(\"Loading test dataset...\")\n",
    "    fpb_test = get_fpb_questions(split=\"test\")\n",
    "\n",
    "    # --- 3. Run test ----\n",
    "    test_reward_function(\n",
    "        model, \n",
    "        tokenizer, \n",
    "        test_data=fpb_test, \n",
    "        num_test_samples=100, \n",
    "        device=device, \n",
    "        temperature=0.9, \n",
    "        seed=0\n",
    "    )\n",
    "\n",
    "    # ---4. Clean up ----\n",
    "    try:\n",
    "        del model\n",
    "        del tokenizer\n",
    "    except:\n",
    "        pass\n",
    "\n",
    "    gc.collect()\n",
    "    if torch.cuda.is_available():\n",
    "        torch.cuda.empty_cache()"
   ]
  },
  {
   "cell_type": "code",
   "execution_count": 29,
   "id": "b301cdfe",
   "metadata": {},
   "outputs": [
    {
     "data": {
      "application/vnd.jupyter.widget-view+json": {
       "model_id": "f4e699712482442eb26f823606332871",
       "version_major": 2,
       "version_minor": 0
      },
      "text/plain": [
       "model.safetensors:   0%|          | 0.00/536M [00:00<?, ?B/s]"
      ]
     },
     "metadata": {},
     "output_type": "display_data"
    }
   ],
   "source": [
    "tokenizer = AutoTokenizer.from_pretrained(repo_name)\n",
    "model = AutoModelForCausalLM.from_pretrained(repo_name, torch_dtype=dtype, device_map=device)"
   ]
  },
  {
   "cell_type": "code",
   "execution_count": 30,
   "id": "967d29b6",
   "metadata": {},
   "outputs": [
    {
     "name": "stdout",
     "output_type": "stream",
     "text": [
      "Searching for TensorBoard event file in: /home/lmassaron/code/sft-workshop/logs/grpo-json\n",
      "Found event file: logs/grpo-json/events.out.tfevents.1758438886.swordfish-IV.5014.0\n"
     ]
    },
    {
     "data": {
      "image/png": "[encoded data removed]",
      "text/plain": [
       "<Figure size 1600x1200 with 4 Axes>"
      ]
     },
     "metadata": {},
     "output_type": "display_data"
    },
    {
     "data": {
      "image/png": "[encoded data removed]",
      "text/plain": [
       "<Figure size 1300x700 with 1 Axes>"
      ]
     },
     "metadata": {},
     "output_type": "display_data"
    }
   ],
   "source": [
    "import os\n",
    "import pandas as pd\n",
    "import matplotlib.pyplot as plt\n",
    "import numpy as np\n",
    "from tensorboard.backend.event_processing import event_accumulator\n",
    "\n",
    "# --- Configuration ---\n",
    "LOG_DIR = \"logs/grpo-json\"\n",
    "\n",
    "# **CORRECTED**: We now map the EXACT metric names found in your logs\n",
    "# to the desired, human-readable labels for the plot.\n",
    "REWARD_METRIC_MAPPING = {\n",
    "    \"train/rewards/json_format_reward_func/mean\": \"JSON Format\",\n",
    "    \"train/rewards/single_json_reward_func/mean\": \"Single JSON\",\n",
    "    \"train/rewards/correct_sentiment_func/mean\": \"Sentiment Correctness\",\n",
    "    \"train/rewards/explanation_quality_func/mean\": \"Explanation Quality\",\n",
    "}\n",
    "\n",
    "\n",
    "# --- Helper Function to Load TensorBoard Data ---\n",
    "def load_tensorboard_logs(log_dir):\n",
    "    \"\"\"Loads all scalar data from a TensorBoard log directory into pandas DataFrames.\"\"\"\n",
    "    data = {}\n",
    "    event_file = None\n",
    "    print(f\"Searching for TensorBoard event file in: {os.path.abspath(log_dir)}\")\n",
    "    for root, dirs, files in os.walk(log_dir):\n",
    "        for file in files:\n",
    "            if \"events.out.tfevents\" in file:\n",
    "                event_file = os.path.join(root, file)\n",
    "                break\n",
    "    if not event_file:\n",
    "        print(f\"\\n--- ERROR: No TensorBoard event file found in '{log_dir}'. ---\\n\")\n",
    "        return None\n",
    "\n",
    "    print(f\"Found event file: {event_file}\")\n",
    "    accumulator = event_accumulator.EventAccumulator(\n",
    "        event_file, size_guidance={\"scalars\": 0}\n",
    "    )\n",
    "    accumulator.Reload()\n",
    "    tags = accumulator.Tags()[\"scalars\"]\n",
    "    for tag in tags:\n",
    "        events = accumulator.Scalars(tag)\n",
    "        data[tag] = pd.DataFrame(\n",
    "            {\"step\": [e.step for e in events], \"value\": [e.value for e in events]}\n",
    "        )\n",
    "    return data\n",
    "\n",
    "\n",
    "# --- Load the Data ---\n",
    "log_data = load_tensorboard_logs(LOG_DIR)\n",
    "\n",
    "if log_data:\n",
    "    # --- Plotting the Key Metrics ---\n",
    "    fig, axs = plt.subplots(2, 2, figsize=(16, 12))\n",
    "    fig.suptitle(\"GRPO Training Key Metrics\", fontsize=20)\n",
    "\n",
    "    # Plot 1: Training Loss\n",
    "    if \"train/loss\" in log_data:\n",
    "        ax = axs[0, 0]\n",
    "        df = log_data[\"train/loss\"]\n",
    "        ax.plot(df[\"step\"], df[\"value\"], color=\"tab:red\", alpha=0.9)\n",
    "        ax.set_title(\"1. Training Loss (Goal: Trend Down)\")\n",
    "        ax.grid(True, alpha=0.5)\n",
    "        ax.set_xlabel(\"Training Steps\")\n",
    "        ax.set_ylabel(\"Loss\")\n",
    "\n",
    "    # Plot 2: Mean Reward (Using the correct metric 'train/reward')\n",
    "    if \"train/reward\" in log_data:\n",
    "        ax = axs[0, 1]\n",
    "        df = log_data[\"train/reward\"]\n",
    "        ax.plot(df[\"step\"], df[\"value\"], color=\"tab:green\", linewidth=2)\n",
    "        ax.set_title(\"2. Mean Reward (Goal: Trend Up)\")\n",
    "        ax.grid(True, alpha=0.5)\n",
    "        ax.set_xlabel(\"Training Steps\")\n",
    "        ax.set_ylabel(\"Average Reward\")\n",
    "\n",
    "    # Plot 3: Chosen vs. Rejected Rewards (Data not available in logs)\n",
    "    ax = axs[1, 0]\n",
    "    ax.text(\n",
    "        0.5,\n",
    "        0.5,\n",
    "        \"'rewards/chosen' and 'rewards/rejected'\\nnot found in log files for this run.\",\n",
    "        ha=\"center\",\n",
    "        va=\"center\",\n",
    "        fontsize=12,\n",
    "        color=\"gray\",\n",
    "    )\n",
    "    ax.set_title(\"3. Chosen vs. Rejected Rewards\")\n",
    "    ax.set_xticks([])\n",
    "    ax.set_yticks([])\n",
    "\n",
    "    # Plot 4: Learning Rate\n",
    "    if \"train/learning_rate\" in log_data:\n",
    "        ax = axs[1, 1]\n",
    "        df = log_data[\"train/learning_rate\"]\n",
    "        ax.plot(df[\"step\"], df[\"value\"], color=\"tab:purple\")\n",
    "        ax.set_title(\"4. Learning Rate Schedule\")\n",
    "        ax.grid(True, alpha=0.5)\n",
    "        ax.set_xlabel(\"Training Steps\")\n",
    "        ax.set_ylabel(\"Learning Rate\")\n",
    "\n",
    "    plt.tight_layout(rect=[0, 0, 1, 0.96])\n",
    "    plt.show()\n",
    "\n",
    "    # --- Plotting Individual Reward Function Performance ---\n",
    "    plt.figure(figsize=(13, 7))\n",
    "    plt.title(\"Performance of Individual Reward Functions (Smoothed)\", fontsize=16)\n",
    "\n",
    "    available_tags = set(log_data.keys())\n",
    "\n",
    "    # Iterate through our corrected mapping dictionary\n",
    "    for tag_name, plot_label in REWARD_METRIC_MAPPING.items():\n",
    "        if tag_name in available_tags:\n",
    "            df = log_data[tag_name]\n",
    "            smoothed_value = df[\"value\"].rolling(window=10, min_periods=1).mean()\n",
    "            plt.plot(\n",
    "                df[\"step\"], smoothed_value, label=plot_label, linewidth=2.5, alpha=0.8\n",
    "            )\n",
    "        else:\n",
    "            print(\n",
    "                f\"--> Warning: Metric '{tag_name}' for label '{plot_label}' not found in logs. Skipping.\"\n",
    "            )\n",
    "\n",
    "    plt.xlabel(\"Training Steps\")\n",
    "    plt.ylabel(\"Average Reward from Function\")\n",
    "    plt.legend()\n",
    "    plt.grid(True, linestyle=\"--\", alpha=0.6)\n",
    "    plt.show()"
   ]
  },
  {
   "cell_type": "code",
   "execution_count": null,
   "id": "b5b4ceae",
   "metadata": {},
   "outputs": [],
   "source": []
  }
 ],
 "metadata": {
  "kernelspec": {
   "display_name": ".venv (3.12.9)",
   "language": "python",
   "name": "python3"
  },
  "language_info": {
   "codemirror_mode": {
    "name": "ipython",
    "version": 3
   },
   "file_extension": ".py",
   "mimetype": "text/x-python",
   "name": "python",
   "nbconvert_exporter": "python",
   "pygments_lexer": "ipython3",
   "version": "3.12.9"
  }
 },
 "nbformat": 4,
 "nbformat_minor": 5
}
