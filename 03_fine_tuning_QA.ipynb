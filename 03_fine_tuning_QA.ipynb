{
  "cells": [
    {
      "cell_type": "markdown",
      "metadata": {
        "id": "view-in-github",
        "colab_type": "text"
      },
      "source": [
        "<a href=\"https://colab.research.google.com/github/lmassaron/fine-tuning-workshop/blob/main/03_fine_tuning_QA.ipynb\" target=\"_parent\"><img src=\"https://colab.research.google.com/assets/colab-badge.svg\" alt=\"Open In Colab\"/></a>"
      ]
    },
    {
      "cell_type": "code",
      "execution_count": null,
      "metadata": {
        "colab": {
          "base_uri": "https://localhost:8080/"
        },
        "id": "5DdB5YJlNXXq",
        "outputId": "b6d4a199-dd09-4839-91fd-0dc2fc88add9"
      },
      "outputs": [
        {
          "name": "stdout",
          "output_type": "stream",
          "text": [
            "Thu Sep 25 13:45:37 2025       \n",
            "+-----------------------------------------------------------------------------------------+\n",
            "| NVIDIA-SMI 550.163.01             Driver Version: 550.163.01     CUDA Version: 12.4     |\n",
            "|-----------------------------------------+------------------------+----------------------+\n",
            "| GPU  Name                 Persistence-M | Bus-Id          Disp.A | Volatile Uncorr. ECC |\n",
            "| Fan  Temp   Perf          Pwr:Usage/Cap |           Memory-Usage | GPU-Util  Compute M. |\n",
            "|                                         |                        |               MIG M. |\n",
            "|=========================================+========================+======================|\n",
            "|   0  NVIDIA GeForce RTX 3090        Off |   00000000:01:00.0  On |                  N/A |\n",
            "| 30%   39C    P5             31W /  350W |     482MiB /  24576MiB |     41%      Default |\n",
            "|                                         |                        |                  N/A |\n",
            "+-----------------------------------------+------------------------+----------------------+\n",
            "                                                                                         \n",
            "+-----------------------------------------------------------------------------------------+\n",
            "| Processes:                                                                              |\n",
            "|  GPU   GI   CI        PID   Type   Process name                              GPU Memory |\n",
            "|        ID   ID                                                               Usage      |\n",
            "|=========================================================================================|\n",
            "|    0   N/A  N/A      2018      G   /usr/lib/xorg/Xorg                            218MiB |\n",
            "|    0   N/A  N/A      2164      G   /usr/bin/gnome-shell                           84MiB |\n",
            "|    0   N/A  N/A      4735      G   /usr/share/code/code                          111MiB |\n",
            "|    0   N/A  N/A     31148      G   ...irefox/6836/usr/lib/firefox/firefox         13MiB |\n",
            "|    0   N/A  N/A     32431      G   /snap/slack/215/usr/lib/slack/slack            32MiB |\n",
            "+-----------------------------------------------------------------------------------------+\n"
          ]
        }
      ],
      "source": [
        "# Check the GPU information\n",
        "!nvidia-smi"
      ]
    },
    {
      "cell_type": "code",
      "execution_count": null,
      "metadata": {
        "id": "V-Gxk-fyRIzO"
      },
      "outputs": [],
      "source": [
        "# Install necessary libraries for model training and evaluation\n",
        "%%capture\n",
        "!pip install -U transformers trl peft accelerate bitsandbytes\n",
        "!pip install tenacity"
      ]
    },
    {
      "cell_type": "code",
      "execution_count": null,
      "metadata": {
        "colab": {
          "base_uri": "https://localhost:8080/"
        },
        "id": "tmVggCLHRIwm",
        "outputId": "a13e6652-c51c-436b-981e-ef310fc0902d"
      },
      "outputs": [
        {
          "name": "stdout",
          "output_type": "stream",
          "text": [
            "Using PyTorch version: 2.8.0+cu128\n",
            "Using TRL version: 0.22.2\n",
            "Using peft version: 0.17.1\n",
            "Using bitsandbytes version: 0.47.0\n"
          ]
        }
      ],
      "source": [
        "# Import and print the versions of the installed libraries\n",
        "import torch\n",
        "import trl\n",
        "import peft\n",
        "import bitsandbytes\n",
        "\n",
        "print(f\"Using PyTorch version: {torch.__version__}\")\n",
        "print(f\"Using TRL version: {trl.__version__}\")\n",
        "print(f\"Using peft version: {peft.__version__}\")\n",
        "print(f\"Using bitsandbytes version: {bitsandbytes.__version__}\")"
      ]
    },
    {
      "cell_type": "code",
      "execution_count": null,
      "metadata": {
        "id": "4XGjIbALROk6",
        "outputId": "bb707813-ccf8-46bb-81ac-269dcf15c12b"
      },
      "outputs": [
        {
          "name": "stdout",
          "output_type": "stream",
          "text": [
            "INFO 09-25 13:46:01 [__init__.py:216] Automatically detected platform cuda.\n"
          ]
        }
      ],
      "source": [
        "# Import various libraries needed for data handling, model loading, and training\n",
        "import os\n",
        "import gc\n",
        "import warnings\n",
        "import torch\n",
        "import numpy as np\n",
        "import pandas as pd\n",
        "import torch\n",
        "import subprocess\n",
        "import sys\n",
        "import random\n",
        "import matplotlib.pyplot as plt\n",
        "from datasets import Dataset, load_dataset\n",
        "from huggingface_hub import login\n",
        "from peft import LoraConfig\n",
        "from tqdm import tqdm\n",
        "from transformers import AutoModelForCausalLM, AutoTokenizer\n",
        "from transformers import set_seed\n",
        "from trl import SFTConfig, SFTTrainer"
      ]
    },
    {
      "cell_type": "code",
      "execution_count": null,
      "metadata": {
        "id": "_qqSm9JPqM5C"
      },
      "outputs": [],
      "source": [
        "DEMO = False"
      ]
    },
    {
      "cell_type": "code",
      "execution_count": null,
      "metadata": {
        "id": "MqjLdOThRIte"
      },
      "outputs": [],
      "source": [
        "# Define configuration parameters for the model and data\n",
        "class Config:\n",
        "    \"\"\"Configuration parameters\"\"\"\n",
        "\n",
        "    SIZE = \"3-1b\"\n",
        "    MODEL_NAME = f\"google/gemma-{SIZE}-it\"\n",
        "    OUTPUT_MODEL = f\"gemma-{SIZE}-sherlock-expert\"\n",
        "\n",
        "    max_seq_length = 2048\n",
        "    seed = 0"
      ]
    },
    {
      "cell_type": "code",
      "execution_count": null,
      "metadata": {
        "id": "Ar0-cOqPRIlN"
      },
      "outputs": [],
      "source": [
        "# Initialization script to set up the environment and Hugging Face login\n",
        "def init():\n",
        "    \"\"\"Initialization script\"\"\"\n",
        "    os.environ[\"TOKENIZERS_PARALLELISM\"] = \"false\"\n",
        "    os.environ[\"CUDA_VISIBLE_DEVICES\"] = \"0\"\n",
        "\n",
        "    # It is recommended to set the HF_TOKEN as an environment variable\n",
        "    token = os.environ.get(\"HF_TOKEN\")\n",
        "    if token:\n",
        "        login(token=token)\n",
        "    else:\n",
        "      try:\n",
        "        from google.colab import userdata\n",
        "        # Retrieve your Hugging Face token from Colab's secrets manager\n",
        "        # The name 'HF_TOKEN' should match the name you used in the secrets tab\n",
        "        hf_token = userdata.get('HF_TOKEN')\n",
        "\n",
        "        # Check if the token was successfully retrieved\n",
        "        if hf_token:\n",
        "            # Log in to Hugging Face using the retrieved token\n",
        "            # The `add_to_git_credential=True` argument is optional and useful if you plan to push models to the Hub\n",
        "            login(token=hf_token, add_to_git_credential=True)\n",
        "            print(\"Hugging Face login successful using Google Colab secrets!\")\n",
        "        else:\n",
        "            print(\"Error: HF_TOKEN not found in Google Colab secrets or is empty.\")\n",
        "            print(\"Please ensure you have created a secret named 'HF_TOKEN' in the 'Secrets' tab (🔑) on the left sidebar.\")\n",
        "      except:\n",
        "        print(\"HF_TOKEN not set. You might need to log in manually.\")\n",
        "\n",
        "    torch.cuda.empty_cache()\n",
        "    gc.collect()\n",
        "    warnings.filterwarnings(\"ignore\")\n",
        "\n",
        "def is_bfloat16_supported():\n",
        "    \"\"\"Checks if the current device supports bfloat16.\"\"\"\n",
        "    return torch.cuda.is_available() and torch.cuda.get_device_capability(0)[0] >= 8\n",
        "\n",
        "\n",
        "def info_device():\n",
        "    \"\"\"Get device for PyTorch\"\"\"\n",
        "    device = torch.device(\"cuda\" if torch.cuda.is_available() else \"cpu\")\n",
        "    print(f\"Using device: {device}\")\n",
        "    return device\n",
        "\n",
        "def cleanup(objects=None):\n",
        "    \"\"\"Cleans the memory\"\"\"\n",
        "    if objects is not None:\n",
        "        for obj in objects:\n",
        "            del obj\n",
        "    torch.cuda.empty_cache()\n",
        "    gc.collect()\n",
        "\n",
        "def set_deterministic(seed):\n",
        "  \"\"\"Sets all seeds and CUDA settings for deterministic results.\"\"\"\n",
        "  random.seed(seed)\n",
        "  np.random.seed(seed)\n",
        "  torch.manual_seed(seed)\n",
        "  torch.cuda.manual_seed_all(seed)  # if you are using multi-GPU. [2, 3]\n",
        "  set_seed(seed)"
      ]
    },
    {
      "cell_type": "markdown",
      "source": [
        "`install_flash_attn_conditionally` is a **smart installer** for the `flash-attn` library. Its main purpose is to **check your GPU's hardware and automatically install the correct, compatible version of the library**, or safely skip the installation if your GPU is not supported.\n",
        "\n",
        "It works in three main steps:\n",
        "\n",
        "1.  **Check for a GPU:** It first verifies that you have a CUDA-enabled NVIDIA GPU. If not, it does nothing.\n",
        "2.  **Identify the GPU Architecture:** It then checks the GPU's \"Compute Capability,\" which is like a version number that identifies its architecture (e.g., Turing, Ampere, Hopper).\n",
        "3.  **Install the Correct Version:**\n",
        "    *   For **modern GPUs** (Ampere or newer, capability >= 8.0), it installs the latest and fastest version of `flash-attn`.\n",
        "    *   For **older Turing GPUs** (capability == 7.5), it installs a specific, older version of `flash-attn` that is compatible with that hardware.\n",
        "    *   If the GPU is **not supported**, it prints a message and safely skips the installation to prevent errors.\n",
        "\n",
        "This is necessary because `flash-attn` is a low-level library that relies on specific hardware features, so you need the right version for your specific GPU.\n"
      ],
      "metadata": {
        "id": "lvSxCtojJPAw"
      }
    },
    {
      "cell_type": "markdown",
      "source": [
        "**FlashAttention is a highly optimized algorithm that completely re-imagines how the \"attention\" mechanism works inside a Transformer model.**\n",
        "\n",
        "The standard attention mechanism is the biggest bottleneck in LLMs—it's slow and uses a massive amount of GPU memory because it has to constantly read and write a huge intermediate matrix to the GPU's main memory.\n",
        "\n",
        "FlashAttention's key innovation is that it's \"IO-aware.\" It cleverly reorganizes the math and uses the GPU's super-fast on-chip memory (SRAM) to perform the calculations in small chunks, **avoiding those slow, memory-intensive read/write operations.** The result is the same, but the process is dramatically faster and more memory-efficient.\n",
        "\n",
        "The speed and memory savings from FlashAttention provide two game-changing benefits during the fine-tuning process:\n",
        "\n",
        "1.  **Faster Training:** Because each training step is faster, your entire fine-tuning job can be completed **2-4 times faster**. This saves a huge amount of time and money on GPU compute costs.\n",
        "\n",
        "2.  **Enables Longer Context:** This is its most powerful advantage. The memory usage of standard attention grows quadratically with the length of the text, making it nearly impossible to fine-tune on long documents. **FlashAttention's memory usage is linear**, meaning you can fine-tune your model on much longer context windows (e.g., 8k, 16k, or more) without running out of memory. This is crucial for building models that can understand long documents, summarize books, or handle extended conversations."
      ],
      "metadata": {
        "id": "mVWt-OGtKKFI"
      }
    },
    {
      "cell_type": "code",
      "execution_count": null,
      "metadata": {
        "id": "wJQUgDsNTeqr"
      },
      "outputs": [],
      "source": [
        "def install_flash_attn_conditionally():\n",
        "    \"\"\"\n",
        "    Checks the GPU's compute capability and installs the appropriate version of flash-attn.\n",
        "    \"\"\"\n",
        "    if not torch.cuda.is_available():\n",
        "        print(\"No CUDA-enabled GPU found. Skipping flash-attn installation.\")\n",
        "        return\n",
        "\n",
        "    try:\n",
        "        # Get the compute capability of the first available GPU\n",
        "        major, minor = torch.cuda.get_device_capability(0)\n",
        "        compute_capability = float(f\"{major}.{minor}\")\n",
        "        gpu_name = torch.cuda.get_device_name(0)\n",
        "        print(f\"Found GPU: {gpu_name} with Compute Capability: {compute_capability}\")\n",
        "\n",
        "        # Check for Ampere, Ada, Hopper, or newer architectures (for FlashAttention 2)\n",
        "        if compute_capability >= 8.0:\n",
        "            # Ampere, Ada, and Hopper architectures support bfloat16 and are ideal for FlashAttention 2\n",
        "            is_bf16_supported = torch.cuda.is_bf16_supported()\n",
        "            if is_bf16_supported:\n",
        "                print(\"GPU supports BF16 and is compatible with FlashAttention 2.\")\n",
        "                print(\"Proceeding with installation of the latest 'flash-attn'...\")\n",
        "                # Install the latest version of flash-attn\n",
        "                install_package(\"flash-attn\", \"-q\", \"--no-build-isolation\") # Pass arguments correctly\n",
        "                return True\n",
        "            else:\n",
        "                 print(\"GPU architecture is compatible, but BF16 is not supported. Skipping installation.\")\n",
        "                 return False\n",
        "        # Check for Turing architecture (for original FlashAttention)\n",
        "        elif compute_capability == 7.5:\n",
        "            print(\"Turing architecture GPU detected. Compatible with original FlashAttention (v1.x).\")\n",
        "            print(\"Proceeding with installation of 'flash-attn==1.0.9'...\")\n",
        "            # Install a specific version of flash-attn compatible with Turing\n",
        "            install_package(\"flash-attn==1.0.9\", \"-q\", \"--no-build-isolation\") # Pass arguments correctly\n",
        "            return True\n",
        "\n",
        "        else:\n",
        "            print(f\"GPU with compute capability {compute_capability} is not supported by flash-attn. Skipping installation.\")\n",
        "            return False\n",
        "    except Exception as e:\n",
        "        print(f\"An error occurred during GPU check or installation: {e}\")\n",
        "        return False\n",
        "\n",
        "def install_package(package_name, *pip_args):\n",
        "    \"\"\"\n",
        "    A helper function to install a pip package using subprocess.\n",
        "    \"\"\"\n",
        "    try:\n",
        "        command = [sys.executable, \"-m\", \"pip\", \"install\", package_name]\n",
        "        command.extend(pip_args) # Extend with individual arguments\n",
        "        subprocess.check_call(command)\n",
        "        print(f\"Successfully installed {package_name}.\")\n",
        "    except subprocess.CalledProcessError as e:\n",
        "        print(f\"Error installing {package_name}: {e}\")\n",
        "    except Exception as e:\n",
        "        print(f\"An unexpected error occurred: {e}\")"
      ]
    },
    {
      "cell_type": "code",
      "execution_count": null,
      "metadata": {
        "colab": {
          "base_uri": "https://localhost:8080/"
        },
        "id": "k3_Z-8ANQchp",
        "outputId": "d00ab44d-744d-4195-e9b2-a50d5808189d"
      },
      "outputs": [
        {
          "name": "stderr",
          "output_type": "stream",
          "text": [
            "Note: Environment variable`HF_TOKEN` is set and is the current active token independently from the token you've just configured.\n"
          ]
        },
        {
          "name": "stdout",
          "output_type": "stream",
          "text": [
            "Using device: cuda\n",
            "Using dtype: torch.bfloat16\n",
            "Found GPU: NVIDIA GeForce RTX 3090 with Compute Capability: 8.6\n",
            "GPU supports BF16 and is compatible with FlashAttention 2.\n",
            "Proceeding with installation of the latest 'flash-attn'...\n",
            "Successfully installed flash-attn.\n"
          ]
        }
      ],
      "source": [
        "# Initialize the environment, get parameters, device, and data type\n",
        "init()\n",
        "params = Config()\n",
        "device = info_device()\n",
        "dtype = torch.bfloat16 if is_bfloat16_supported() else torch.float16\n",
        "print(f\"Using dtype: {dtype}\")\n",
        "is_flash_attn_available = install_flash_attn_conditionally()\n",
        "set_deterministic(params.seed)"
      ]
    },
    {
      "cell_type": "code",
      "execution_count": null,
      "metadata": {
        "id": "GsqZ-Jr3R12y"
      },
      "outputs": [],
      "source": [
        "from tenacity import retry, stop_after_attempt, wait_fixed\n",
        "\n",
        "# Function to load dataset from Hugging Face Hub with retries\n",
        "@retry(stop=stop_after_attempt(5), wait=wait_fixed(10)) # Retry up to 5 times with 10 seconds delay\n",
        "def get_data(repo_id, mapping_func=None, split=\"train\"):\n",
        "    \"\"\"Upload HF dataset with retries\"\"\"\n",
        "    print(f\"Attempting to load dataset {repo_id}, split {split}...\")\n",
        "    data = load_dataset(repo_id, cache_dir=\"/tmp\")[split]\n",
        "    if mapping_func:\n",
        "      data = data.map(mapping_func)\n",
        "    print(\"Dataset loaded successfully!\")\n",
        "    return data"
      ]
    },
    {
      "cell_type": "code",
      "execution_count": null,
      "metadata": {
        "id": "h2oTLcc9R2iY",
        "outputId": "42e7ed9b-965f-4967-a025-be1366dbbd2c"
      },
      "outputs": [
        {
          "name": "stdout",
          "output_type": "stream",
          "text": [
            "Attempting to load dataset lmassaron/Sherlock_QA, split train...\n",
            "Dataset loaded successfully!\n"
          ]
        }
      ],
      "source": [
        "# Load the Sherlock QA dataset\n",
        "data = get_data(repo_id=\"lmassaron/Sherlock_QA\")"
      ]
    },
    {
      "cell_type": "code",
      "execution_count": null,
      "metadata": {
        "colab": {
          "base_uri": "https://localhost:8080/"
        },
        "id": "mCYUpfnVR6ij",
        "outputId": "78815866-2eb0-481d-b059-fa7ba52b524a"
      },
      "outputs": [
        {
          "data": {
            "text/plain": [
              "Dataset({\n",
              "    features: ['messages'],\n",
              "    num_rows: 50994\n",
              "})"
            ]
          },
          "execution_count": 12,
          "metadata": {},
          "output_type": "execute_result"
        }
      ],
      "source": [
        "data"
      ]
    },
    {
      "cell_type": "code",
      "execution_count": null,
      "metadata": {
        "id": "kWJC_gamSZEG"
      },
      "outputs": [],
      "source": [
        "# Deterministically sample k rows by setting a random_state\n",
        "if DEMO:\n",
        "    k = 1_000\n",
        "else:\n",
        "    k = len(data)\n",
        "eval_proportion = 0.1\n",
        "eval_size = int(k * eval_proportion)\n",
        "train_size = k - eval_size\n",
        "\n",
        "# Shuffle the dataset with a fixed seed for reproducibility\n",
        "shuffled_data = data.shuffle(seed=params.seed)\n",
        "\n",
        "# Select the first k elements to create your sample\n",
        "sampled_data = shuffled_data.select(range(k))\n",
        "\n",
        "# Split the sampled data into training and test sets\n",
        "train_data = sampled_data.select(range(train_size))\n",
        "eval_data = sampled_data.select(range(train_size, k))"
      ]
    },
    {
      "cell_type": "code",
      "execution_count": null,
      "metadata": {
        "id": "1UCMLF4EIQcb",
        "outputId": "4573523f-0d90-45f3-93a1-94dd80fb119e"
      },
      "outputs": [
        {
          "name": "stdout",
          "output_type": "stream",
          "text": [
            "train examples: 45895\n",
            "eval examples: 5099\n"
          ]
        }
      ],
      "source": [
        "print(f\"train examples: {len(train_data)}\")\n",
        "print(f\"eval examples: {len(eval_data)}\")"
      ]
    },
    {
      "cell_type": "markdown",
      "source": [
        "This code block performs a **two-step cleaning process** on your training and evaluation datasets to improve their quality before fine-tuning.\n",
        "\n",
        "1.  **Remove the System Prompt (`.map()`):**\n",
        "    The first step, using `remove_system_prompt`, goes through every single conversation and **deletes the initial system prompt** (e.g., \"You are a helpful assistant.\"). This is often done to force the model to learn the desired behavior purely from the user-assistant examples, rather than relying on a repetitive instruction.\n",
        "\n",
        "2.  **Filter Out Useless Examples (`.filter()`):**\n",
        "    The second step, using `is_example_useful`, inspects every conversation to see if it contains generic, unhelpful answers like \"not specified\" or \"not mentioned\". If it finds any of these phrases, it **removes the entire conversation** from the dataset. This ensures the model is only trained on high-quality examples where a meaningful answer was provided."
      ],
      "metadata": {
        "id": "NJPlIlRtRjkG"
      }
    },
    {
      "cell_type": "code",
      "execution_count": null,
      "metadata": {
        "id": "MNIGX80yY6ng"
      },
      "outputs": [],
      "source": [
        "def remove_system_prompt(example):\n",
        "    if example['messages'][0]['role'] == 'system':\n",
        "        # Return all messages except the first one\n",
        "        return {\"messages\": example['messages'][1:]}\n",
        "    return example\n",
        "\n",
        "def is_example_useful(example):\n",
        "    \"\"\"\n",
        "    Checks if an example is useful. An example is considered not useful if any\n",
        "    of its messages contain one of the unwanted phrases.\n",
        "    \"\"\"\n",
        "    unwanted_phrases = [\n",
        "        \"not specified\",\n",
        "        \"not mentioned\",\n",
        "        \"unknown\",\n",
        "        \"no information provided\",\n",
        "    ]\n",
        "\n",
        "    # Iterate through each message in the conversation\n",
        "    for message in example[\"messages\"]:\n",
        "        # Ensure content is a string before checking\n",
        "        content = message.get(\"content\") or \"\"\n",
        "\n",
        "        # Check if any unwanted phrase is in the message content\n",
        "        if any(phrase in content.lower() for phrase in unwanted_phrases):\n",
        "            return False  # Found an unwanted phrase, mark example for removal\n",
        "\n",
        "    return True  # No unwanted phrases found, keep the example\n",
        "\n",
        "train_data = train_data.map(remove_system_prompt)\n",
        "eval_data = eval_data.map(remove_system_prompt)\n",
        "\n",
        "train_data = train_data.filter(is_example_useful)\n",
        "eval_data = eval_data.filter(is_example_useful)"
      ]
    },
    {
      "cell_type": "code",
      "execution_count": null,
      "metadata": {
        "id": "50OmYdS1IQcc",
        "outputId": "a495c0e5-6aeb-401d-85e4-a161a7fa31b2"
      },
      "outputs": [
        {
          "name": "stdout",
          "output_type": "stream",
          "text": [
            "train examples: 43543\n",
            "eval examples: 4819\n"
          ]
        }
      ],
      "source": [
        "print(f\"train examples: {len(train_data)}\")\n",
        "print(f\"eval examples: {len(eval_data)}\")"
      ]
    },
    {
      "cell_type": "code",
      "execution_count": null,
      "metadata": {
        "id": "kuZoKEAGS0k9"
      },
      "outputs": [],
      "source": [
        "attn_implementation = \"flash_attention_2\" if is_flash_attn_available else \"eager\"\n",
        "\n",
        "model = AutoModelForCausalLM.from_pretrained(\n",
        "    params.MODEL_NAME,\n",
        "    torch_dtype=dtype,\n",
        "    device_map=device,\n",
        "    attn_implementation=attn_implementation\n",
        ")\n",
        "\n",
        "tokenizer = AutoTokenizer.from_pretrained(params.MODEL_NAME, max_seq_length=params.max_seq_length)\n",
        "\n",
        "# Explicitly enable use_cache for faster inference\n",
        "model.config.use_cache = True"
      ]
    },
    {
      "cell_type": "code",
      "execution_count": null,
      "metadata": {
        "colab": {
          "base_uri": "https://localhost:8080/"
        },
        "id": "h9WnzmOZVRjN",
        "outputId": "5427fd64-0e88-4a88-e2e2-215201b7d193"
      },
      "outputs": [
        {
          "name": "stdout",
          "output_type": "stream",
          "text": [
            "Model: google/gemma-3-1b-it\n",
            "Device: cuda:0\n",
            "DType: torch.bfloat16\n",
            "Attention Implementation: flash_attention_2\n"
          ]
        }
      ],
      "source": [
        "print(f\"Model: {model.name_or_path}\")\n",
        "print(f\"Device: {model.device}\")\n",
        "print(f\"DType: {model.dtype}\")\n",
        "print(f\"Attention Implementation: {attn_implementation}\")"
      ]
    },
    {
      "cell_type": "markdown",
      "source": [
        "### 1. `peft_config = LoraConfig(...)` - The LoRA Configuration\n",
        "\n",
        "This block sets up the rules for **LoRA (Low-Rank Adaptation)**, which is a highly efficient fine-tuning technique. Instead of training the entire multi-billion parameter model, LoRA freezes the original model and only trains a tiny set of new, small matrices that are \"injected\" into the model's architecture.\n",
        "\n",
        "**Key Parameters:**\n",
        "\n",
        "*   **`r=32` (Rank):** This is the most important parameter. It controls the \"capacity\" or complexity of the small matrices you're training. A higher `r` means more trainable parameters, which can lead to better performance but also uses more memory. `32` is a solid, common choice.\n",
        "*   **`lora_alpha=32`:** A scaling factor that controls the \"strength\" of the LoRA adaptations. A common and effective practice is to set `lora_alpha` equal to `r`.\n",
        "*   **`lora_dropout=0`:** A regularization technique to prevent overfitting. `0` means it's turned off, which is common for LoRA since you are already training very few parameters.\n",
        "*   **`bias=\"none\"`:** Specifies that you will only train the main weight matrices and not the small bias parameters, which is a standard practice for LoRA efficiency.\n",
        "*   **`task_type=\"CAUSAL_LM\"`:** This is crucial. It tells the library that you are fine-tuning a model for next-token prediction (a generative, auto-regressive model like GPT or Llama).\n",
        "*   **`target_modules=[...]`:** This is a list of **which layers inside the model you want to adapt**. The layers listed (`q_proj`, `k_proj`, `v_proj`, etc.) are the most critical components of the Transformer's attention mechanism. By targeting these, you get the most impact from your fine-tuning.\n",
        "\n",
        "---\n",
        "\n",
        "### 2. `training_arguments = SFTConfig(...)` - The Training Rulebook\n",
        "\n",
        "This block defines the complete set of rules and hyperparameters for the entire supervised fine-tuning process. It's the \"master plan\" for the trainer.\n",
        "\n",
        "**Key Parameters (Grouped by Function):**\n",
        "\n",
        "*   **Core Training Loop:**\n",
        "    *   `output_dir=\"logs\"`: Where to save model checkpoints and training logs.\n",
        "    *   `num_train_epochs=1`: The number of times to go through the entire training dataset. `1` is often sufficient for fine-tuning.\n",
        "    *   `seed=params.seed`: Sets a random seed to ensure your results are reproducible.\n",
        "\n",
        "*   **Memory and Batching:**\n",
        "    *   `per_device_train_batch_size=1`: The number of examples to process in a single step. `1` is very small, used to conserve memory.\n",
        "    *   `gradient_accumulation_steps=8`: This is a trick to simulate a larger batch size. The trainer will process 8 small batches of size 1 and *accumulate* their gradients before making a single update to the model. This achieves the stability of a larger batch size (`1 * 8 = 8`) without the high memory cost.\n",
        "\n",
        "*   **Optimizer and Learning Rate:**\n",
        "    *   `optim=\"adamw_torch_fused\"`: Specifies the optimization algorithm. `\"adamw_torch_fused\"` is a highly efficient and fast version of the standard AdamW optimizer.\n",
        "    *   `learning_rate=2e-4`: The step size the optimizer takes. This is one of the most important hyperparameters.\n",
        "    *   `lr_scheduler_type=\"cosine\"`: A popular strategy where the learning rate starts high and then gradually decreases in a cosine curve, which helps the model settle into a good minimum.\n",
        "    *   `warmup_ratio=0.1`: For the first 10% of training, the learning rate will gradually ramp *up* before starting its decay. This helps stabilize the model at the beginning.\n",
        "\n",
        "*   **Hardware and Precision:**\n",
        "    *   `fp16` and `bf16`: These control the numerical precision. The code cleverly checks if your GPU supports `bf16` (the better option) and uses it, otherwise falling back to `fp16`. Using 16-bit precision dramatically reduces memory usage and speeds up training.\n",
        "\n",
        "*   **Logging and Evaluation:**\n",
        "    *   `logging_steps` and `eval_steps`: How often (in steps) to log training metrics and run an evaluation on the `eval_data`.\n",
        "    *   `eval_strategy='steps'`: Specifies that evaluation should happen at regular step intervals.\n",
        "    *   `report_to=\"tensorboard\"`: Sends the logs to TensorBoard for visualization.\n",
        "\n",
        "*   **Dataset Handling:**\n",
        "    *   `dataset_text_field=\"messages\"`: Critically tells the trainer which column in your dataset contains the conversational data.\n",
        "    *   `max_length`: Sets the maximum sequence length for the model, truncating longer examples.\n",
        "\n",
        "---\n",
        "\n",
        "### 3. `trainer = SFTTrainer(...)` - The Trainer Initialization\n",
        "\n",
        "This is the final step where you bring everything together. You create the `SFTTrainer` object, which is the engine that will actually execute the training process based on all the configurations you've just defined.\n",
        "\n",
        "**It takes in:**\n",
        "*   `model=model`: The actual language model you want to fine-tune.\n",
        "*   `train_dataset=train_data`: Your training data.\n",
        "*   `eval_dataset=eval_data`: Your evaluation data for checking performance during training.\n",
        "*   `peft_config=peft_config`: The LoRA rules, which tells the trainer to use this efficient fine-tuning method.\n",
        "*   `processing_class=tokenizer`: The tokenizer needed to process the text data.\n",
        "*   `args=training_arguments`: The complete rulebook for the training process."
      ],
      "metadata": {
        "id": "m6bieCvQSBYA"
      }
    },
    {
      "cell_type": "code",
      "execution_count": null,
      "metadata": {
        "id": "QX14fDV5Vo2c"
      },
      "outputs": [],
      "source": [
        "# LoRA configuration\n",
        "peft_config = LoraConfig(\n",
        "    r=32,\n",
        "    lora_alpha=32,\n",
        "    lora_dropout=0,\n",
        "    bias=\"none\",\n",
        "    task_type=\"CAUSAL_LM\",\n",
        "    target_modules=[\n",
        "        \"q_proj\",\n",
        "        \"k_proj\",\n",
        "        \"v_proj\",\n",
        "        \"o_proj\",\n",
        "        \"gate_proj\",\n",
        "        \"up_proj\",\n",
        "        \"down_proj\",\n",
        "    ],\n",
        ")\n",
        "\n",
        "# SFT (Supervised Fine-tuning) configuration\n",
        "training_arguments = SFTConfig(\n",
        "    output_dir=\"logs\",\n",
        "    seed=params.seed,\n",
        "    num_train_epochs=1,\n",
        "    gradient_checkpointing=False,\n",
        "    per_device_train_batch_size=1,\n",
        "    gradient_accumulation_steps=8,\n",
        "    optim=\"adamw_torch_fused\",\n",
        "    save_steps=0,\n",
        "    logging_steps=25 if DEMO else 500,\n",
        "    learning_rate=2e-4,\n",
        "    weight_decay=0.01,\n",
        "    fp16=not(is_bfloat16_supported()),\n",
        "    bf16=is_bfloat16_supported(),\n",
        "    max_grad_norm=0.3,\n",
        "    max_steps=-1,\n",
        "    warmup_ratio=0.1,\n",
        "    group_by_length=False,\n",
        "    eval_strategy='steps',\n",
        "    eval_steps = 25 if DEMO else 500,\n",
        "    eval_accumulation_steps=1,\n",
        "    lr_scheduler_type=\"cosine\",\n",
        "    dataset_text_field=\"messages\",\n",
        "    packing=False,\n",
        "    max_length=params.max_seq_length,\n",
        "    report_to=\"tensorboard\",\n",
        ")\n",
        "\n",
        "# Initialize the trainer\n",
        "trainer = SFTTrainer(\n",
        "    model=model,\n",
        "    train_dataset=train_data,\n",
        "    eval_dataset=eval_data,\n",
        "    peft_config=peft_config,\n",
        "    processing_class=tokenizer,\n",
        "    args=training_arguments,\n",
        ")"
      ]
    },
    {
      "cell_type": "code",
      "execution_count": null,
      "metadata": {
        "colab": {
          "base_uri": "https://localhost:8080/",
          "height": 257
        },
        "id": "vKbKiqVJXDmH",
        "outputId": "c5ef406a-22b3-46ce-885b-bb5a33986b33"
      },
      "outputs": [
        {
          "name": "stderr",
          "output_type": "stream",
          "text": [
            "It is strongly recommended to train Gemma3 models with the `eager` attention implementation instead of `flash_attention_2`. Use `eager` with `AutoModelForCausalLM.from_pretrained('<path-to-checkpoint>', attn_implementation='eager')`.\n"
          ]
        },
        {
          "data": {
            "text/html": [
              "\n",
              "    <div>\n",
              "      \n",
              "      <progress value='5737' max='5737' style='width:300px; height:20px; vertical-align: middle;'></progress>\n",
              "      [5737/5737 1:14:43, Epoch 1/1]\n",
              "    </div>\n",
              "    <table border=\"1\" class=\"dataframe\">\n",
              "  <thead>\n",
              " <tr style=\"text-align: left;\">\n",
              "      <th>Step</th>\n",
              "      <th>Training Loss</th>\n",
              "      <th>Validation Loss</th>\n",
              "      <th>Entropy</th>\n",
              "      <th>Num Tokens</th>\n",
              "      <th>Mean Token Accuracy</th>\n",
              "    </tr>\n",
              "  </thead>\n",
              "  <tbody>\n",
              "    <tr>\n",
              "      <td>500</td>\n",
              "      <td>2.856700</td>\n",
              "      <td>1.945061</td>\n",
              "      <td>1.973937</td>\n",
              "      <td>118400.000000</td>\n",
              "      <td>0.651981</td>\n",
              "    </tr>\n",
              "    <tr>\n",
              "      <td>1000</td>\n",
              "      <td>1.820200</td>\n",
              "      <td>1.808372</td>\n",
              "      <td>1.809304</td>\n",
              "      <td>237475.000000</td>\n",
              "      <td>0.669743</td>\n",
              "    </tr>\n",
              "    <tr>\n",
              "      <td>1500</td>\n",
              "      <td>1.703400</td>\n",
              "      <td>1.729094</td>\n",
              "      <td>1.757508</td>\n",
              "      <td>355715.000000</td>\n",
              "      <td>0.679833</td>\n",
              "    </tr>\n",
              "    <tr>\n",
              "      <td>2000</td>\n",
              "      <td>1.621900</td>\n",
              "      <td>1.677252</td>\n",
              "      <td>1.704830</td>\n",
              "      <td>473546.000000</td>\n",
              "      <td>0.684471</td>\n",
              "    </tr>\n",
              "    <tr>\n",
              "      <td>2500</td>\n",
              "      <td>1.620200</td>\n",
              "      <td>1.637118</td>\n",
              "      <td>1.595342</td>\n",
              "      <td>591615.000000</td>\n",
              "      <td>0.690248</td>\n",
              "    </tr>\n",
              "    <tr>\n",
              "      <td>3000</td>\n",
              "      <td>1.571900</td>\n",
              "      <td>1.599872</td>\n",
              "      <td>1.554696</td>\n",
              "      <td>710596.000000</td>\n",
              "      <td>0.694682</td>\n",
              "    </tr>\n",
              "    <tr>\n",
              "      <td>3500</td>\n",
              "      <td>1.530300</td>\n",
              "      <td>1.569115</td>\n",
              "      <td>1.556101</td>\n",
              "      <td>829078.000000</td>\n",
              "      <td>0.699163</td>\n",
              "    </tr>\n",
              "    <tr>\n",
              "      <td>4000</td>\n",
              "      <td>1.520300</td>\n",
              "      <td>1.537899</td>\n",
              "      <td>1.497680</td>\n",
              "      <td>947322.000000</td>\n",
              "      <td>0.703198</td>\n",
              "    </tr>\n",
              "    <tr>\n",
              "      <td>4500</td>\n",
              "      <td>1.484100</td>\n",
              "      <td>1.520827</td>\n",
              "      <td>1.499347</td>\n",
              "      <td>1065610.000000</td>\n",
              "      <td>0.705701</td>\n",
              "    </tr>\n",
              "    <tr>\n",
              "      <td>5000</td>\n",
              "      <td>1.484600</td>\n",
              "      <td>1.510438</td>\n",
              "      <td>1.500540</td>\n",
              "      <td>1184060.000000</td>\n",
              "      <td>0.706918</td>\n",
              "    </tr>\n",
              "    <tr>\n",
              "      <td>5500</td>\n",
              "      <td>1.471800</td>\n",
              "      <td>1.507154</td>\n",
              "      <td>1.492267</td>\n",
              "      <td>1303335.000000</td>\n",
              "      <td>0.707500</td>\n",
              "    </tr>\n",
              "  </tbody>\n",
              "</table><p>"
            ],
            "text/plain": [
              "<IPython.core.display.HTML object>"
            ]
          },
          "metadata": {},
          "output_type": "display_data"
        }
      ],
      "source": [
        "# Train model\n",
        "trainer.train()\n",
        "\n",
        "# Save the fine-tuned LoRA adapter\n",
        "trainer.model.save_pretrained(\"trained-model\")"
      ]
    },
    {
      "cell_type": "code",
      "execution_count": null,
      "metadata": {
        "colab": {
          "base_uri": "https://localhost:8080/",
          "height": 472
        },
        "id": "3WzbnhgSXIVG",
        "outputId": "f0244f61-1b53-46b1-b752-79bdaa2b2b3d"
      },
      "outputs": [
        {
          "data": {
            "image/png": "[encoded data removed]",
            "text/plain": [
              "<Figure size 640x480 with 1 Axes>"
            ]
          },
          "metadata": {},
          "output_type": "display_data"
        }
      ],
      "source": [
        "# Access the log history\n",
        "log_history = trainer.state.log_history\n",
        "\n",
        "# Extract training / validation loss\n",
        "train_losses = [log[\"loss\"] for log in log_history if \"loss\" in log]\n",
        "epoch_train = [log[\"epoch\"] for log in log_history if \"loss\" in log]\n",
        "eval_losses = [log[\"eval_loss\"] for log in log_history if \"eval_loss\" in log]\n",
        "epoch_eval = [log[\"epoch\"] for log in log_history if \"eval_loss\" in log]\n",
        "\n",
        "# Plot the training loss\n",
        "plt.plot(epoch_train, train_losses, label=\"Training Loss\")\n",
        "plt.plot(epoch_eval, eval_losses, label=\"Validation Loss\")\n",
        "plt.xlabel(\"Epoch\")\n",
        "plt.ylabel(\"Loss\")\n",
        "plt.title(\"Training and Validation Loss per Epoch\")\n",
        "plt.legend()\n",
        "plt.grid(True)\n",
        "plt.show()"
      ]
    },
    {
      "cell_type": "code",
      "execution_count": null,
      "metadata": {
        "id": "HRy88PKSowMO",
        "colab": {
          "referenced_widgets": [
            "f5fd166e95b349eab31d84e15d7b8c7f",
            "dd708b57768748359e4d0f66d67428c5",
            "fd4fce147ea84dd998ef50a1398cea65",
            "4b8e46c58a8c4634a5294d5c0087faaa"
          ]
        },
        "outputId": "81175d78-aca2-4e12-81c5-5e982b8802ab"
      },
      "outputs": [
        {
          "name": "stdout",
          "output_type": "stream",
          "text": [
            "LoRA adapters saved to gemma-3-1b-sherlock-expert-lora\n"
          ]
        },
        {
          "data": {
            "application/vnd.jupyter.widget-view+json": {
              "model_id": "f5fd166e95b349eab31d84e15d7b8c7f",
              "version_major": 2,
              "version_minor": 0
            },
            "text/plain": [
              "Processing Files (0 / 0): |          |  0.00B /  0.00B            "
            ]
          },
          "metadata": {},
          "output_type": "display_data"
        },
        {
          "data": {
            "application/vnd.jupyter.widget-view+json": {
              "model_id": "dd708b57768748359e4d0f66d67428c5",
              "version_major": 2,
              "version_minor": 0
            },
            "text/plain": [
              "New Data Upload: |          |  0.00B /  0.00B            "
            ]
          },
          "metadata": {},
          "output_type": "display_data"
        },
        {
          "data": {
            "application/vnd.jupyter.widget-view+json": {
              "model_id": "fd4fce147ea84dd998ef50a1398cea65",
              "version_major": 2,
              "version_minor": 0
            },
            "text/plain": [
              "Processing Files (0 / 0): |          |  0.00B /  0.00B            "
            ]
          },
          "metadata": {},
          "output_type": "display_data"
        },
        {
          "data": {
            "application/vnd.jupyter.widget-view+json": {
              "model_id": "4b8e46c58a8c4634a5294d5c0087faaa",
              "version_major": 2,
              "version_minor": 0
            },
            "text/plain": [
              "New Data Upload: |          |  0.00B /  0.00B            "
            ]
          },
          "metadata": {},
          "output_type": "display_data"
        },
        {
          "name": "stderr",
          "output_type": "stream",
          "text": [
            "No files have been modified since last commit. Skipping to prevent empty commit.\n"
          ]
        },
        {
          "name": "stdout",
          "output_type": "stream",
          "text": [
            "Model and tokenizer pushed to lmassaron/gemma-3-1b-sherlock-expert-lora\n"
          ]
        }
      ],
      "source": [
        "if not DEMO:\n",
        "  lora_output_dir = f\"{params.OUTPUT_MODEL}-lora\"\n",
        "  trainer.model.save_pretrained(lora_output_dir)\n",
        "  print(f\"LoRA adapters saved to {lora_output_dir}\")\n",
        "  # Also save the tokenizer with the LoRA adapters for convenience\n",
        "  tokenizer.save_pretrained(lora_output_dir)\n",
        "\n",
        "  # Define the name for your repository on the Hub\n",
        "  repo_name = \"lmassaron/\" + lora_output_dir\n",
        "\n",
        "  # Push the model to the Hub\n",
        "  model.push_to_hub(repo_name)\n",
        "\n",
        "  # Push the tokenizer to the Hub\n",
        "  tokenizer.push_to_hub(repo_name)\n",
        "\n",
        "  print(f\"Model and tokenizer pushed to {repo_name}\")"
      ]
    },
    {
      "cell_type": "code",
      "execution_count": null,
      "metadata": {
        "id": "jsRE6Vxdn-1K",
        "colab": {
          "referenced_widgets": [
            "bc88423536bb4faea28ecb6ed00a70e6",
            "ef4992557c2848748402865610e2b45a",
            "face0331f65c4ac89979fd909622035e",
            "4444f037633a4d74b4f33fd4cb2b652c"
          ]
        },
        "outputId": "d00b7c52-a2f6-4c4d-90a2-8d056326deef"
      },
      "outputs": [
        {
          "name": "stdout",
          "output_type": "stream",
          "text": [
            "\n",
            "Merging the final model\n",
            "Saving the final model to gemma-3-1b-sherlock-expert\n"
          ]
        },
        {
          "data": {
            "application/vnd.jupyter.widget-view+json": {
              "model_id": "bc88423536bb4faea28ecb6ed00a70e6",
              "version_major": 2,
              "version_minor": 0
            },
            "text/plain": [
              "Processing Files (0 / 0): |          |  0.00B /  0.00B            "
            ]
          },
          "metadata": {},
          "output_type": "display_data"
        },
        {
          "data": {
            "application/vnd.jupyter.widget-view+json": {
              "model_id": "ef4992557c2848748402865610e2b45a",
              "version_major": 2,
              "version_minor": 0
            },
            "text/plain": [
              "New Data Upload: |          |  0.00B /  0.00B            "
            ]
          },
          "metadata": {},
          "output_type": "display_data"
        },
        {
          "data": {
            "application/vnd.jupyter.widget-view+json": {
              "model_id": "face0331f65c4ac89979fd909622035e",
              "version_major": 2,
              "version_minor": 0
            },
            "text/plain": [
              "Processing Files (0 / 0): |          |  0.00B /  0.00B            "
            ]
          },
          "metadata": {},
          "output_type": "display_data"
        },
        {
          "data": {
            "application/vnd.jupyter.widget-view+json": {
              "model_id": "4444f037633a4d74b4f33fd4cb2b652c",
              "version_major": 2,
              "version_minor": 0
            },
            "text/plain": [
              "New Data Upload: |          |  0.00B /  0.00B            "
            ]
          },
          "metadata": {},
          "output_type": "display_data"
        },
        {
          "name": "stderr",
          "output_type": "stream",
          "text": [
            "No files have been modified since last commit. Skipping to prevent empty commit.\n"
          ]
        },
        {
          "name": "stdout",
          "output_type": "stream",
          "text": [
            "Model and tokenizer pushed to lmassaron/gemma-3-1b-sherlock-expert\n"
          ]
        }
      ],
      "source": [
        "if not DEMO:\n",
        "  print(\"\\nMerging the final model\")\n",
        "  merged_model = trainer.model.merge_and_unload()\n",
        "\n",
        "  # Save model and tokenizer\n",
        "  output_path = f\"{params.OUTPUT_MODEL}\"\n",
        "  print(f\"Saving the final model to {output_path}\")\n",
        "  merged_model.save_pretrained(output_path)\n",
        "  tokenizer.save_pretrained(output_path)\n",
        "\n",
        "  # Define the name for your repository on the Hub\n",
        "  repo_name = \"lmassaron/\" + output_path\n",
        "\n",
        "  # Push the model to the Hub\n",
        "  model.push_to_hub(repo_name)\n",
        "\n",
        "  # Push the tokenizer to the Hub\n",
        "  tokenizer.push_to_hub(repo_name)\n",
        "\n",
        "  print(f\"Model and tokenizer pushed to {repo_name}\")"
      ]
    }
  ],
  "metadata": {
    "accelerator": "GPU",
    "colab": {
      "gpuType": "L4",
      "provenance": [],
      "include_colab_link": true
    },
    "kernelspec": {
      "display_name": ".venv (3.12.9)",
      "language": "python",
      "name": "python3"
    },
    "language_info": {
      "codemirror_mode": {
        "name": "ipython",
        "version": 3
      },
      "file_extension": ".py",
      "mimetype": "text/x-python",
      "name": "python",
      "nbconvert_exporter": "python",
      "pygments_lexer": "ipython3",
      "version": "3.12.9"
    }
  },
  "nbformat": 4,
  "nbformat_minor": 0
}