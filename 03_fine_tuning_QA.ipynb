{
  "cells": [
    {
      "cell_type": "markdown",
      "metadata": {
        "colab_type": "text",
        "id": "view-in-github"
      },
      "source": [
        "<a href=\"https://colab.research.google.com/github/lmassaron/fine-tuning-workshop/blob/main/sherlock_knowledge_sft.ipynb\" target=\"_parent\"><img src=\"https://colab.research.google.com/assets/colab-badge.svg\" alt=\"Open In Colab\"/></a>"
      ]
    },
    {
      "cell_type": "code",
      "execution_count": 1,
      "metadata": {
        "colab": {
          "base_uri": "https://localhost:8080/"
        },
        "id": "5DdB5YJlNXXq",
        "outputId": "b6d4a199-dd09-4839-91fd-0dc2fc88add9"
      },
      "outputs": [
        {
          "name": "stdout",
          "output_type": "stream",
          "text": [
            "Wed Sep 24 18:43:25 2025       \n",
            "+-----------------------------------------------------------------------------------------+\n",
            "| NVIDIA-SMI 550.163.01             Driver Version: 550.163.01     CUDA Version: 12.4     |\n",
            "|-----------------------------------------+------------------------+----------------------+\n",
            "| GPU  Name                 Persistence-M | Bus-Id          Disp.A | Volatile Uncorr. ECC |\n",
            "| Fan  Temp   Perf          Pwr:Usage/Cap |           Memory-Usage | GPU-Util  Compute M. |\n",
            "|                                         |                        |               MIG M. |\n",
            "|=========================================+========================+======================|\n",
            "|   0  NVIDIA GeForce RTX 3090        Off |   00000000:01:00.0  On |                  N/A |\n",
            "| 30%   35C    P8             29W /  350W |     431MiB /  24576MiB |      0%      Default |\n",
            "|                                         |                        |                  N/A |\n",
            "+-----------------------------------------+------------------------+----------------------+\n",
            "                                                                                         \n",
            "+-----------------------------------------------------------------------------------------+\n",
            "| Processes:                                                                              |\n",
            "|  GPU   GI   CI        PID   Type   Process name                              GPU Memory |\n",
            "|        ID   ID                                                               Usage      |\n",
            "|=========================================================================================|\n",
            "|    0   N/A  N/A      2036      G   /usr/lib/xorg/Xorg                             92MiB |\n",
            "|    0   N/A  N/A      2184      G   /usr/bin/gnome-shell                           70MiB |\n",
            "|    0   N/A  N/A     22148      C   .../code/sft-workshop/.venv/bin/python        254MiB |\n",
            "+-----------------------------------------------------------------------------------------+\n"
          ]
        }
      ],
      "source": [
        "# Check the GPU information\n",
        "!nvidia-smi"
      ]
    },
    {
      "cell_type": "code",
      "execution_count": 2,
      "metadata": {
        "id": "V-Gxk-fyRIzO"
      },
      "outputs": [],
      "source": [
        "# Install necessary libraries for model training and evaluation\n",
        "#%%capture\n",
        "#!pip install -U transformers trl peft accelerate bitsandbytes\n",
        "#!pip install tenacity"
      ]
    },
    {
      "cell_type": "code",
      "execution_count": 3,
      "metadata": {
        "colab": {
          "base_uri": "https://localhost:8080/"
        },
        "id": "tmVggCLHRIwm",
        "outputId": "a13e6652-c51c-436b-981e-ef310fc0902d"
      },
      "outputs": [
        {
          "name": "stdout",
          "output_type": "stream",
          "text": [
            "Using PyTorch version: 2.8.0+cu128\n",
            "Using TRL version: 0.22.2\n",
            "Using peft version: 0.17.1\n",
            "Using bitsandbytes version: 0.47.0\n"
          ]
        }
      ],
      "source": [
        "# Import and print the versions of the installed libraries\n",
        "import torch\n",
        "import trl\n",
        "import peft\n",
        "import bitsandbytes\n",
        "\n",
        "print(f\"Using PyTorch version: {torch.__version__}\")\n",
        "print(f\"Using TRL version: {trl.__version__}\")\n",
        "print(f\"Using peft version: {peft.__version__}\")\n",
        "print(f\"Using bitsandbytes version: {bitsandbytes.__version__}\")"
      ]
    },
    {
      "cell_type": "code",
      "execution_count": 4,
      "metadata": {
        "id": "4XGjIbALROk6"
      },
      "outputs": [
        {
          "name": "stdout",
          "output_type": "stream",
          "text": [
            "INFO 09-24 18:43:31 [__init__.py:216] Automatically detected platform cuda.\n"
          ]
        }
      ],
      "source": [
        "# Import various libraries needed for data handling, model loading, and training\n",
        "import os\n",
        "import gc\n",
        "import warnings\n",
        "import torch\n",
        "import numpy as np\n",
        "import pandas as pd\n",
        "import torch\n",
        "import subprocess\n",
        "import sys\n",
        "import random\n",
        "import matplotlib.pyplot as plt\n",
        "from datasets import Dataset, load_dataset\n",
        "from huggingface_hub import login\n",
        "from peft import LoraConfig\n",
        "from tqdm import tqdm\n",
        "from transformers import AutoModelForCausalLM, AutoTokenizer\n",
        "from transformers import set_seed\n",
        "from trl import GRPOConfig, GRPOTrainer, SFTConfig, SFTTrainer"
      ]
    },
    {
      "cell_type": "code",
      "execution_count": 5,
      "metadata": {
        "id": "_qqSm9JPqM5C"
      },
      "outputs": [],
      "source": [
        "DEMO = False"
      ]
    },
    {
      "cell_type": "code",
      "execution_count": 6,
      "metadata": {
        "id": "MqjLdOThRIte"
      },
      "outputs": [],
      "source": [
        "# Define configuration parameters for the model and data\n",
        "class Config:\n",
        "    \"\"\"Configuration parameters\"\"\"\n",
        "\n",
        "    SIZE = \"3-1b\"\n",
        "    MODEL_NAME = f\"google/gemma-{SIZE}-it\"\n",
        "    OUTPUT_MODEL = f\"gemma-{SIZE}-sherlock-expert\"\n",
        "\n",
        "    max_seq_length = 2048\n",
        "    seed = 0"
      ]
    },
    {
      "cell_type": "code",
      "execution_count": 7,
      "metadata": {
        "id": "Ar0-cOqPRIlN"
      },
      "outputs": [],
      "source": [
        "# Initialization script to set up the environment and Hugging Face login\n",
        "def init():\n",
        "    \"\"\"Initialization script\"\"\"\n",
        "    os.environ[\"HF_HUB_ENABLE_HF_TRANSFER\"] = \"0\"\n",
        "    os.environ[\"TOKENIZERS_PARALLELISM\"] = \"false\"\n",
        "    os.environ[\"CUDA_VISIBLE_DEVICES\"] = \"0\"\n",
        "    os.environ[\"PYTORCH_CUDA_ALLOC_CONF\"] = \"max_split_size_mb:128\"\n",
        "\n",
        "    # It is recommended to set the HF_TOKEN as an environment variable\n",
        "    token = os.environ.get(\"HF_TOKEN\")\n",
        "    if token:\n",
        "        login(token=token)\n",
        "    else:\n",
        "      try:\n",
        "        from google.colab import userdata\n",
        "        # Retrieve your Hugging Face token from Colab's secrets manager\n",
        "        # The name 'HF_TOKEN' should match the name you used in the secrets tab\n",
        "        hf_token = userdata.get('HF_TOKEN')\n",
        "\n",
        "        # Check if the token was successfully retrieved\n",
        "        if hf_token:\n",
        "            # Log in to Hugging Face using the retrieved token\n",
        "            # The `add_to_git_credential=True` argument is optional and useful if you plan to push models to the Hub\n",
        "            login(token=hf_token, add_to_git_credential=True)\n",
        "            print(\"Hugging Face login successful using Google Colab secrets!\")\n",
        "        else:\n",
        "            print(\"Error: HF_TOKEN not found in Google Colab secrets or is empty.\")\n",
        "            print(\"Please ensure you have created a secret named 'HF_TOKEN' in the 'Secrets' tab (🔑) on the left sidebar.\")\n",
        "      except:\n",
        "        print(\"HF_TOKEN not set. You might need to log in manually.\")\n",
        "\n",
        "    torch.cuda.empty_cache()\n",
        "    gc.collect()\n",
        "    warnings.filterwarnings(\"ignore\")\n",
        "\n",
        "def is_bfloat16_supported():\n",
        "    \"\"\"Checks if the current device supports bfloat16.\"\"\"\n",
        "    return torch.cuda.is_available() and torch.cuda.get_device_capability(0)[0] >= 8\n",
        "\n",
        "\n",
        "def info_device():\n",
        "    \"\"\"Get device for PyTorch\"\"\"\n",
        "    device = torch.device(\"cuda\" if torch.cuda.is_available() else \"cpu\")\n",
        "    print(f\"Using device: {device}\")\n",
        "    return device\n",
        "\n",
        "def cleanup(objects=None):\n",
        "    \"\"\"Cleans the memory\"\"\"\n",
        "    if objects is not None:\n",
        "        for obj in objects:\n",
        "            del obj\n",
        "    torch.cuda.empty_cache()\n",
        "    gc.collect()\n",
        "\n",
        "def set_deterministic(seed):\n",
        "  \"\"\"Sets all seeds and CUDA settings for deterministic results.\"\"\"\n",
        "  random.seed(seed)\n",
        "  np.random.seed(seed)\n",
        "  torch.manual_seed(seed)\n",
        "  torch.cuda.manual_seed_all(seed)  # if you are using multi-GPU. [2, 3]\n",
        "  set_seed(seed)"
      ]
    },
    {
      "cell_type": "code",
      "execution_count": 8,
      "metadata": {
        "id": "wJQUgDsNTeqr"
      },
      "outputs": [],
      "source": [
        "def install_flash_attn_conditionally():\n",
        "    \"\"\"\n",
        "    Checks the GPU's compute capability and installs the appropriate version of flash-attn.\n",
        "    \"\"\"\n",
        "    if not torch.cuda.is_available():\n",
        "        print(\"No CUDA-enabled GPU found. Skipping flash-attn installation.\")\n",
        "        return\n",
        "\n",
        "    try:\n",
        "        # Get the compute capability of the first available GPU\n",
        "        major, minor = torch.cuda.get_device_capability(0)\n",
        "        compute_capability = float(f\"{major}.{minor}\")\n",
        "        gpu_name = torch.cuda.get_device_name(0)\n",
        "        print(f\"Found GPU: {gpu_name} with Compute Capability: {compute_capability}\")\n",
        "\n",
        "        # Check for Ampere, Ada, Hopper, or newer architectures (for FlashAttention 2)\n",
        "        if compute_capability >= 8.0:\n",
        "            # Ampere, Ada, and Hopper architectures support bfloat16 and are ideal for FlashAttention 2\n",
        "            is_bf16_supported = torch.cuda.is_bf16_supported()\n",
        "            if is_bf16_supported:\n",
        "                print(\"GPU supports BF16 and is compatible with FlashAttention 2.\")\n",
        "                print(\"Proceeding with installation of the latest 'flash-attn'...\")\n",
        "                # Install the latest version of flash-attn\n",
        "                install_package(\"flash-attn\", \"-q\", \"--no-build-isolation\") # Pass arguments correctly\n",
        "                return True\n",
        "            else:\n",
        "                 print(\"GPU architecture is compatible, but BF16 is not supported. Skipping installation.\")\n",
        "                 return False\n",
        "        # Check for Turing architecture (for original FlashAttention)\n",
        "        elif compute_capability == 7.5:\n",
        "            print(\"Turing architecture GPU detected. Compatible with original FlashAttention (v1.x).\")\n",
        "            print(\"Proceeding with installation of 'flash-attn==1.0.9'...\")\n",
        "            # Install a specific version of flash-attn compatible with Turing\n",
        "            install_package(\"flash-attn==1.0.9\", \"-q\", \"--no-build-isolation\") # Pass arguments correctly\n",
        "            return True\n",
        "\n",
        "        else:\n",
        "            print(f\"GPU with compute capability {compute_capability} is not supported by flash-attn. Skipping installation.\")\n",
        "            return False\n",
        "    except Exception as e:\n",
        "        print(f\"An error occurred during GPU check or installation: {e}\")\n",
        "        return False\n",
        "\n",
        "def install_package(package_name, *pip_args):\n",
        "    \"\"\"\n",
        "    A helper function to install a pip package using subprocess.\n",
        "    \"\"\"\n",
        "    try:\n",
        "        command = [sys.executable, \"-m\", \"pip\", \"install\", package_name]\n",
        "        command.extend(pip_args) # Extend with individual arguments\n",
        "        subprocess.check_call(command)\n",
        "        print(f\"Successfully installed {package_name}.\")\n",
        "    except subprocess.CalledProcessError as e:\n",
        "        print(f\"Error installing {package_name}: {e}\")\n",
        "    except Exception as e:\n",
        "        print(f\"An unexpected error occurred: {e}\")"
      ]
    },
    {
      "cell_type": "code",
      "execution_count": 9,
      "metadata": {
        "colab": {
          "base_uri": "https://localhost:8080/"
        },
        "id": "k3_Z-8ANQchp",
        "outputId": "d00ab44d-744d-4195-e9b2-a50d5808189d"
      },
      "outputs": [
        {
          "name": "stderr",
          "output_type": "stream",
          "text": [
            "Note: Environment variable`HF_TOKEN` is set and is the current active token independently from the token you've just configured.\n"
          ]
        },
        {
          "name": "stdout",
          "output_type": "stream",
          "text": [
            "Using device: cuda\n",
            "Using dtype: torch.bfloat16\n",
            "Found GPU: NVIDIA GeForce RTX 3090 with Compute Capability: 8.6\n",
            "GPU supports BF16 and is compatible with FlashAttention 2.\n",
            "Proceeding with installation of the latest 'flash-attn'...\n",
            "Successfully installed flash-attn.\n"
          ]
        }
      ],
      "source": [
        "# Initialize the environment, get parameters, device, and data type\n",
        "init()\n",
        "params = Config()\n",
        "device = info_device()\n",
        "dtype = torch.bfloat16 if is_bfloat16_supported() else torch.float16\n",
        "print(f\"Using dtype: {dtype}\")\n",
        "is_flash_attn_available = install_flash_attn_conditionally()\n",
        "set_deterministic(params.seed)"
      ]
    },
    {
      "cell_type": "code",
      "execution_count": 10,
      "metadata": {
        "id": "GsqZ-Jr3R12y"
      },
      "outputs": [],
      "source": [
        "from tenacity import retry, stop_after_attempt, wait_fixed\n",
        "\n",
        "# Function to load dataset from Hugging Face Hub with retries\n",
        "@retry(stop=stop_after_attempt(5), wait=wait_fixed(10)) # Retry up to 5 times with 10 seconds delay\n",
        "def get_data(repo_id, mapping_func=None, split=\"train\"):\n",
        "    \"\"\"Upload HF dataset with retries\"\"\"\n",
        "    print(f\"Attempting to load dataset {repo_id}, split {split}...\")\n",
        "    data = load_dataset(repo_id, cache_dir=\"/tmp\")[split]\n",
        "    if mapping_func:\n",
        "      data = data.map(mapping_func)\n",
        "    print(\"Dataset loaded successfully!\")\n",
        "    return data"
      ]
    },
    {
      "cell_type": "code",
      "execution_count": 11,
      "metadata": {
        "id": "h2oTLcc9R2iY"
      },
      "outputs": [
        {
          "name": "stdout",
          "output_type": "stream",
          "text": [
            "Attempting to load dataset lmassaron/Sherlock_QA, split train...\n",
            "Dataset loaded successfully!\n"
          ]
        }
      ],
      "source": [
        "# Load the Sherlock QA dataset\n",
        "data = get_data(repo_id=\"lmassaron/Sherlock_QA\")"
      ]
    },
    {
      "cell_type": "code",
      "execution_count": 12,
      "metadata": {
        "colab": {
          "base_uri": "https://localhost:8080/"
        },
        "id": "mCYUpfnVR6ij",
        "outputId": "78815866-2eb0-481d-b059-fa7ba52b524a"
      },
      "outputs": [
        {
          "data": {
            "text/plain": [
              "Dataset({\n",
              "    features: ['messages'],\n",
              "    num_rows: 44294\n",
              "})"
            ]
          },
          "execution_count": 12,
          "metadata": {},
          "output_type": "execute_result"
        }
      ],
      "source": [
        "data"
      ]
    },
    {
      "cell_type": "code",
      "execution_count": 14,
      "metadata": {
        "id": "kWJC_gamSZEG"
      },
      "outputs": [],
      "source": [
        "# Deterministically sample k rows by setting a random_state\n",
        "if DEMO:\n",
        "    k = 1_000\n",
        "else:\n",
        "    k = len(data)\n",
        "eval_proportion = 0.1\n",
        "eval_size = int(k * eval_proportion)\n",
        "train_size = k - eval_size\n",
        "\n",
        "# Shuffle the dataset with a fixed seed for reproducibility\n",
        "shuffled_data = data.shuffle(seed=params.seed)\n",
        "\n",
        "# Select the first k elements to create your sample\n",
        "sampled_data = shuffled_data.select(range(k))\n",
        "\n",
        "# Split the sampled data into training and test sets\n",
        "train_data = sampled_data.select(range(train_size))\n",
        "eval_data = sampled_data.select(range(train_size, k))"
      ]
    },
    {
      "cell_type": "code",
      "execution_count": 18,
      "metadata": {
        "id": "MNIGX80yY6ng"
      },
      "outputs": [
        {
          "data": {
            "application/vnd.jupyter.widget-view+json": {
              "model_id": "6bcc0e1f235d4e59805d8c9fd6010355",
              "version_major": 2,
              "version_minor": 0
            },
            "text/plain": [
              "Map:   0%|          | 0/39865 [00:00<?, ? examples/s]"
            ]
          },
          "metadata": {},
          "output_type": "display_data"
        },
        {
          "data": {
            "application/vnd.jupyter.widget-view+json": {
              "model_id": "f9e6943a9a8f45f1977b99dc3ade714c",
              "version_major": 2,
              "version_minor": 0
            },
            "text/plain": [
              "Map:   0%|          | 0/4429 [00:00<?, ? examples/s]"
            ]
          },
          "metadata": {},
          "output_type": "display_data"
        },
        {
          "data": {
            "application/vnd.jupyter.widget-view+json": {
              "model_id": "47784d114fe44dddbde3625a610bbab8",
              "version_major": 2,
              "version_minor": 0
            },
            "text/plain": [
              "Map:   0%|          | 0/39865 [00:00<?, ? examples/s]"
            ]
          },
          "metadata": {},
          "output_type": "display_data"
        },
        {
          "data": {
            "application/vnd.jupyter.widget-view+json": {
              "model_id": "291571e8b9c741df9049ef6cbb027fa8",
              "version_major": 2,
              "version_minor": 0
            },
            "text/plain": [
              "Map:   0%|          | 0/4429 [00:00<?, ? examples/s]"
            ]
          },
          "metadata": {},
          "output_type": "display_data"
        }
      ],
      "source": [
        "def remove_system_prompt(example):\n",
        "    if example['messages'][0]['role'] == 'system':\n",
        "        # Return all messages except the first one\n",
        "        return {\"messages\": example['messages'][1:]}\n",
        "    return example\n",
        "\n",
        "\n",
        "def remove_unuseful_messages(example):\n",
        "    \"\"\"\n",
        "    Removes messages from an example if their content contains any of the\n",
        "    unwanted phrases.\n",
        "    \"\"\"\n",
        "    unwanted_phrases = [\n",
        "        \"not specified\",\n",
        "        \"not mentioned\",\n",
        "        \"unknown\",\n",
        "        \"no information provided\",\n",
        "    ]\n",
        "\n",
        "    # Create a new list of messages, keeping only the ones that are useful\n",
        "    useful_messages = []\n",
        "    for message in example[\"messages\"]:\n",
        "        # Check if any of the unwanted phrases are in the message content (case-insensitive)\n",
        "        if not any(phrase in message[\"content\"].lower() for phrase in unwanted_phrases):\n",
        "            useful_messages.append(message)\n",
        "\n",
        "    return {\"messages\": useful_messages}\n",
        "\n",
        "\n",
        "train_data = train_data.map(remove_system_prompt)\n",
        "eval_data = eval_data.map(remove_system_prompt)\n",
        "\n",
        "train_data = train_data.map(remove_unuseful_messages)\n",
        "eval_data = eval_data.map(remove_unuseful_messages)"
      ]
    },
    {
      "cell_type": "code",
      "execution_count": 40,
      "metadata": {},
      "outputs": [
        {
          "name": "stdout",
          "output_type": "stream",
          "text": [
            "Attempting to load dataset lmassaron/Sherlock_QA_test, split train...\n",
            "Dataset loaded successfully!\n",
            "The answer to the question 0 (Who created the character of Sherlock Holmes?) appears 180 times in the training data\n",
            "The answer to the question 1 (What is the name of Sherlock Holmes's enemy?) appears 64 times in the training data\n",
            "The answer to the question 2 (Where does Sherlock Holmes live?) appears 0 times in the training data\n",
            "The answer to the question 3 (Who is Sherlock Holmes's best friend?) appears 19 times in the training data\n",
            "The answer to the question 4 (What is the name of Sherlock's older brother?) appears 35 times in the training data\n",
            "The answer to the question 5 (Who is the landlady of 221b Baker Street?) appears 25 times in the training data\n",
            "The answer to the question 6 (What musical instrument does Sherlock Holmes like ) appears 4 times in the training data\n",
            "The answer to the question 7 (In which Sherlock Holmes short story do we meet Ir) appears 7 times in the training data\n",
            "The answer to the question 8 (Which actor plays Sherlock Holmes in the TV series) appears 8 times in the training data\n",
            "The answer to the question 9 (Who did Dr. Watson marry?) appears 0 times in the training data\n",
            "The answer to the question 10 (What are the street boys called who run errands fo) appears 27 times in the training data\n",
            "The answer to the question 11 (Who stars as Sherlock Holmes in the 2009 film Sher) appears 5 times in the training data\n",
            "The answer to the question 12 (Who stars as Watson in the 2009 film Sherlock Holm) appears 1 times in the training data\n",
            "The answer to the question 13 (What was the first Sherlock Holmes story titled?) appears 21 times in the training data\n",
            "The answer to the question 14 (Which 2020 film features the teenage sister of She) appears 10 times in the training data\n",
            "The answer to the question 15 (Where did Sherlock and Watson first meet?) appears 0 times in the training data\n",
            "The answer to the question 16 (When Sherlock Holmes retired, what hobby did he ta) appears 0 times in the training data\n",
            "The answer to the question 17 (Where does Sherlock Holmes keep his tobacco?) appears 0 times in the training data\n",
            "The answer to the question 18 (What is the client's name in the short story \"The ) appears 1 times in the training data\n",
            "The answer to the question 19 (What was the title of the short story published in) appears 32 times in the training data\n",
            "The answer to the question 20 (What was the first book released after everyone be) appears 97 times in the training data\n",
            "The answer to the question 21 (What object is the Blue Carbuncle?) appears 0 times in the training data\n",
            "The answer to the question 22 (What is Sherlock Holmes's most famous line?) appears 0 times in the training data\n",
            "The answer to the question 23 (On what British TV channel is the series Sherlock ) appears 3 times in the training data\n",
            "The answer to the question 24 (In The Hound Of The Baskervilles, what village doe) appears 3 times in the training data\n"
          ]
        }
      ],
      "source": [
        "test_data = get_data(repo_id=\"lmassaron/Sherlock_QA_test\")\n",
        "\n",
        "for k, item in enumerate(test_data):\n",
        "    answer = item[\"Answer\"].lower()\n",
        "    counter = 0\n",
        "    for messages in train_data:\n",
        "        for content in messages[\"messages\"]:\n",
        "            if content[\"role\"] == \"assistant\":\n",
        "                if answer in content[\"content\"].lower():\n",
        "                    counter += 1\n",
        "    print(\n",
        "        f\"The answer to the question {k} ({item[\"Question\"][:50]}) appears {counter} times in the training data\"\n",
        "    )"
      ]
    },
    {
      "cell_type": "code",
      "execution_count": 16,
      "metadata": {
        "id": "kuZoKEAGS0k9"
      },
      "outputs": [],
      "source": [
        "attn_implementation = \"flash_attention_2\" if is_flash_attn_available else \"eager\"\n",
        "\n",
        "model = AutoModelForCausalLM.from_pretrained(\n",
        "    params.MODEL_NAME,\n",
        "    torch_dtype=dtype,\n",
        "    device_map=device,\n",
        "    attn_implementation=attn_implementation\n",
        ")\n",
        "\n",
        "tokenizer = AutoTokenizer.from_pretrained(params.MODEL_NAME, max_seq_length=params.max_seq_length)\n",
        "\n",
        "# Explicitly enable use_cache for faster inference\n",
        "model.config.use_cache = True"
      ]
    },
    {
      "cell_type": "code",
      "execution_count": null,
      "metadata": {
        "colab": {
          "base_uri": "https://localhost:8080/"
        },
        "id": "h9WnzmOZVRjN",
        "outputId": "5427fd64-0e88-4a88-e2e2-215201b7d193"
      },
      "outputs": [],
      "source": [
        "print(f\"Model: {model.name_or_path}\")\n",
        "print(f\"Device: {model.device}\")\n",
        "print(f\"DType: {model.dtype}\")\n",
        "print(f\"Attention Implementation: {attn_implementation}\")"
      ]
    },
    {
      "cell_type": "code",
      "execution_count": 17,
      "metadata": {
        "id": "QX14fDV5Vo2c"
      },
      "outputs": [
        {
          "data": {
            "application/vnd.jupyter.widget-view+json": {
              "model_id": "8911ee796c6b4ec0b24ff855ce5d9ac1",
              "version_major": 2,
              "version_minor": 0
            },
            "text/plain": [
              "Tokenizing train dataset:   0%|          | 0/39865 [00:00<?, ? examples/s]"
            ]
          },
          "metadata": {},
          "output_type": "display_data"
        },
        {
          "data": {
            "application/vnd.jupyter.widget-view+json": {
              "model_id": "1ffe9588e13e455980cf2a2ce062dc1a",
              "version_major": 2,
              "version_minor": 0
            },
            "text/plain": [
              "Truncating train dataset:   0%|          | 0/39865 [00:00<?, ? examples/s]"
            ]
          },
          "metadata": {},
          "output_type": "display_data"
        },
        {
          "data": {
            "application/vnd.jupyter.widget-view+json": {
              "model_id": "9007cfc861fe44b6a6de0ae8a1e65ff4",
              "version_major": 2,
              "version_minor": 0
            },
            "text/plain": [
              "Tokenizing eval dataset:   0%|          | 0/4429 [00:00<?, ? examples/s]"
            ]
          },
          "metadata": {},
          "output_type": "display_data"
        },
        {
          "data": {
            "application/vnd.jupyter.widget-view+json": {
              "model_id": "c692ced6bcab4c51b2734ba418d364be",
              "version_major": 2,
              "version_minor": 0
            },
            "text/plain": [
              "Truncating eval dataset:   0%|          | 0/4429 [00:00<?, ? examples/s]"
            ]
          },
          "metadata": {},
          "output_type": "display_data"
        }
      ],
      "source": [
        "# LoRA configuration\n",
        "peft_config = LoraConfig(\n",
        "    r=32,\n",
        "    lora_alpha=32,\n",
        "    lora_dropout=0,\n",
        "    bias=\"none\",\n",
        "    task_type=\"CAUSAL_LM\",\n",
        "    target_modules=[\n",
        "        \"q_proj\",\n",
        "        \"k_proj\",\n",
        "        \"v_proj\",\n",
        "        \"o_proj\",\n",
        "        \"gate_proj\",\n",
        "        \"up_proj\",\n",
        "        \"down_proj\",\n",
        "    ],\n",
        ")\n",
        "\n",
        "# SFT (Supervised Fine-tuning) configuration\n",
        "training_arguments = SFTConfig(\n",
        "    output_dir=\"logs\",\n",
        "    seed=params.seed,\n",
        "    num_train_epochs=3,\n",
        "    gradient_checkpointing=False,\n",
        "    per_device_train_batch_size=1,\n",
        "    gradient_accumulation_steps=8,\n",
        "    optim=\"adamw_torch_fused\",\n",
        "    save_steps=0,\n",
        "    logging_steps=25 if DEMO else 500,\n",
        "    learning_rate=2e-4,\n",
        "    weight_decay=0.01,\n",
        "    fp16=not(is_bfloat16_supported()),\n",
        "    bf16=is_bfloat16_supported(),\n",
        "    max_grad_norm=0.3,\n",
        "    max_steps=-1,\n",
        "    warmup_ratio=0.1,\n",
        "    group_by_length=False,\n",
        "    eval_strategy='steps',\n",
        "    eval_steps = 25 if DEMO else 500,\n",
        "    eval_accumulation_steps=1,\n",
        "    lr_scheduler_type=\"cosine\",\n",
        "    dataset_text_field=\"messages\",\n",
        "    packing=False,\n",
        "    max_length=params.max_seq_length,\n",
        "    report_to=\"tensorboard\",\n",
        ")\n",
        "\n",
        "# Initialize the trainer\n",
        "trainer = SFTTrainer(\n",
        "    model=model,\n",
        "    train_dataset=train_data,\n",
        "    eval_dataset=eval_data,\n",
        "    peft_config=peft_config,\n",
        "    processing_class=tokenizer,\n",
        "    args=training_arguments,\n",
        "\n",
        ")"
      ]
    },
    {
      "cell_type": "code",
      "execution_count": 18,
      "metadata": {
        "colab": {
          "base_uri": "https://localhost:8080/",
          "height": 257
        },
        "id": "vKbKiqVJXDmH",
        "outputId": "c5ef406a-22b3-46ce-885b-bb5a33986b33"
      },
      "outputs": [
        {
          "name": "stderr",
          "output_type": "stream",
          "text": [
            "It is strongly recommended to train Gemma3 models with the `eager` attention implementation instead of `flash_attention_2`. Use `eager` with `AutoModelForCausalLM.from_pretrained('<path-to-checkpoint>', attn_implementation='eager')`.\n"
          ]
        },
        {
          "data": {
            "text/html": [
              "\n",
              "    <div>\n",
              "      \n",
              "      <progress value='14952' max='14952' style='width:300px; height:20px; vertical-align: middle;'></progress>\n",
              "      [14952/14952 2:55:16, Epoch 3/3]\n",
              "    </div>\n",
              "    <table border=\"1\" class=\"dataframe\">\n",
              "  <thead>\n",
              " <tr style=\"text-align: left;\">\n",
              "      <th>Step</th>\n",
              "      <th>Training Loss</th>\n",
              "      <th>Validation Loss</th>\n",
              "      <th>Entropy</th>\n",
              "      <th>Num Tokens</th>\n",
              "      <th>Mean Token Accuracy</th>\n",
              "    </tr>\n",
              "  </thead>\n",
              "  <tbody>\n",
              "    <tr>\n",
              "      <td>500</td>\n",
              "      <td>3.334000</td>\n",
              "      <td>1.997690</td>\n",
              "      <td>1.992775</td>\n",
              "      <td>116774.000000</td>\n",
              "      <td>0.647461</td>\n",
              "    </tr>\n",
              "    <tr>\n",
              "      <td>1000</td>\n",
              "      <td>1.853500</td>\n",
              "      <td>1.847683</td>\n",
              "      <td>1.909873</td>\n",
              "      <td>233727.000000</td>\n",
              "      <td>0.663309</td>\n",
              "    </tr>\n",
              "    <tr>\n",
              "      <td>1500</td>\n",
              "      <td>1.745400</td>\n",
              "      <td>1.777246</td>\n",
              "      <td>1.682419</td>\n",
              "      <td>351217.000000</td>\n",
              "      <td>0.674761</td>\n",
              "    </tr>\n",
              "    <tr>\n",
              "      <td>2000</td>\n",
              "      <td>1.714700</td>\n",
              "      <td>1.726389</td>\n",
              "      <td>1.687213</td>\n",
              "      <td>467663.000000</td>\n",
              "      <td>0.678707</td>\n",
              "    </tr>\n",
              "    <tr>\n",
              "      <td>2500</td>\n",
              "      <td>1.648200</td>\n",
              "      <td>1.676664</td>\n",
              "      <td>1.600140</td>\n",
              "      <td>584195.000000</td>\n",
              "      <td>0.686604</td>\n",
              "    </tr>\n",
              "    <tr>\n",
              "      <td>3000</td>\n",
              "      <td>1.613300</td>\n",
              "      <td>1.645983</td>\n",
              "      <td>1.676838</td>\n",
              "      <td>701240.000000</td>\n",
              "      <td>0.691611</td>\n",
              "    </tr>\n",
              "    <tr>\n",
              "      <td>3500</td>\n",
              "      <td>1.593100</td>\n",
              "      <td>1.617079</td>\n",
              "      <td>1.647116</td>\n",
              "      <td>818437.000000</td>\n",
              "      <td>0.692701</td>\n",
              "    </tr>\n",
              "    <tr>\n",
              "      <td>4000</td>\n",
              "      <td>1.555300</td>\n",
              "      <td>1.591569</td>\n",
              "      <td>1.510214</td>\n",
              "      <td>935118.000000</td>\n",
              "      <td>0.697029</td>\n",
              "    </tr>\n",
              "    <tr>\n",
              "      <td>4500</td>\n",
              "      <td>1.534800</td>\n",
              "      <td>1.571333</td>\n",
              "      <td>1.477403</td>\n",
              "      <td>1051176.000000</td>\n",
              "      <td>0.699340</td>\n",
              "    </tr>\n",
              "    <tr>\n",
              "      <td>5000</td>\n",
              "      <td>1.516100</td>\n",
              "      <td>1.565995</td>\n",
              "      <td>1.334558</td>\n",
              "      <td>1168164.000000</td>\n",
              "      <td>0.700900</td>\n",
              "    </tr>\n",
              "    <tr>\n",
              "      <td>5500</td>\n",
              "      <td>1.297300</td>\n",
              "      <td>1.561082</td>\n",
              "      <td>1.270942</td>\n",
              "      <td>1284981.000000</td>\n",
              "      <td>0.703806</td>\n",
              "    </tr>\n",
              "    <tr>\n",
              "      <td>6000</td>\n",
              "      <td>1.304200</td>\n",
              "      <td>1.530227</td>\n",
              "      <td>1.413187</td>\n",
              "      <td>1401539.000000</td>\n",
              "      <td>0.706123</td>\n",
              "    </tr>\n",
              "    <tr>\n",
              "      <td>6500</td>\n",
              "      <td>1.311900</td>\n",
              "      <td>1.518522</td>\n",
              "      <td>1.340050</td>\n",
              "      <td>1518765.000000</td>\n",
              "      <td>0.708209</td>\n",
              "    </tr>\n",
              "    <tr>\n",
              "      <td>7000</td>\n",
              "      <td>1.296700</td>\n",
              "      <td>1.506291</td>\n",
              "      <td>1.325918</td>\n",
              "      <td>1635711.000000</td>\n",
              "      <td>0.710541</td>\n",
              "    </tr>\n",
              "    <tr>\n",
              "      <td>7500</td>\n",
              "      <td>1.280200</td>\n",
              "      <td>1.493976</td>\n",
              "      <td>1.292779</td>\n",
              "      <td>1752806.000000</td>\n",
              "      <td>0.712371</td>\n",
              "    </tr>\n",
              "    <tr>\n",
              "      <td>8000</td>\n",
              "      <td>1.267800</td>\n",
              "      <td>1.476195</td>\n",
              "      <td>1.310782</td>\n",
              "      <td>1869381.000000</td>\n",
              "      <td>0.714026</td>\n",
              "    </tr>\n",
              "    <tr>\n",
              "      <td>8500</td>\n",
              "      <td>1.264100</td>\n",
              "      <td>1.462974</td>\n",
              "      <td>1.283906</td>\n",
              "      <td>1986358.000000</td>\n",
              "      <td>0.716853</td>\n",
              "    </tr>\n",
              "    <tr>\n",
              "      <td>9000</td>\n",
              "      <td>1.253100</td>\n",
              "      <td>1.446636</td>\n",
              "      <td>1.266328</td>\n",
              "      <td>2103638.000000</td>\n",
              "      <td>0.718971</td>\n",
              "    </tr>\n",
              "    <tr>\n",
              "      <td>9500</td>\n",
              "      <td>1.234700</td>\n",
              "      <td>1.435656</td>\n",
              "      <td>1.276228</td>\n",
              "      <td>2219518.000000</td>\n",
              "      <td>0.719755</td>\n",
              "    </tr>\n",
              "    <tr>\n",
              "      <td>10000</td>\n",
              "      <td>1.204800</td>\n",
              "      <td>1.461386</td>\n",
              "      <td>1.101697</td>\n",
              "      <td>2336293.000000</td>\n",
              "      <td>0.720587</td>\n",
              "    </tr>\n",
              "    <tr>\n",
              "      <td>10500</td>\n",
              "      <td>0.963600</td>\n",
              "      <td>1.498983</td>\n",
              "      <td>1.049240</td>\n",
              "      <td>2453210.000000</td>\n",
              "      <td>0.721006</td>\n",
              "    </tr>\n",
              "    <tr>\n",
              "      <td>11000</td>\n",
              "      <td>0.959300</td>\n",
              "      <td>1.501366</td>\n",
              "      <td>1.038744</td>\n",
              "      <td>2569957.000000</td>\n",
              "      <td>0.721621</td>\n",
              "    </tr>\n",
              "    <tr>\n",
              "      <td>11500</td>\n",
              "      <td>0.951900</td>\n",
              "      <td>1.497046</td>\n",
              "      <td>1.042115</td>\n",
              "      <td>2687282.000000</td>\n",
              "      <td>0.721991</td>\n",
              "    </tr>\n",
              "    <tr>\n",
              "      <td>12000</td>\n",
              "      <td>0.944200</td>\n",
              "      <td>1.493673</td>\n",
              "      <td>1.029557</td>\n",
              "      <td>2803966.000000</td>\n",
              "      <td>0.723100</td>\n",
              "    </tr>\n",
              "    <tr>\n",
              "      <td>12500</td>\n",
              "      <td>0.937000</td>\n",
              "      <td>1.492220</td>\n",
              "      <td>1.027995</td>\n",
              "      <td>2920332.000000</td>\n",
              "      <td>0.723487</td>\n",
              "    </tr>\n",
              "    <tr>\n",
              "      <td>13000</td>\n",
              "      <td>0.930900</td>\n",
              "      <td>1.494125</td>\n",
              "      <td>1.022650</td>\n",
              "      <td>3037064.000000</td>\n",
              "      <td>0.724040</td>\n",
              "    </tr>\n",
              "    <tr>\n",
              "      <td>13500</td>\n",
              "      <td>0.949400</td>\n",
              "      <td>1.486623</td>\n",
              "      <td>1.033673</td>\n",
              "      <td>3154019.000000</td>\n",
              "      <td>0.724414</td>\n",
              "    </tr>\n",
              "    <tr>\n",
              "      <td>14000</td>\n",
              "      <td>0.938200</td>\n",
              "      <td>1.489279</td>\n",
              "      <td>1.028796</td>\n",
              "      <td>3271031.000000</td>\n",
              "      <td>0.724908</td>\n",
              "    </tr>\n",
              "    <tr>\n",
              "      <td>14500</td>\n",
              "      <td>0.935300</td>\n",
              "      <td>1.490537</td>\n",
              "      <td>1.021612</td>\n",
              "      <td>3387930.000000</td>\n",
              "      <td>0.724566</td>\n",
              "    </tr>\n",
              "  </tbody>\n",
              "</table><p>"
            ],
            "text/plain": [
              "<IPython.core.display.HTML object>"
            ]
          },
          "metadata": {},
          "output_type": "display_data"
        }
      ],
      "source": [
        "# Train model\n",
        "trainer.train()\n",
        "\n",
        "# Save the fine-tuned LoRA adapter\n",
        "trainer.model.save_pretrained(\"trained-model\")"
      ]
    },
    {
      "cell_type": "code",
      "execution_count": 19,
      "metadata": {
        "colab": {
          "base_uri": "https://localhost:8080/",
          "height": 472
        },
        "id": "3WzbnhgSXIVG",
        "outputId": "f0244f61-1b53-46b1-b752-79bdaa2b2b3d"
      },
      "outputs": [
        {
          "data": {
            "image/png": "[encoded data removed]",
            "text/plain": [
              "<Figure size 640x480 with 1 Axes>"
            ]
          },
          "metadata": {},
          "output_type": "display_data"
        }
      ],
      "source": [
        "# Access the log history\n",
        "log_history = trainer.state.log_history\n",
        "\n",
        "# Extract training / validation loss\n",
        "train_losses = [log[\"loss\"] for log in log_history if \"loss\" in log]\n",
        "epoch_train = [log[\"epoch\"] for log in log_history if \"loss\" in log]\n",
        "eval_losses = [log[\"eval_loss\"] for log in log_history if \"eval_loss\" in log]\n",
        "epoch_eval = [log[\"epoch\"] for log in log_history if \"eval_loss\" in log]\n",
        "\n",
        "# Plot the training loss\n",
        "plt.plot(epoch_train, train_losses, label=\"Training Loss\")\n",
        "plt.plot(epoch_eval, eval_losses, label=\"Validation Loss\")\n",
        "plt.xlabel(\"Epoch\")\n",
        "plt.ylabel(\"Loss\")\n",
        "plt.title(\"Training and Validation Loss per Epoch\")\n",
        "plt.legend()\n",
        "plt.grid(True)\n",
        "plt.show()"
      ]
    },
    {
      "cell_type": "code",
      "execution_count": 20,
      "metadata": {
        "id": "HRy88PKSowMO"
      },
      "outputs": [
        {
          "name": "stdout",
          "output_type": "stream",
          "text": [
            "LoRA adapters saved to gemma-3-1b-sherlock-expert-lora\n"
          ]
        },
        {
          "data": {
            "application/vnd.jupyter.widget-view+json": {
              "model_id": "a62c32c0c84b459797bb83aaae9eaa75",
              "version_major": 2,
              "version_minor": 0
            },
            "text/plain": [
              "README.md: 0.00B [00:00, ?B/s]"
            ]
          },
          "metadata": {},
          "output_type": "display_data"
        },
        {
          "data": {
            "application/vnd.jupyter.widget-view+json": {
              "model_id": "02600e4b4c2c4c21a3da27696e077e48",
              "version_major": 2,
              "version_minor": 0
            },
            "text/plain": [
              "Processing Files (0 / 0): |          |  0.00B /  0.00B            "
            ]
          },
          "metadata": {},
          "output_type": "display_data"
        },
        {
          "data": {
            "application/vnd.jupyter.widget-view+json": {
              "model_id": "b3de230720854ff989d2d608d1bbafeb",
              "version_major": 2,
              "version_minor": 0
            },
            "text/plain": [
              "New Data Upload: |          |  0.00B /  0.00B            "
            ]
          },
          "metadata": {},
          "output_type": "display_data"
        },
        {
          "data": {
            "application/vnd.jupyter.widget-view+json": {
              "model_id": "a721953856464be7ae3945a73820df5e",
              "version_major": 2,
              "version_minor": 0
            },
            "text/plain": [
              "Processing Files (0 / 0): |          |  0.00B /  0.00B            "
            ]
          },
          "metadata": {},
          "output_type": "display_data"
        },
        {
          "data": {
            "application/vnd.jupyter.widget-view+json": {
              "model_id": "7e13aab558c4425487bafc6ccf593045",
              "version_major": 2,
              "version_minor": 0
            },
            "text/plain": [
              "New Data Upload: |          |  0.00B /  0.00B            "
            ]
          },
          "metadata": {},
          "output_type": "display_data"
        },
        {
          "name": "stderr",
          "output_type": "stream",
          "text": [
            "No files have been modified since last commit. Skipping to prevent empty commit.\n"
          ]
        },
        {
          "name": "stdout",
          "output_type": "stream",
          "text": [
            "Model and tokenizer pushed to lmassaron/gemma-3-1b-sherlock-expert-lora\n"
          ]
        }
      ],
      "source": [
        "if not DEMO:\n",
        "  lora_output_dir = f\"{params.OUTPUT_MODEL}-lora\"\n",
        "  trainer.model.save_pretrained(lora_output_dir)\n",
        "  print(f\"LoRA adapters saved to {lora_output_dir}\")\n",
        "  # Also save the tokenizer with the LoRA adapters for convenience\n",
        "  tokenizer.save_pretrained(lora_output_dir)\n",
        "\n",
        "  # Define the name for your repository on the Hub\n",
        "  repo_name = \"lmassaron/\" + lora_output_dir\n",
        "\n",
        "  # Push the model to the Hub\n",
        "  model.push_to_hub(repo_name)\n",
        "\n",
        "  # Push the tokenizer to the Hub\n",
        "  tokenizer.push_to_hub(repo_name)\n",
        "\n",
        "  print(f\"Model and tokenizer pushed to {repo_name}\")"
      ]
    },
    {
      "cell_type": "code",
      "execution_count": 21,
      "metadata": {
        "id": "jsRE6Vxdn-1K"
      },
      "outputs": [
        {
          "name": "stdout",
          "output_type": "stream",
          "text": [
            "\n",
            "Merging the final model\n",
            "Saving the final model to gemma-3-1b-sherlock-expert\n"
          ]
        },
        {
          "data": {
            "application/vnd.jupyter.widget-view+json": {
              "model_id": "e136476659e948fa9565e13687a64c97",
              "version_major": 2,
              "version_minor": 0
            },
            "text/plain": [
              "README.md: 0.00B [00:00, ?B/s]"
            ]
          },
          "metadata": {},
          "output_type": "display_data"
        },
        {
          "data": {
            "application/vnd.jupyter.widget-view+json": {
              "model_id": "24ff5c025cbf48a7837dc4336142888d",
              "version_major": 2,
              "version_minor": 0
            },
            "text/plain": [
              "Processing Files (0 / 0): |          |  0.00B /  0.00B            "
            ]
          },
          "metadata": {},
          "output_type": "display_data"
        },
        {
          "data": {
            "application/vnd.jupyter.widget-view+json": {
              "model_id": "c64132adf31548b4821e05e048ec05d2",
              "version_major": 2,
              "version_minor": 0
            },
            "text/plain": [
              "New Data Upload: |          |  0.00B /  0.00B            "
            ]
          },
          "metadata": {},
          "output_type": "display_data"
        },
        {
          "data": {
            "application/vnd.jupyter.widget-view+json": {
              "model_id": "51cd87d8506b47d9ba7118b1e0d996c1",
              "version_major": 2,
              "version_minor": 0
            },
            "text/plain": [
              "Processing Files (0 / 0): |          |  0.00B /  0.00B            "
            ]
          },
          "metadata": {},
          "output_type": "display_data"
        },
        {
          "data": {
            "application/vnd.jupyter.widget-view+json": {
              "model_id": "8bf05e1d54f14f199a9b51257aae88ad",
              "version_major": 2,
              "version_minor": 0
            },
            "text/plain": [
              "New Data Upload: |          |  0.00B /  0.00B            "
            ]
          },
          "metadata": {},
          "output_type": "display_data"
        },
        {
          "name": "stderr",
          "output_type": "stream",
          "text": [
            "No files have been modified since last commit. Skipping to prevent empty commit.\n"
          ]
        },
        {
          "name": "stdout",
          "output_type": "stream",
          "text": [
            "Model and tokenizer pushed to lmassaron/gemma-3-1b-sherlock-expert\n"
          ]
        }
      ],
      "source": [
        "if not DEMO:\n",
        "  print(\"\\nMerging the final model\")\n",
        "  merged_model = trainer.model.merge_and_unload()\n",
        "\n",
        "  # Save model and tokenizer\n",
        "  output_path = f\"{params.OUTPUT_MODEL}\"\n",
        "  print(f\"Saving the final model to {output_path}\")\n",
        "  merged_model.save_pretrained(output_path)\n",
        "  tokenizer.save_pretrained(output_path)\n",
        "\n",
        "  # Define the name for your repository on the Hub\n",
        "  repo_name = \"lmassaron/\" + output_path\n",
        "\n",
        "  # Push the model to the Hub\n",
        "  model.push_to_hub(repo_name)\n",
        "\n",
        "  # Push the tokenizer to the Hub\n",
        "  tokenizer.push_to_hub(repo_name)\n",
        "\n",
        "  print(f\"Model and tokenizer pushed to {repo_name}\")"
      ]
    }
  ],
  "metadata": {
    "accelerator": "GPU",
    "colab": {
      "authorship_tag": "ABX9TyONABkP/zRuPIHkM/R6+plb",
      "gpuType": "L4",
      "include_colab_link": true,
      "provenance": []
    },
    "kernelspec": {
      "display_name": ".venv (3.12.9)",
      "language": "python",
      "name": "python3"
    },
    "language_info": {
      "codemirror_mode": {
        "name": "ipython",
        "version": 3
      },
      "file_extension": ".py",
      "mimetype": "text/x-python",
      "name": "python",
      "nbconvert_exporter": "python",
      "pygments_lexer": "ipython3",
      "version": "3.12.9"
    }
  },
  "nbformat": 4,
  "nbformat_minor": 0
}
