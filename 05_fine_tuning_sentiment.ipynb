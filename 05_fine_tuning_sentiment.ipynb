{
  "metadata": {
    "kernelspec": {
      "display_name": "Python 3",
      "name": "python3"
    },
    "language_info": {
      "name": "python",
      "version": "3.10.12",
      "mimetype": "text/x-python",
      "codemirror_mode": {
        "name": "ipython",
        "version": 3
      },
      "pygments_lexer": "ipython3",
      "nbconvert_exporter": "python",
      "file_extension": ".py"
    },
    "kaggle": {
      "accelerator": "gpu",
      "dataSources": [
        {
          "sourceId": 1192499,
          "sourceType": "datasetVersion",
          "datasetId": 622510
        },
        {
          "sourceId": 282742,
          "sourceType": "modelInstanceVersion",
          "isSourceIdPinned": false,
          "modelInstanceId": 239467,
          "modelId": 222398
        }
      ],
      "dockerImageVersionId": 30919,
      "isInternetEnabled": true,
      "language": "python",
      "sourceType": "notebook",
      "isGpuEnabled": true
    },
    "papermill": {
      "default_parameters": {},
      "duration": 4190.684325,
      "end_time": "2023-12-17T22:21:21.061832",
      "environment_variables": {},
      "exception": null,
      "input_path": "__notebook__.ipynb",
      "output_path": "__notebook__.ipynb",
      "parameters": {},
      "start_time": "2023-12-17T21:11:30.377507",
      "version": "2.4.0"
    },
    "colab": {
      "provenance": [],
      "gpuType": "T4",
      "include_colab_link": true
    },
    "accelerator": "GPU"
  },
  "nbformat_minor": 0,
  "nbformat": 4,
  "cells": [
    {
      "cell_type": "markdown",
      "metadata": {
        "id": "view-in-github",
        "colab_type": "text"
      },
      "source": [
        "<a href=\"https://colab.research.google.com/github/lmassaron/fine-tuning-workshop/blob/main/05_fine_tuning_sentiment.ipynb\" target=\"_parent\"><img src=\"https://colab.research.google.com/assets/colab-badge.svg\" alt=\"Open In Colab\"/></a>"
      ]
    },
    {
      "cell_type": "markdown",
      "source": [
        "# Fine-tune Gemma 3 1B-IT for Sentiment Analysis\n",
        "\n",
        "This tutorial covers the **fine-tuning process** of the recently launched **Gemma 3 1B** model for **sentiment analysis** on financial and economic information. Sentiment analysis in this domain is crucial for businesses for several reasons, including:\n",
        "\n",
        "- **Market Insights**: Gaining valuable insights into market trends, investor confidence, and consumer behavior.  \n",
        "- **Risk Management**: Identifying potential reputational risks.  \n",
        "- **Investment Decisions**: Assessing the sentiment of stakeholders, investors, and the general public to evaluate investment opportunities.  \n",
        "\n",
        "Before diving into the technical aspects of fine-tuning a large language model like **Gemma**, we must first select an appropriate **dataset** to showcase its capabilities."
      ],
      "metadata": {
        "papermill": {
          "duration": 0.008332,
          "end_time": "2023-12-17T21:11:33.795658",
          "exception": false,
          "start_time": "2023-12-17T21:11:33.787326",
          "status": "completed"
        },
        "tags": [],
        "id": "up4ljlLH7xtr"
      }
    },
    {
      "cell_type": "markdown",
      "source": [
        "## Introducing the Gemma 3 1B-IT\n",
        "\n",
        "**Gemma 3** is Google's latest addition to its family of lightweight, state-of-the-art open AI models, designed to deliver high performance while being resource-efficient. The **1B Instruct** version of **Gemma 3** is tailored for **instruction-based tasks**, offering developers an accessible and powerful tool for creating intelligent applications.  \n",
        "\n",
        "Announcement: [Gemma 3 Blog Post](https://blog.google/technology/developers/gemma-3/)\n",
        "\n",
        "Gemma 3 features a **transformer architecture** optimized with advanced techniques, enabling sophisticated reasoning and text generation capabilities.\n",
        "\n",
        "Key Features:\n",
        "- **128K-token context window**: Allows processing and understanding of vast amounts of information.  \n",
        "- **Multilingual support**: Over **140 languages**, ideal for global applications.  \n",
        "- **Multimodal capabilities**: Supports text, images, and videos, enabling interactive AI solutions.  \n",
        "- **Edge device optimization**: Efficiently runs on consumer hardware with a single GPU, making it accessible for developers with limited resources.\n",
        "\n",
        "Resources:\n",
        "- [Gemma 3 Model Overview](https://ai.google.dev/gemma/docs/core)  \n",
        "- [Gemma 3 Technical Report](https://storage.googleapis.com/deepmind-media/gemma/Gemma3Report.pdf)  \n",
        "- [Gemma 3 Model Card](https://ai.google.dev/gemma/docs/core/model_card_3)"
      ],
      "metadata": {
        "id": "ik8yQLHb7xts"
      }
    },
    {
      "cell_type": "markdown",
      "source": [
        "## Dataset Selection\n",
        "\n",
        "Annotated datasets for finance and economic texts are relatively rare, with many being proprietary. To address this challenge, researchers from the **Aalto University School of Business** introduced the **FinancialPhraseBank Dataset** in 2014, which contains approximately **5,000 sentences**.  \n",
        "\n",
        "This dataset provides **human-annotated benchmarks**, allowing for consistent evaluation of different modeling techniques. The annotations were performed by **16 individuals** with a background in **financial markets**, who categorized the sentences as having a:\n",
        "\n",
        "- **Positive** impact on stock prices  \n",
        "- **Negative** impact on stock prices  \n",
        "- **Neutral** impact on stock prices  \n",
        "\n",
        "The impact was assessed from an **investor's perspective**."
      ],
      "metadata": {
        "id": "qHEdiapg7xts"
      }
    },
    {
      "cell_type": "markdown",
      "source": [
        "## More on the FinancialPhraseBank Dataset\n",
        "\n",
        "The **FinancialPhraseBank** dataset is a comprehensive collection of **financial news headlines** analyzed from the viewpoint of **retail investors**. It includes two key columns:\n",
        "\n",
        "- **Sentiment**: Classified as **negative**, **neutral**, or **positive**.  \n",
        "- **News Headline**: The actual **financial news snippet**.\n",
        "\n",
        "This dataset has been widely used in research, including the study by **Malo, P.**, **Sinha, A.**, **Korhonen, P.**, **Wallenius, J.**, and **Takala, P.**, titled \"*Good Debt or Bad Debt: Detecting Semantic Orientations in Economic Texts*\" (published in the **Journal of the Association for Information Science and Technology**, 2014)."
      ],
      "metadata": {
        "id": "Lt9JLOwy7xtt"
      }
    },
    {
      "cell_type": "markdown",
      "source": [
        "## Required Libraries\n",
        "\n",
        "To implement this tutorial, we need to install several essential libraries:"
      ],
      "metadata": {
        "papermill": {
          "duration": 0.007824,
          "end_time": "2023-12-17T21:11:33.811681",
          "exception": false,
          "start_time": "2023-12-17T21:11:33.803857",
          "status": "completed"
        },
        "tags": [],
        "id": "CdfXow7D7xtt"
      }
    },
    {
      "cell_type": "code",
      "source": [
        "# Check the GPU information\n",
        "!nvidia-smi"
      ],
      "metadata": {
        "colab": {
          "base_uri": "https://localhost:8080/"
        },
        "id": "d0aZgzAH777P",
        "outputId": "855d761e-ddf6-43f2-a5cc-65b403e6b96c"
      },
      "execution_count": 1,
      "outputs": [
        {
          "output_type": "stream",
          "name": "stdout",
          "text": [
            "Thu Sep 25 16:55:15 2025       \n",
            "+-----------------------------------------------------------------------------------------+\n",
            "| NVIDIA-SMI 550.54.15              Driver Version: 550.54.15      CUDA Version: 12.4     |\n",
            "|-----------------------------------------+------------------------+----------------------+\n",
            "| GPU  Name                 Persistence-M | Bus-Id          Disp.A | Volatile Uncorr. ECC |\n",
            "| Fan  Temp   Perf          Pwr:Usage/Cap |           Memory-Usage | GPU-Util  Compute M. |\n",
            "|                                         |                        |               MIG M. |\n",
            "|=========================================+========================+======================|\n",
            "|   0  Tesla T4                       Off |   00000000:00:04.0 Off |                    0 |\n",
            "| N/A   38C    P8              9W /   70W |       0MiB /  15360MiB |      0%      Default |\n",
            "|                                         |                        |                  N/A |\n",
            "+-----------------------------------------+------------------------+----------------------+\n",
            "                                                                                         \n",
            "+-----------------------------------------------------------------------------------------+\n",
            "| Processes:                                                                              |\n",
            "|  GPU   GI   CI        PID   Type   Process name                              GPU Memory |\n",
            "|        ID   ID                                                               Usage      |\n",
            "|=========================================================================================|\n",
            "|  No running processes found                                                             |\n",
            "+-----------------------------------------------------------------------------------------+\n"
          ]
        }
      ]
    },
    {
      "cell_type": "code",
      "source": [
        "# Install necessary libraries for model training and evaluation\n",
        "%%capture\n",
        "!pip install -U transformers trl peft accelerate bitsandbytes"
      ],
      "metadata": {
        "papermill": {
          "duration": 25.835818,
          "end_time": "2023-12-17T21:12:12.500193",
          "exception": false,
          "start_time": "2023-12-17T21:11:46.664375",
          "status": "completed"
        },
        "tags": [],
        "trusted": true,
        "execution": {
          "iopub.status.busy": "2025-09-25T12:40:01.064015Z",
          "iopub.execute_input": "2025-09-25T12:40:01.064253Z",
          "iopub.status.idle": "2025-09-25T12:40:27.983904Z",
          "shell.execute_reply.started": "2025-09-25T12:40:01.064233Z",
          "shell.execute_reply": "2025-09-25T12:40:27.982545Z"
        },
        "id": "t2Vm8Bcj7xtt"
      },
      "outputs": [],
      "execution_count": 2
    },
    {
      "cell_type": "markdown",
      "source": [
        "### Explanation of Key Libraries  \n",
        "\n",
        "- **`transformers`**: Provides a framework to handle **pre-trained NLP models** for tasks like **text classification** and **question answering**.  \n",
        "\n",
        "- **`accelerate`**: A distributed training library by Hugging Face designed for **parallelizing training** across multiple **GPUs or CPUs**.  \n",
        "\n",
        "- **`peft`**: A library for **parameter-efficient fine-tuning (PEFT)** of pre-trained language models, including support for **LoRA (Low-Rank Adaptation)**.  \n",
        "\n",
        "- **`trl`**: A Hugging Face library for training **transformer models** with **supervised fine-tuning** or **reinforcement learning techniques**.  \n",
        "\n",
        "-   **`bitsandbytes`**: A lightweight library that provides custom CUDA functions for **8-bit and 4-bit quantization** of PyTorch models. This significantly reduces the memory footprint of large language models, making it possible to run them on less powerful hardware. `bitsandbytes` offers features like 8-bit optimizers and 4-bit quantization with QLoRA, which enables training large models with reduced memory requirements without compromising performance."
      ],
      "metadata": {
        "id": "y5T6GgjH7xtu"
      }
    },
    {
      "cell_type": "markdown",
      "source": [
        "## Setting Environment Variables\n",
        "\n",
        "The following code sets environment variables to configure the GPU usage and suppress unnecessary warnings:"
      ],
      "metadata": {
        "id": "eVMcLBbj7xtu"
      }
    },
    {
      "cell_type": "code",
      "source": [
        "import os\n",
        "os.environ[\"CUDA_VISIBLE_DEVICES\"] = \"0\" # Use the first GPU\n",
        "os.environ[\"TOKENIZERS_PARALLELISM\"] = \"false\" # Disable tokenization parallelism"
      ],
      "metadata": {
        "papermill": {
          "duration": 0.015679,
          "end_time": "2023-12-17T21:12:12.539544",
          "exception": false,
          "start_time": "2023-12-17T21:12:12.523865",
          "status": "completed"
        },
        "tags": [],
        "trusted": true,
        "execution": {
          "iopub.status.busy": "2025-09-25T12:40:27.984978Z",
          "iopub.execute_input": "2025-09-25T12:40:27.985289Z",
          "iopub.status.idle": "2025-09-25T12:40:27.990116Z",
          "shell.execute_reply.started": "2025-09-25T12:40:27.985260Z",
          "shell.execute_reply": "2025-09-25T12:40:27.989125Z"
        },
        "id": "y6Pvcl_I7xtu"
      },
      "outputs": [],
      "execution_count": 3
    },
    {
      "cell_type": "markdown",
      "source": [
        "## Suppressing Warnings\n",
        "\n",
        "During training, several warnings may appear that do not impact the fine-tuning process but can be distracting. To suppress them:"
      ],
      "metadata": {
        "papermill": {
          "duration": 0.007538,
          "end_time": "2023-12-17T21:12:12.555014",
          "exception": false,
          "start_time": "2023-12-17T21:12:12.547476",
          "status": "completed"
        },
        "tags": [],
        "id": "OkJegMXl7xtu"
      }
    },
    {
      "cell_type": "code",
      "source": [
        "import warnings\n",
        "warnings.filterwarnings(\"ignore\")"
      ],
      "metadata": {
        "papermill": {
          "duration": 0.01423,
          "end_time": "2023-12-17T21:12:12.576944",
          "exception": false,
          "start_time": "2023-12-17T21:12:12.562714",
          "status": "completed"
        },
        "tags": [],
        "trusted": true,
        "execution": {
          "iopub.status.busy": "2025-09-25T12:40:27.992421Z",
          "iopub.execute_input": "2025-09-25T12:40:27.992610Z",
          "iopub.status.idle": "2025-09-25T12:40:28.006884Z",
          "shell.execute_reply.started": "2025-09-25T12:40:27.992593Z",
          "shell.execute_reply": "2025-09-25T12:40:28.006038Z"
        },
        "id": "gDoJklpy7xtu"
      },
      "outputs": [],
      "execution_count": 4
    },
    {
      "cell_type": "markdown",
      "source": [
        "Global variable for demonstrations"
      ],
      "metadata": {
        "id": "bs8_k4wAcCGn"
      }
    },
    {
      "cell_type": "code",
      "source": [
        "DEMO = False"
      ],
      "metadata": {
        "id": "mDN1Vn_7FYis"
      },
      "execution_count": 5,
      "outputs": []
    },
    {
      "cell_type": "markdown",
      "source": [
        "## Importing Necessary Libraries\n",
        "\n",
        "The following Python libraries are required for running the fine-tuning process:"
      ],
      "metadata": {
        "papermill": {
          "duration": 0.007919,
          "end_time": "2023-12-17T21:12:12.592609",
          "exception": false,
          "start_time": "2023-12-17T21:12:12.58469",
          "status": "completed"
        },
        "tags": [],
        "id": "vEdSSvWf7xtu"
      }
    },
    {
      "cell_type": "code",
      "source": [
        "import numpy as np\n",
        "import pandas as pd\n",
        "import os\n",
        "from tqdm import tqdm\n",
        "\n",
        "import torch\n",
        "import torch.nn as nn\n",
        "\n",
        "import transformers\n",
        "from transformers import (AutoModelForCausalLM,\n",
        "                          AutoTokenizer,\n",
        "                          BitsAndBytesConfig,\n",
        "                          TrainingArguments,\n",
        "                          pipeline,\n",
        "                          logging)\n",
        "\n",
        "from transformers.models.gemma3 import Gemma3ForCausalLM\n",
        "\n",
        "from datasets import Dataset\n",
        "from peft import LoraConfig, PeftConfig, PeftModel\n",
        "from trl import SFTTrainer, SFTConfig\n",
        "import bitsandbytes as bnb\n",
        "\n",
        "from sklearn.metrics import (accuracy_score,\n",
        "                             classification_report,\n",
        "                             confusion_matrix)\n",
        "\n",
        "from sklearn.model_selection import train_test_split\n",
        "import matplotlib.pyplot as plt"
      ],
      "metadata": {
        "papermill": {
          "duration": 19.450408,
          "end_time": "2023-12-17T21:12:32.05101",
          "exception": false,
          "start_time": "2023-12-17T21:12:12.600602",
          "status": "completed"
        },
        "tags": [],
        "trusted": true,
        "execution": {
          "iopub.status.busy": "2025-09-25T12:40:28.008455Z",
          "iopub.execute_input": "2025-09-25T12:40:28.008752Z",
          "iopub.status.idle": "2025-09-25T12:40:52.531199Z",
          "shell.execute_reply.started": "2025-09-25T12:40:28.008725Z",
          "shell.execute_reply": "2025-09-25T12:40:52.530146Z"
        },
        "id": "nY_9TIpE7xtu"
      },
      "outputs": [],
      "execution_count": 6
    },
    {
      "cell_type": "markdown",
      "source": [
        "To check the installed version of the transformers library:"
      ],
      "metadata": {
        "id": "EBb6ZQsm7xtv"
      }
    },
    {
      "cell_type": "code",
      "source": [
        "print(f\"transformers=={transformers.__version__}\")"
      ],
      "metadata": {
        "trusted": true,
        "execution": {
          "iopub.status.busy": "2025-09-25T12:40:52.532161Z",
          "iopub.execute_input": "2025-09-25T12:40:52.532493Z",
          "iopub.status.idle": "2025-09-25T12:40:52.536763Z",
          "shell.execute_reply.started": "2025-09-25T12:40:52.532461Z",
          "shell.execute_reply": "2025-09-25T12:40:52.535849Z"
        },
        "colab": {
          "base_uri": "https://localhost:8080/"
        },
        "id": "arQ8C6-o7xtv",
        "outputId": "2799af02-191e-4499-b226-7adb78e05331"
      },
      "outputs": [
        {
          "output_type": "stream",
          "name": "stdout",
          "text": [
            "transformers==4.56.2\n"
          ]
        }
      ],
      "execution_count": 7
    },
    {
      "cell_type": "markdown",
      "source": [
        "This function determines the best computing device for running the tutorial:"
      ],
      "metadata": {
        "id": "heh5X6p-7xtv"
      }
    },
    {
      "cell_type": "code",
      "source": [
        "def define_device():\n",
        "    \"\"\"Determines and returns the optimal PyTorch device based on availability.\"\"\"\n",
        "\n",
        "    print(f\"PyTorch version: {torch.__version__}\", end=\" -- \")\n",
        "\n",
        "    # Check if MPS (Metal Performance Shaders) is available for macOS\n",
        "    if hasattr(torch.backends, \"mps\") and torch.backends.mps.is_available():\n",
        "        print(\"using MPS device on macOS\")\n",
        "        return torch.device(\"mps\")\n",
        "\n",
        "    # Check for CUDA availability\n",
        "    device = torch.device(\"cuda\" if torch.cuda.is_available() else \"cpu\")\n",
        "    print(f\"using {device}\")\n",
        "    return device"
      ],
      "metadata": {
        "trusted": true,
        "execution": {
          "iopub.status.busy": "2025-09-25T12:40:52.538110Z",
          "iopub.execute_input": "2025-09-25T12:40:52.538445Z",
          "iopub.status.idle": "2025-09-25T12:40:52.793893Z",
          "shell.execute_reply.started": "2025-09-25T12:40:52.538408Z",
          "shell.execute_reply": "2025-09-25T12:40:52.792901Z"
        },
        "id": "QE_tMGrF7xtv"
      },
      "outputs": [],
      "execution_count": 8
    },
    {
      "cell_type": "markdown",
      "source": [
        "This code initializes the Gemma 3 1B model for causal language modeling, ensuring optimal settings based on the available hardware.  \n",
        "\n",
        "* If the GPU supports **bfloat16** (available on GPUs with Compute Capability **8.0+**), it is used for computations.  \n",
        "  Otherwise, **float16** is used as the default.  \n",
        "\n",
        "* **Device Selection:**  \n",
        "  * The function `define_device()` selects the best available device (**CPU, CUDA, or MPS**).  \n",
        "\n",
        "* **Model Initialization:**  \n",
        "  * The model is loaded with memory-efficient configurations, including `low_cpu_mem_usage=True`, and assigned to the selected device.  \n",
        "\n",
        "* **Tokenizer Setup:**  \n",
        "  * A **tokenizer** is initialized with a **maximum sequence length of 1024**.  \n",
        "  * The **end-of-sequence (EOS) token** is stored for later use.  "
      ],
      "metadata": {
        "id": "vUGE-F5b7xtv"
      }
    },
    {
      "cell_type": "code",
      "source": [
        "# Determine optimal computation dtype based on GPU capability\n",
        "compute_dtype = torch.bfloat16 if torch.cuda.get_device_capability()[0] >= 8 else torch.float16\n",
        "print(f\"Using compute dtype {compute_dtype}\")\n",
        "\n",
        "# Select the best available device (CPU, CUDA, or MPS)\n",
        "device = define_device()\n",
        "print(f\"Operating on {device}\")\n",
        "\n",
        "# Path to the pre-trained model\n",
        "GEMMA_PATH = \"google/gemma-3-1b-it\"\n",
        "\n",
        "# Load the model with optimized settings\n",
        "quantization_config = BitsAndBytesConfig(\n",
        "    load_in_4bit=True,\n",
        "    bnb_4bit_quant_type=\"nf4\",\n",
        "    bnb_4bit_compute_dtype=compute_dtype,\n",
        "    bnb_4bit_use_double_quant=True,\n",
        ")\n",
        "\n",
        "model = Gemma3ForCausalLM.from_pretrained(\n",
        "    GEMMA_PATH,\n",
        "    torch_dtype=compute_dtype,\n",
        "    attn_implementation=\"eager\",\n",
        "    low_cpu_mem_usage=True,\n",
        "    quantization_config=quantization_config,\n",
        "    device_map=\"auto\"\n",
        ")\n",
        "\n",
        "# Define maximum sequence length for the tokenizer\n",
        "max_seq_length = 1024\n",
        "\n",
        "# Load the tokenizer\n",
        "tokenizer = AutoTokenizer.from_pretrained(\n",
        "    GEMMA_PATH,\n",
        "    max_seq_length=max_seq_length,\n",
        "    device_map=device\n",
        ")\n",
        "\n",
        "# Store the EOS token for later use\n",
        "EOS_TOKEN = tokenizer.eos_token"
      ],
      "metadata": {
        "trusted": true,
        "execution": {
          "iopub.status.busy": "2025-09-25T12:40:52.794810Z",
          "iopub.execute_input": "2025-09-25T12:40:52.795155Z",
          "iopub.status.idle": "2025-09-25T12:40:52.840141Z",
          "shell.execute_reply.started": "2025-09-25T12:40:52.795121Z",
          "shell.execute_reply": "2025-09-25T12:40:52.838105Z"
        },
        "id": "8EJCX5Ne7xtv"
      },
      "outputs": [],
      "execution_count": null
    },
    {
      "cell_type": "code",
      "source": [
        "print(f\"Model: {model.name_or_path}\")\n",
        "print(f\"Device: {model.device}\")\n",
        "print(f\"DType: {model.dtype}\")\n",
        "\n",
        "if hasattr(model, \"is_quantized\") and model.is_quantized:\n",
        "    # The quantization_config attribute holds the BitsAndBytesConfig object\n",
        "    print(\"Quantization: Enabled\")\n",
        "    print(f\"  - 4bit: {model.is_loaded_in_4bit}\")\n",
        "    print(f\"  - Quant Type: {model.hf_quantizer.quantization_config.bnb_4bit_quant_type}\")\n",
        "    print(f\"  - Compute DType: {model.hf_quantizer.quantization_config.bnb_4bit_compute_dtype}\")\n",
        "else:\n",
        "    print(\"Quantization: Disabled\")"
      ],
      "metadata": {
        "colab": {
          "base_uri": "https://localhost:8080/"
        },
        "id": "BTEsVs0-G7vF",
        "outputId": "3b85128f-0f5e-4ceb-e116-33c882cd5585"
      },
      "execution_count": 10,
      "outputs": [
        {
          "output_type": "stream",
          "name": "stdout",
          "text": [
            "Model: google/gemma-3-1b-it\n",
            "Device: cuda:0\n",
            "DType: torch.float16\n",
            "Quantization: Enabled\n",
            "  - 4bit: True\n",
            "  - Quant Type: nf4\n",
            "  - Compute DType: torch.float16\n"
          ]
        }
      ]
    },
    {
      "cell_type": "markdown",
      "source": [
        "Before proceeding, let's ensures that the entire model is correctly moved to the GPU.\n"
      ],
      "metadata": {
        "id": "OA3sZ8GJ7xtv"
      }
    },
    {
      "cell_type": "code",
      "source": [
        "is_on_gpu = all(param.device.type == 'cuda' for param in model.parameters())\n",
        "print(\"Model is on GPU:\", is_on_gpu)"
      ],
      "metadata": {
        "trusted": true,
        "execution": {
          "iopub.status.busy": "2025-09-25T12:40:52.840793Z",
          "iopub.status.idle": "2025-09-25T12:40:52.841225Z",
          "shell.execute_reply": "2025-09-25T12:40:52.841056Z"
        },
        "colab": {
          "base_uri": "https://localhost:8080/"
        },
        "id": "kqY8uaD57xtv",
        "outputId": "a9f48aa6-cf39-4c64-eafe-c69a127173e8"
      },
      "outputs": [
        {
          "output_type": "stream",
          "name": "stdout",
          "text": [
            "Model is on GPU: True\n"
          ]
        }
      ],
      "execution_count": 11
    },
    {
      "cell_type": "markdown",
      "source": [
        "The following code prepares the dataset for fine-tuning a sentiment analysis model using Gemma. It follows these steps:  \n",
        "\n",
        "1. **Load Dataset**  \n",
        "   * Reads the dataset from `all-data.csv`, which contains two columns:  \n",
        "     - **sentiment**: The sentiment label (positive, neutral, negative).  \n",
        "     - **text**: The financial news headlines.  \n",
        "\n",
        "2. **Stratified Train-Test Split**  \n",
        "   * The dataset is split into **training** and **test** sets, each containing **300 samples per sentiment class**.  \n",
        "   * **Stratification** ensures that each set has an equal distribution of positive, neutral, and negative examples.  \n",
        "\n",
        "3. **Shuffle Training Data**  \n",
        "   * The training data is shuffled using `random_state=10` to ensure **replicability**.  \n",
        "\n",
        "4. **Prepare Evaluation Data**  \n",
        "   * The remaining (unselected) data is assigned to an **evaluation set (`X_eval`)**.  \n",
        "   * To ensure **balanced evaluation**, each sentiment class is resampled to have **50 instances** (negative samples are duplicated if needed).  \n",
        "\n",
        "5. **Convert Text into Prompts**  \n",
        "   * The **training** and **evaluation** data are transformed into **prompts** that instruct the model to classify sentiment.  \n",
        "   * **Training prompts** include sentiment labels (used for fine-tuning).  \n",
        "   * **Test prompts** omit sentiment labels (used for inference).  \n",
        "\n",
        "6. **Wrap Data Using Hugging Face's Dataset Class**  \n",
        "   * Converts `train_data`, `eval_data`, and `test_data` into **Hugging Face Dataset objects** for compatibility with the training pipeline."
      ],
      "metadata": {
        "id": "B71dgb3V7xtv"
      }
    },
    {
      "cell_type": "code",
      "source": [
        "# Load dataset\n",
        "filename = \"https://github.com/lmassaron/Gemma-3-1B-financial-sentiment-analysis/raw/refs/heads/main/all-data.csv\"\n",
        "df = pd.read_csv(filename,\n",
        "                 names=[\"sentiment\", \"text\"],\n",
        "                 encoding=\"utf-8\", encoding_errors=\"replace\")\n",
        "\n",
        "# Initialize lists for train and test sets\n",
        "X_train, X_test = [], []\n",
        "\n",
        "# Stratified train-test split (300 per sentiment)\n",
        "for sentiment in [\"positive\", \"neutral\", \"negative\"]:\n",
        "    train, test = train_test_split(df[df.sentiment == sentiment],\n",
        "                                   train_size=300,\n",
        "                                   test_size=300,\n",
        "                                   random_state=42,\n",
        "                                   stratify=df[df.sentiment == sentiment][\"sentiment\"])\n",
        "    X_train.append(train)\n",
        "    X_test.append(test)\n",
        "\n",
        "# Combine and shuffle training data\n",
        "X_train = pd.concat(X_train).sample(frac=1, random_state=10).reset_index(drop=True)\n",
        "X_test = pd.concat(X_test).reset_index(drop=True)\n",
        "\n",
        "# Identify indices not included in train or test sets\n",
        "selected_indices = set(X_train.index) | set(X_test.index)\n",
        "X_eval = df.loc[~df.index.isin(selected_indices)].copy()\n",
        "\n",
        "# Resample evaluation data to maintain class balance (50 per class, with replacement for minority class)\n",
        "X_eval = X_eval.groupby('sentiment', group_keys=False).apply(\n",
        "    lambda x: x.sample(n=50, random_state=10, replace=True)\n",
        ").reset_index(drop=True)"
      ],
      "metadata": {
        "papermill": {
          "duration": 0.526476,
          "end_time": "2023-12-17T21:12:32.601566",
          "exception": false,
          "start_time": "2023-12-17T21:12:32.07509",
          "status": "completed"
        },
        "tags": [],
        "trusted": true,
        "execution": {
          "iopub.status.busy": "2025-09-25T12:40:52.842199Z",
          "iopub.status.idle": "2025-09-25T12:40:52.842571Z",
          "shell.execute_reply": "2025-09-25T12:40:52.842403Z"
        },
        "id": "D4PiM5qy7xtw"
      },
      "outputs": [],
      "execution_count": 12
    },
    {
      "cell_type": "code",
      "source": [
        "# Function to generate training and evaluation prompts\n",
        "def generate_train_prompt(data_point):\n",
        "    \"\"\"Generates a training prompt for sentiment analysis.\"\"\"\n",
        "    return f\"\"\"\n",
        "    Analyze the sentiment of the news headline enclosed in square brackets.\n",
        "    Determine if it is positive, neutral, or negative, and return the corresponding sentiment label:\n",
        "    \"positive\", \"neutral\", or \"negative\".\n",
        "\n",
        "    [{data_point[\"text\"]}] = {data_point[\"sentiment\"]}\n",
        "    \"\"\".strip() + EOS_TOKEN\n",
        "\n",
        "# Function to generate test prompts (without expected answer)\n",
        "def generate_test_prompt(data_point):\n",
        "    \"\"\"Generates a test prompt for sentiment analysis.\"\"\"\n",
        "    return f\"\"\"\n",
        "    Analyze the sentiment of the news headline enclosed in square brackets.\n",
        "    Determine if it is positive, neutral, or negative, and return the corresponding sentiment label:\n",
        "    \"positive\", \"neutral\", or \"negative\".\n",
        "\n",
        "    [{data_point[\"text\"]}] =\n",
        "    \"\"\".strip()"
      ],
      "metadata": {
        "trusted": true,
        "execution": {
          "iopub.status.busy": "2025-09-25T12:40:52.843134Z",
          "iopub.status.idle": "2025-09-25T12:40:52.843388Z",
          "shell.execute_reply": "2025-09-25T12:40:52.843287Z"
        },
        "id": "jsiQkwNI7xtw"
      },
      "outputs": [],
      "execution_count": 13
    },
    {
      "cell_type": "code",
      "source": [
        "# Apply prompt generation to datasets\n",
        "X_train = pd.DataFrame(X_train.apply(generate_train_prompt, axis=1), columns=[\"text\"])\n",
        "X_eval = pd.DataFrame(X_eval.apply(generate_train_prompt, axis=1), columns=[\"text\"])\n",
        "\n",
        "# Store ground truth labels for test data\n",
        "y_true = X_test[\"sentiment\"]\n",
        "X_test = pd.DataFrame(X_test.apply(generate_test_prompt, axis=1), columns=[\"text\"])\n",
        "\n",
        "# Convert to Hugging Face Dataset format\n",
        "train_data = Dataset.from_pandas(X_train)\n",
        "eval_data = Dataset.from_pandas(X_eval)"
      ],
      "metadata": {
        "trusted": true,
        "execution": {
          "iopub.status.busy": "2025-09-25T12:40:52.844448Z",
          "iopub.status.idle": "2025-09-25T12:40:52.844843Z",
          "shell.execute_reply": "2025-09-25T12:40:52.844651Z"
        },
        "id": "U_2CO2l57xtw"
      },
      "outputs": [],
      "execution_count": 14
    },
    {
      "cell_type": "markdown",
      "source": [
        "The following function evaluates the performance of our **fine-tuned sentiment analysis model** by performing the following tasks:\n",
        "\n",
        "**1. Map Sentiment Labels to Numeric Values**\n",
        "- **Positive** → `2`\n",
        "- **Neutral** → `1`\n",
        "- **Negative** → `0`\n",
        "- Additionally, handles cases where the label is `'none'` by mapping it to **`1 (neutral)`**.\n",
        "\n",
        "**2. Calculate Overall Accuracy**\n",
        "- Computes the accuracy of the model predictions (`y_pred`) compared to the actual sentiment labels (`y_true`).\n",
        "\n",
        "**3. Compute Accuracy for Each Sentiment Label**\n",
        "- Extracts **accuracy scores** separately for:\n",
        "  - **Positive**\n",
        "  - **Neutral**\n",
        "  - **Negative**\n",
        "\n",
        "**4. Generate a Classification Report**\n",
        "- Prints **precision, recall, and F1-score** for each sentiment category.\n",
        "\n",
        "**5. Compute and Display the Confusion Matrix**\n",
        "- Displays a **confusion matrix** to show how often the model misclassifies sentiments (e.g., predicting **neutral** instead of **positive**).\n"
      ],
      "metadata": {
        "papermill": {
          "duration": 0.010178,
          "end_time": "2023-12-17T21:12:32.639198",
          "exception": false,
          "start_time": "2023-12-17T21:12:32.62902",
          "status": "completed"
        },
        "tags": [],
        "id": "_3ROzT_c7xtw"
      }
    },
    {
      "cell_type": "code",
      "source": [
        "def evaluate(y_true, y_pred):\n",
        "    \"\"\"Evaluates the fine-tuned sentiment model's performance.\"\"\"\n",
        "\n",
        "    # Define sentiment label mapping\n",
        "    label_mapping = {'positive': 2, 'neutral': 1, 'negative': 0}\n",
        "\n",
        "    # Convert labels to numeric values\n",
        "    y_true = np.array([label_mapping.get(label, 1) for label in y_true])\n",
        "    y_pred = np.array([label_mapping.get(label, 1) for label in y_pred])\n",
        "\n",
        "    # Calculate overall accuracy\n",
        "    accuracy = accuracy_score(y_true, y_pred)\n",
        "    print(f'Overall Accuracy: {accuracy:.3f}')\n",
        "\n",
        "    # Compute accuracy for each sentiment label\n",
        "    unique_labels = np.unique(y_true)  # Get unique labels in y_true\n",
        "\n",
        "    for label in unique_labels:\n",
        "        label_mask = y_true == label  # Mask to filter specific class\n",
        "        label_accuracy = accuracy_score(y_true[label_mask], y_pred[label_mask])\n",
        "        print(f'Accuracy for label {label} ({list(label_mapping.keys())[list(label_mapping.values()).index(label)]}): {label_accuracy:.3f}')\n",
        "\n",
        "    # Generate classification report\n",
        "    class_report = classification_report(y_true, y_pred, target_names=label_mapping.keys())\n",
        "    print('\\nClassification Report:\\n', class_report)\n",
        "\n",
        "    # Compute and display confusion matrix\n",
        "    conf_matrix = confusion_matrix(y_true, y_pred, labels=[0, 1, 2])\n",
        "    print('\\nConfusion Matrix:\\n', conf_matrix)"
      ],
      "metadata": {
        "papermill": {
          "duration": 0.021281,
          "end_time": "2023-12-17T21:12:32.668587",
          "exception": false,
          "start_time": "2023-12-17T21:12:32.647306",
          "status": "completed"
        },
        "tags": [],
        "trusted": true,
        "execution": {
          "iopub.status.busy": "2025-09-25T12:40:52.846245Z",
          "iopub.status.idle": "2025-09-25T12:40:52.846619Z",
          "shell.execute_reply": "2025-09-25T12:40:52.846460Z"
        },
        "id": "8kZchGe87xtw"
      },
      "outputs": [],
      "execution_count": 15
    },
    {
      "cell_type": "markdown",
      "source": [
        "The following function predicts the sentiment of news headlines. It takes three arguments:\n",
        "\n",
        "- **X_test**: A Pandas DataFrame containing the news headlines to be analyzed.\n",
        "- **model**: The pre-trained **Gemma-3 4B** language model.\n",
        "- **tokenizer**: The corresponding tokenizer for the **Gemma-3 4B** model.\n",
        "\n",
        "### **Function Workflow:**\n",
        "1. **Iterate through each news headline** in `X_test`:\n",
        "   - Construct a prompt asking the model to analyze the sentiment.\n",
        "   - Tokenize the input and move it to the appropriate device (GPU/CPU).\n",
        "   - Generate text using the model and extract the predicted sentiment label.\n",
        "   - Append the sentiment label to `y_pred`.\n",
        "\n",
        "2. **Use the `generate()` function** from the Hugging Face Transformers library:\n",
        "   - `max_new_tokens=5`: Limits the number of generated tokens.\n",
        "   - `temperature=0.0`: Ensures deterministic output.\n",
        "\n",
        "3. **Extract the sentiment label** from the generated text:\n",
        "   - If the text contains \"positive\", assign the label **positive**.\n",
        "   - If the text contains \"negative\", assign the label **negative**.\n",
        "   - If the text contains \"neutral\", assign the label **neutral**.\n",
        "   - If none of these are found, assign **none** as a fallback."
      ],
      "metadata": {
        "papermill": {
          "duration": 0.009804,
          "end_time": "2023-12-17T21:14:01.291046",
          "exception": false,
          "start_time": "2023-12-17T21:14:01.281242",
          "status": "completed"
        },
        "tags": [],
        "id": "gptV2Aap7xtw"
      }
    },
    {
      "cell_type": "code",
      "source": [
        "def predict(X_test, model, tokenizer, device=device, max_new_tokens=5, temperature=0.0):\n",
        "    \"\"\"Predicts the sentiment of news headlines.\"\"\"\n",
        "\n",
        "    y_pred = []  # List to store predicted sentiment labels\n",
        "\n",
        "    # Iterate through each headline in X_test\n",
        "    for i in tqdm(range(len(X_test)), desc=\"Predicting Sentiments\"):\n",
        "        prompt = X_test.iloc[i][\"text\"]  # Extract headline text\n",
        "\n",
        "        # Tokenize and move input to the appropriate device\n",
        "        input_ids = tokenizer(prompt, return_tensors=\"pt\").to(device)\n",
        "\n",
        "        # Generate output from the model\n",
        "        if temperature > 0:\n",
        "          params = {\"do_sample\": True, \"temperature\": temperature}\n",
        "        else:\n",
        "          params = {\"do_sample\": False}\n",
        "\n",
        "        outputs = model.generate(**input_ids,\n",
        "                                 max_new_tokens=max_new_tokens,\n",
        "                                 **params)\n",
        "\n",
        "        # Decode the generated output into text\n",
        "        result = tokenizer.decode(outputs[0], skip_special_tokens=True).strip().lower()\n",
        "        result = result.split(\"=\")[-1]\n",
        "\n",
        "        # Extract sentiment from the generated text\n",
        "        if \"positive\" in result:\n",
        "            y_pred.append(\"positive\")\n",
        "        elif \"negative\" in result:\n",
        "            y_pred.append(\"negative\")\n",
        "        elif \"neutral\" in result:\n",
        "            y_pred.append(\"neutral\")\n",
        "        else:\n",
        "            y_pred.append(\"none\")  # Fallback to error if no clear sentiment is detected\n",
        "\n",
        "    return y_pred"
      ],
      "metadata": {
        "papermill": {
          "duration": 0.020352,
          "end_time": "2023-12-17T21:14:01.321014",
          "exception": false,
          "start_time": "2023-12-17T21:14:01.300662",
          "status": "completed"
        },
        "tags": [],
        "trusted": true,
        "execution": {
          "iopub.status.busy": "2025-09-25T12:40:52.847727Z",
          "iopub.status.idle": "2025-09-25T12:40:52.848105Z",
          "shell.execute_reply": "2025-09-25T12:40:52.847936Z"
        },
        "id": "NFsayg5k7xtx"
      },
      "outputs": [],
      "execution_count": 16
    },
    {
      "cell_type": "markdown",
      "source": [
        "At this stage, we are ready to test the **Gemma-3 1B** model on our dataset **without any fine-tuning**. This initial evaluation provides insights into the model's **inherent performance** and helps establish a **baseline** for comparison with future fine-tuned models.\n",
        "\n",
        "We use the `predict` function to generate sentiment predictions for the test set:"
      ],
      "metadata": {
        "papermill": {
          "duration": 0.009582,
          "end_time": "2023-12-17T21:14:01.340377",
          "exception": false,
          "start_time": "2023-12-17T21:14:01.330795",
          "status": "completed"
        },
        "tags": [],
        "id": "6aaKgSPc7xtx"
      }
    },
    {
      "cell_type": "code",
      "source": [
        "y_pred = predict(X_test, model, tokenizer)"
      ],
      "metadata": {
        "papermill": {
          "duration": 366.910332,
          "end_time": "2023-12-17T21:20:08.260576",
          "exception": false,
          "start_time": "2023-12-17T21:14:01.350244",
          "status": "completed"
        },
        "tags": [],
        "trusted": true,
        "execution": {
          "iopub.status.busy": "2025-09-25T12:40:52.849138Z",
          "iopub.status.idle": "2025-09-25T12:40:52.849524Z",
          "shell.execute_reply": "2025-09-25T12:40:52.849351Z"
        },
        "colab": {
          "base_uri": "https://localhost:8080/"
        },
        "id": "75ieiCIh7xtx",
        "outputId": "ae20e600-0176-43c7-a02c-56c2a6db38c7"
      },
      "outputs": [
        {
          "output_type": "stream",
          "name": "stderr",
          "text": [
            "Predicting Sentiments:   0%|          | 0/900 [00:00<?, ?it/s]The following generation flags are not valid and may be ignored: ['top_p', 'top_k']. Set `TRANSFORMERS_VERBOSITY=info` for more details.\n",
            "Predicting Sentiments: 100%|██████████| 900/900 [08:39<00:00,  1.73it/s]\n"
          ]
        }
      ],
      "execution_count": 17
    },
    {
      "cell_type": "markdown",
      "source": [
        "In the next step, we evaluate the model's predictions against the true sentiment labels:"
      ],
      "metadata": {
        "papermill": {
          "duration": 0.078787,
          "end_time": "2023-12-17T21:20:08.418105",
          "exception": false,
          "start_time": "2023-12-17T21:20:08.339318",
          "status": "completed"
        },
        "tags": [],
        "id": "chlBGht_7xtx"
      }
    },
    {
      "cell_type": "code",
      "source": [
        "evaluate(y_true, y_pred)"
      ],
      "metadata": {
        "papermill": {
          "duration": 0.115727,
          "end_time": "2023-12-17T21:20:08.612213",
          "exception": false,
          "start_time": "2023-12-17T21:20:08.496486",
          "status": "completed"
        },
        "tags": [],
        "trusted": true,
        "execution": {
          "iopub.status.busy": "2025-09-25T12:40:52.850084Z",
          "iopub.status.idle": "2025-09-25T12:40:52.850447Z",
          "shell.execute_reply": "2025-09-25T12:40:52.850287Z"
        },
        "colab": {
          "base_uri": "https://localhost:8080/"
        },
        "id": "Dma3mFec7xtx",
        "outputId": "39609fb9-f816-4b54-bf4c-d1a735d04261"
      },
      "outputs": [
        {
          "output_type": "stream",
          "name": "stdout",
          "text": [
            "Overall Accuracy: 0.444\n",
            "Accuracy for label 0 (negative): 0.223\n",
            "Accuracy for label 1 (neutral): 0.200\n",
            "Accuracy for label 2 (positive): 0.910\n",
            "\n",
            "Classification Report:\n",
            "               precision    recall  f1-score   support\n",
            "\n",
            "    positive       0.85      0.22      0.35       300\n",
            "     neutral       0.45      0.20      0.28       300\n",
            "    negative       0.40      0.91      0.55       300\n",
            "\n",
            "    accuracy                           0.44       900\n",
            "   macro avg       0.56      0.44      0.39       900\n",
            "weighted avg       0.56      0.44      0.39       900\n",
            "\n",
            "\n",
            "Confusion Matrix:\n",
            " [[ 67  50 183]\n",
            " [  9  60 231]\n",
            " [  3  24 273]]\n"
          ]
        }
      ],
      "execution_count": 18
    },
    {
      "cell_type": "markdown",
      "source": [
        "We employ the `SFTTrainer`, a specialized trainer from the TRL library, to conduct supervised fine-tuning. This trainer is optimized for fine-tuning pre-trained models, especially when working with smaller datasets, and it simplifies the overall workflow.\n",
        "\n",
        "The core of our efficiency comes from the **Parameter-Efficient Fine-Tuning (PEFT)** method. Instead of retraining all the parameters of the LLM, PEFT techniques like LoRA focus on a small subset of parameters. This approach significantly reduces computational and storage costs while mitigating the risk of \"catastrophic forgetting,\" where a model loses its original capabilities after fine-tuning.\n",
        "\n",
        "### `LoraConfig`\n",
        "\n",
        "The `peft_config` object, an instance of `LoraConfig`, specifies the parameters for the LoRA fine-tuning process.\n",
        "\n",
        "-   **`lora_alpha`**: This acts as a scaling factor for the LoRA updates. It's a hyperparameter that can be tuned, and a common practice is to set it to twice the value of `r`. In this configuration, it is set to `32`.\n",
        "-   **`lora_dropout`**: This specifies the dropout probability for the LoRA layers, which helps in preventing overfitting. Here, it is set to `0.05`.\n",
        "-   **`r`**: This parameter, also known as the rank, determines the dimension of the low-rank matrices used in LoRA. A higher rank results in more trainable parameters. In this case, the rank is `64`.\n",
        "-   **`bias`**: This defines which biases to train. Setting it to \"`none`\" means no biases will be trained.\n",
        "-   **`task_type`**: This specifies the type of task the model is being fine-tuned for. For language generation models, this is set to \"`CAUSAL_LM`\" (Causal Language Modeling).\n",
        "-   **`target_modules`**: This indicates which modules within the model's architecture to apply LoRA to. Here, \"`all-linear`\" applies LoRA to all linear layers.\n",
        "\n",
        "### `SFTConfig`\n",
        "\n",
        "The `training_arguments` object, an instance of `SFTConfig`, holds all the arguments for the training process itself. `SFTConfig` is a subclass of the `TrainingArguments` class from the Transformers library, with additional parameters specific to supervised fine-tuning.\n",
        "\n",
        "-   **`output_dir`**: The directory where training logs and checkpoints are saved.\n",
        "-   **`num_train_epochs`**: The total number of training epochs to perform.\n",
        "-   **`gradient_checkpointing`**: A technique to reduce GPU memory usage at the cost of a slight slowdown in training.\n",
        "-   **`per_device_train_batch_size`**: The batch size for training on each GPU.\n",
        "-   **`gradient_accumulation_steps`**: The number of batches to process before performing a backward/update pass. This effectively increases the batch size.\n",
        "-   **`optim`**: The optimizer to use for training. \"`adamw_torch_fused`\" is a memory-efficient version of the AdamW optimizer.\n",
        "-   **`save_steps`**: A checkpoint is saved every `50` steps.\n",
        "-   **`load_best_model_at_end`**: If set to `True`, the best model checkpoint will be loaded at the end of training.\n",
        "-   **`logging_steps`**: Training metrics are logged every `25` steps.\n",
        "-   **`learning_rate`**: The initial learning rate for the optimizer.\n",
        "-   **`weight_decay`**: The amount of weight decay to apply for regularization.\n",
        "-   **`fp16` / `bf16`**: These booleans enable 16-bit precision training (either float16 or bfloat16) to speed up training and reduce memory usage, depending on the available hardware.\n",
        "-   **`max_grad_norm`**: The maximum value for gradient clipping, used to prevent exploding gradients.\n",
        "-   **`max_steps`**: The total number of training steps. If set to `-1`, it is determined by the number of epochs.\n",
        "-   **`warmup_ratio`**: The proportion of training steps used for a learning rate warm-up.\n",
        "-   **`group_by_length`**: If true, sequences of similar lengths are grouped together in batches to minimize padding and increase training efficiency.\n",
        "-   **`eval_strategy`**: Specifies the evaluation strategy. \"`steps`\" means evaluation is performed at regular step intervals.\n",
        "-   **`eval_steps`**: Evaluation is performed every `50` training steps.\n",
        "-   **`eval_accumulation_steps`**: The number of prediction steps to accumulate before moving the results to the CPU.\n",
        "-   **`lr_scheduler_type`**: The type of learning rate scheduler.\n",
        "-   **`report_to`**: The integrations to report results to, in this case, \"`tensorboard`\".\n",
        "-   **`max_length`**: The maximum sequence length for the model.\n",
        "-   **`packing`**: If `True`, multiple short examples are packed into a single input sequence to improve training efficiency.\n",
        "-   **`dataset_kwargs`**: A dictionary of keyword arguments to pass to the dataset processing function.\n",
        "\n",
        "### `SFTTrainer`\n",
        "\n",
        "The `SFTTrainer` is initialized with the model, datasets, configurations, and tokenizer.\n",
        "\n",
        "-   **`model`**: The instantiated model that will be trained.\n",
        "-   **`train_dataset`**: The preprocessed dataset for training.\n",
        "-   **`eval_dataset`**: The preprocessed dataset for evaluation.\n",
        "-   **`peft_config`**: The `LoraConfig` object for PEFT.\n",
        "-   **`processing_class`**: This should likely be `tokenizer` instead of `processing_class`. The `tokenizer` argument is used to tokenize the dataset.\n",
        "-   **`args`**: The `SFTConfig` object containing the training arguments.\n",
        "\n",
        "Once the `SFTTrainer` is initialized, the training process is started by calling the `trainer.train()` method."
      ],
      "metadata": {
        "papermill": {
          "duration": 0.078192,
          "end_time": "2023-12-17T21:20:08.781177",
          "exception": false,
          "start_time": "2023-12-17T21:20:08.702985",
          "status": "completed"
        },
        "tags": [],
        "id": "H_mIbU9Z7xtx"
      }
    },
    {
      "cell_type": "code",
      "source": [
        "peft_config = LoraConfig(\n",
        "    lora_alpha=32,\n",
        "    lora_dropout=0.05,\n",
        "    r=64,\n",
        "    bias=\"none\",\n",
        "    task_type=\"CAUSAL_LM\",\n",
        "    target_modules=\"all-linear\",\n",
        ")\n",
        "\n",
        "training_arguments = SFTConfig(\n",
        "    output_dir=\"logs\",\n",
        "    num_train_epochs=2,\n",
        "    gradient_checkpointing=True,\n",
        "    gradient_checkpointing_kwargs={\"use_reentrant\": False},  # Use reentrant checkpointing\n",
        "    per_device_train_batch_size=1,\n",
        "    gradient_accumulation_steps=8,\n",
        "    optim=\"adamw_torch_fused\",  # Use fused AdamW optimizer\n",
        "    save_steps=50,\n",
        "    load_best_model_at_end=True,\n",
        "    logging_steps=25,\n",
        "    learning_rate=2e-4,\n",
        "    weight_decay=0.001,\n",
        "    fp16=True if compute_dtype == torch.float16 else False,  # Use float16 precision\n",
        "    bf16=True if compute_dtype == torch.bfloat16 else False,  # Use bfloat16 precision\n",
        "    max_grad_norm=0.3,\n",
        "    max_steps=-1,\n",
        "    warmup_ratio=0.03,\n",
        "    group_by_length=False,\n",
        "    eval_strategy=\"steps\",\n",
        "    eval_steps=50,\n",
        "    eval_accumulation_steps=1,\n",
        "    lr_scheduler_type=\"constant\",\n",
        "    report_to=\"tensorboard\",\n",
        "    max_length=max_seq_length,\n",
        "    packing=False,\n",
        "    dataset_kwargs={\n",
        "        \"add_special_tokens\": False,  # Template with special tokens\n",
        "        \"append_concat_token\": True,  # Add EOS token as separator token\n",
        "    }\n",
        ")\n",
        "\n",
        "model.config.use_cache = False\n",
        "model.config.pretraining_tp = 1\n",
        "\n",
        "trainer = SFTTrainer(\n",
        "    model=model,\n",
        "    train_dataset=train_data,\n",
        "    eval_dataset=eval_data,\n",
        "    peft_config=peft_config,\n",
        "    processing_class=tokenizer,\n",
        "    args=training_arguments,\n",
        ")"
      ],
      "metadata": {
        "papermill": {
          "duration": 0.907911,
          "end_time": "2023-12-17T21:20:09.767766",
          "exception": false,
          "start_time": "2023-12-17T21:20:08.859855",
          "status": "completed"
        },
        "tags": [],
        "trusted": true,
        "execution": {
          "iopub.status.busy": "2025-09-25T12:40:52.851270Z",
          "iopub.status.idle": "2025-09-25T12:40:52.851632Z",
          "shell.execute_reply": "2025-09-25T12:40:52.851474Z"
        },
        "id": "Uty1QsPg7xtx"
      },
      "outputs": [],
      "execution_count": null
    },
    {
      "cell_type": "markdown",
      "source": [
        "The `trainer.train()` function is called to start the training process. This triggers the fine-tuning of the model based on the specified training arguments, datasets, and PEFT configuration. During this process, the model will iteratively adjust its parameters, leveraging the training data to improve performance on the sentiment analysis task. The training will proceed according to the parameters set in the `training_arguments`, such as the number of epochs, batch size, and evaluation steps.\n",
        "\n",
        "This method will also handle the evaluation of the model at specified intervals, providing insights into the model's performance as it trains."
      ],
      "metadata": {
        "id": "XDooI-917xty"
      }
    },
    {
      "cell_type": "code",
      "source": [
        "# Train model\n",
        "trainer.train()"
      ],
      "metadata": {
        "papermill": {
          "duration": 3279.391068,
          "end_time": "2023-12-17T22:14:49.397236",
          "exception": false,
          "start_time": "2023-12-17T21:20:10.006168",
          "status": "completed"
        },
        "tags": [],
        "trusted": true,
        "execution": {
          "iopub.status.busy": "2025-09-25T12:40:52.852404Z",
          "iopub.status.idle": "2025-09-25T12:40:52.852794Z",
          "shell.execute_reply": "2025-09-25T12:40:52.852619Z"
        },
        "colab": {
          "base_uri": "https://localhost:8080/",
          "height": 274
        },
        "id": "fi2ZnSYP7xty",
        "outputId": "67896a8c-1b25-49e8-f2c3-d78e44eb708c"
      },
      "outputs": [
        {
          "output_type": "stream",
          "name": "stderr",
          "text": [
            "The tokenizer has new PAD/BOS/EOS tokens that differ from the model config and generation config. The model config and generation config were aligned accordingly, being updated with the tokenizer's values. Updated tokens: {'eos_token_id': 1}.\n"
          ]
        },
        {
          "output_type": "display_data",
          "data": {
            "text/plain": [
              "<IPython.core.display.HTML object>"
            ],
            "text/html": [
              "\n",
              "    <div>\n",
              "      \n",
              "      <progress value='226' max='226' style='width:300px; height:20px; vertical-align: middle;'></progress>\n",
              "      [226/226 22:14, Epoch 2/2]\n",
              "    </div>\n",
              "    <table border=\"1\" class=\"dataframe\">\n",
              "  <thead>\n",
              " <tr style=\"text-align: left;\">\n",
              "      <th>Step</th>\n",
              "      <th>Training Loss</th>\n",
              "      <th>Validation Loss</th>\n",
              "      <th>Entropy</th>\n",
              "      <th>Num Tokens</th>\n",
              "      <th>Mean Token Accuracy</th>\n",
              "    </tr>\n",
              "  </thead>\n",
              "  <tbody>\n",
              "    <tr>\n",
              "      <td>50</td>\n",
              "      <td>1.188600</td>\n",
              "      <td>1.215040</td>\n",
              "      <td>1.225811</td>\n",
              "      <td>33546.000000</td>\n",
              "      <td>0.771244</td>\n",
              "    </tr>\n",
              "    <tr>\n",
              "      <td>100</td>\n",
              "      <td>1.169300</td>\n",
              "      <td>1.130326</td>\n",
              "      <td>1.195149</td>\n",
              "      <td>67868.000000</td>\n",
              "      <td>0.780688</td>\n",
              "    </tr>\n",
              "    <tr>\n",
              "      <td>150</td>\n",
              "      <td>0.889600</td>\n",
              "      <td>1.116214</td>\n",
              "      <td>1.053856</td>\n",
              "      <td>101319.000000</td>\n",
              "      <td>0.783574</td>\n",
              "    </tr>\n",
              "    <tr>\n",
              "      <td>200</td>\n",
              "      <td>0.905400</td>\n",
              "      <td>1.064929</td>\n",
              "      <td>1.048344</td>\n",
              "      <td>135328.000000</td>\n",
              "      <td>0.792854</td>\n",
              "    </tr>\n",
              "  </tbody>\n",
              "</table><p>"
            ]
          },
          "metadata": {}
        },
        {
          "output_type": "execute_result",
          "data": {
            "text/plain": [
              "TrainOutput(global_step=226, training_loss=1.1058962160507135, metrics={'train_runtime': 1340.0347, 'train_samples_per_second': 1.343, 'train_steps_per_second': 0.169, 'total_flos': 687060457998336.0, 'train_loss': 1.1058962160507135, 'epoch': 2.0})"
            ]
          },
          "metadata": {},
          "execution_count": 20
        }
      ],
      "execution_count": 20
    },
    {
      "cell_type": "markdown",
      "source": [
        "the code in the next cell provides a visual representation of how the model's performance on both the training and validation datasets has evolved over the course of the training epochs. This is crucial for diagnosing issues like overfitting (where training loss decreases but validation loss increases) or underfitting (where both losses remain high)."
      ],
      "metadata": {
        "id": "caLoGbyReRdG"
      }
    },
    {
      "cell_type": "code",
      "source": [
        "# Access the log history\n",
        "log_history = trainer.state.log_history\n",
        "\n",
        "# Extract training / validation loss\n",
        "train_losses = [log[\"loss\"] for log in log_history if \"loss\" in log]\n",
        "epoch_train = [log[\"epoch\"] for log in log_history if \"loss\" in log]\n",
        "eval_losses = [log[\"eval_loss\"] for log in log_history if \"eval_loss\" in log]\n",
        "epoch_eval = [log[\"epoch\"] for log in log_history if \"eval_loss\" in log]\n",
        "\n",
        "# Plot the training loss\n",
        "plt.plot(epoch_train, train_losses, label=\"Training Loss\")\n",
        "plt.plot(epoch_eval, eval_losses, label=\"Validation Loss\")\n",
        "plt.xlabel(\"Epoch\")\n",
        "plt.ylabel(\"Loss\")\n",
        "plt.title(\"Training and Validation Loss per Epoch\")\n",
        "plt.legend()\n",
        "plt.grid(True)\n",
        "plt.show()"
      ],
      "metadata": {
        "colab": {
          "base_uri": "https://localhost:8080/",
          "height": 472
        },
        "id": "uX1eKWr1DrC5",
        "outputId": "320fd4aa-8f75-4466-e6f3-2188f6c0bada"
      },
      "execution_count": 23,
      "outputs": [
        {
          "output_type": "display_data",
          "data": {
            "text/plain": [
              "<Figure size 640x480 with 1 Axes>"
            ],
            "image/png": "[encoded data removed]"
          },
          "metadata": {}
        }
      ]
    },
    {
      "cell_type": "markdown",
      "source": [
        "Of course, here is an updated version of the markdown that is more streamlined and directly incorporates the code.\n",
        "\n",
        "### Saving the Fine-Tuned Model and Tokenizer\n",
        "\n",
        "The following code saves the fine-tuned LoRA adapter and the tokenizer to a directory. This is a crucial step to ensure that the trained components can be easily reloaded for inference or further training later.\n",
        "\n",
        "1.  **Saving the LoRA Adapter**:\n",
        "    The command `trainer.model.save_pretrained(output_dir)` saves only the trained LoRA adapter weights, not the full model. This is one of the key advantages of PEFT/LoRA, as the resulting adapter is very small (typically just a few megabytes). This file can be loaded on top of the original base model to restore its fine-tuned behavior.\n",
        "\n",
        "2.  **Saving the Tokenizer**:\n",
        "    The command `tokenizer.save_pretrained(output_dir)` saves the tokenizer's configuration and vocabulary files. It is essential to save the tokenizer that was used during training to ensure that text is processed identically during inference. This prevents potential issues caused by tokenization mismatches."
      ],
      "metadata": {
        "id": "CR701C8R7xtz"
      }
    },
    {
      "cell_type": "code",
      "source": [
        "# Save trained LoRA adapter and the tokenizer\n",
        "trainer.model.save_pretrained(\"qlora-Gemma3-model\")\n",
        "tokenizer.save_pretrained(\"qlora-Gemma3-model\")"
      ],
      "metadata": {
        "trusted": true,
        "execution": {
          "iopub.status.busy": "2025-09-25T12:40:52.853613Z",
          "iopub.status.idle": "2025-09-25T12:40:52.854000Z",
          "shell.execute_reply": "2025-09-25T12:40:52.853842Z"
        },
        "colab": {
          "base_uri": "https://localhost:8080/"
        },
        "id": "i_gtl0307xtz",
        "outputId": "2d068eb4-32f6-4b93-fa59-913086c35bf0"
      },
      "outputs": [
        {
          "output_type": "execute_result",
          "data": {
            "text/plain": [
              "('qlora-Gemma3-model/tokenizer_config.json',\n",
              " 'qlora-Gemma3-model/special_tokens_map.json',\n",
              " 'qlora-Gemma3-model/chat_template.jinja',\n",
              " 'qlora-Gemma3-model/tokenizer.model',\n",
              " 'qlora-Gemma3-model/added_tokens.json',\n",
              " 'qlora-Gemma3-model/tokenizer.json')"
            ]
          },
          "metadata": {},
          "execution_count": 24
        }
      ],
      "execution_count": 24
    },
    {
      "cell_type": "markdown",
      "source": [
        "This cell uploads your fine-tuned model components to the Hugging Face Hub, making them publicly accessible and easy for you or others to reuse later."
      ],
      "metadata": {
        "id": "TOHFOd40e-08"
      }
    },
    {
      "cell_type": "code",
      "source": [
        "if not DEMO:\n",
        "  repo_name = f\"lmassaron/qlora4b-Gemma3-1B-finsent\"\n",
        "\n",
        "  # Push the model to the Hub\n",
        "  trainer.model.push_to_hub(repo_name)\n",
        "\n",
        "  # Push the tokenizer to the Hub\n",
        "  tokenizer.push_to_hub(repo_name)\n",
        "\n",
        "  print(f\"Model and tokenizer pushed to {repo_name}\")"
      ],
      "metadata": {
        "id": "Q81kmKmqFRqw"
      },
      "execution_count": null,
      "outputs": []
    },
    {
      "cell_type": "markdown",
      "source": [
        "The following code performs sentiment label prediction on the test set and evaluates the model's performance:\n",
        "\n",
        "1. **Predict Sentiment Labels**:  \n",
        "   The `predict(X_test, model, tokenizer)` function is called to predict the sentiment labels for the test dataset (`X_test`). This function generates predictions based on the fine-tuned model.\n",
        "\n",
        "2. **Evaluate Model Performance**:  \n",
        "   The `evaluate(y_true, y_pred)` function is used to assess the model's performance by comparing the true sentiment labels (`y_true`) with the predicted labels (`y_pred`). The evaluation will compute metrics like accuracy, precision, recall, and F1-score, which provide insights into how well the model is performing for each sentiment class.\n",
        "\n",
        "With a well-fine-tuned model, we expect to achieve an overall accuracy of over 0.8, and the performance for individual sentiment labels (positive, negative, and neutral) should be high, especially for positive and negative classes. While there might still be room for improvement in predicting neutral sentiment, the results should be impressive given the relatively small dataset and the use of fine-tuning."
      ],
      "metadata": {
        "papermill": {
          "duration": 0.079228,
          "end_time": "2023-12-17T22:14:57.418749",
          "exception": false,
          "start_time": "2023-12-17T22:14:57.339521",
          "status": "completed"
        },
        "tags": [],
        "id": "Nv4p5Toq7xtz"
      }
    },
    {
      "cell_type": "code",
      "source": [
        "model.eval()\n",
        "y_pred = predict(X_test, model, tokenizer)\n",
        "evaluate(y_true, y_pred)"
      ],
      "metadata": {
        "papermill": {
          "duration": 379.935342,
          "end_time": "2023-12-17T22:21:17.436577",
          "exception": false,
          "start_time": "2023-12-17T22:14:57.501235",
          "status": "completed"
        },
        "tags": [],
        "trusted": true,
        "execution": {
          "iopub.status.busy": "2025-09-25T12:40:52.856423Z",
          "iopub.status.idle": "2025-09-25T12:40:52.856839Z",
          "shell.execute_reply": "2025-09-25T12:40:52.856650Z"
        },
        "colab": {
          "base_uri": "https://localhost:8080/"
        },
        "id": "EYSn2mYp7xtz",
        "outputId": "cf93740a-19fc-4a46-b8c2-9bc240f454f9"
      },
      "outputs": [
        {
          "output_type": "stream",
          "name": "stderr",
          "text": [
            "Predicting Sentiments: 100%|██████████| 900/900 [05:00<00:00,  3.00it/s]"
          ]
        },
        {
          "output_type": "stream",
          "name": "stdout",
          "text": [
            "Overall Accuracy: 0.858\n",
            "Accuracy for label 0 (negative): 0.953\n",
            "Accuracy for label 1 (neutral): 0.777\n",
            "Accuracy for label 2 (positive): 0.843\n",
            "\n",
            "Classification Report:\n",
            "               precision    recall  f1-score   support\n",
            "\n",
            "    positive       0.93      0.95      0.94       300\n",
            "     neutral       0.83      0.78      0.80       300\n",
            "    negative       0.82      0.84      0.83       300\n",
            "\n",
            "    accuracy                           0.86       900\n",
            "   macro avg       0.86      0.86      0.86       900\n",
            "weighted avg       0.86      0.86      0.86       900\n",
            "\n",
            "\n",
            "Confusion Matrix:\n",
            " [[286   8   6]\n",
            " [ 16 233  51]\n",
            " [  6  41 253]]\n"
          ]
        },
        {
          "output_type": "stream",
          "name": "stderr",
          "text": [
            "\n"
          ]
        }
      ],
      "execution_count": 26
    },
    {
      "cell_type": "markdown",
      "source": [
        "The model performs particularly well with the **negative class** (high recall), showing strong performance in identifying negative sentiment. The **positive class** also shows good results, with a high recall and F1-score, but the **neutral class** still lags behind, with more modest recall and F1-score.\n",
        "\n",
        "The **confusion matrix** indicates that the model frequently predicts positive and negative sentiment correctly, with only a few neutral instances misclassified as positive or negative.\n",
        "\n",
        "Compared to the results previously obtained by fine-tuning **Gemma 7B-IT** (see: [Fine-tune Gemma 7B-IT for sentiment analysis](https://www.kaggle.com/code/lucamassaron/fine-tune-gemma-7b-it-for-sentiment-analysis)), we have to admit that, despite being a smaller model, the **Gemma 3 1B-IT** shows impressive potential for sentiment analysis. While the **Gemma 7B-IT quantized 4-bit** model certainly excels in overall accuracy and demonstrates better performance for the **neutral sentiment** class, it’s important to remember that **Gemma 3 1B-IT** is significantly more lightweight — seven times smaller — yet still delivers remarkable results.\n",
        "\n",
        "The **Gemma 3 1B-IT** model excels in classifying **negative sentiment**, achieving high accuracy and recall, and with additional fine-tuning, its performance on **neutral sentiment** could further improve. The **neutral sentiment** class, while not as strong as the 7B model, still shows promising potential and can be enhanced with targeted adjustments.\n",
        "\n",
        "The **Gemma 3 1B-IT** model offers a great trade-off between performance and computational efficiency, making it an attractive option for developers and researchers with limited resources or those needing faster deployment. While **Gemma 7B-IT** may offer a more balanced performance overall, **Gemma 3 1B-IT** is a powerful and efficient alternative, showing strong potential with fine-tuning, especially in terms of **negative sentiment classification**."
      ],
      "metadata": {
        "id": "1Jx8d_OF7xtz"
      }
    },
    {
      "cell_type": "markdown",
      "source": [
        "this code organizes the results of a model's performance on a test set into a structured table and saves it to a CSV file for easy analysis."
      ],
      "metadata": {
        "id": "VTSOREz5gFA4"
      }
    },
    {
      "cell_type": "code",
      "source": [
        "evaluation = pd.DataFrame({'text': X_test[\"text\"],\n",
        "                           'y_true':y_true,\n",
        "                           'y_pred': y_pred},\n",
        "                         )\n",
        "evaluation.to_csv(\"test_predictions.csv\", index=False)"
      ],
      "metadata": {
        "papermill": {
          "duration": 0.182657,
          "end_time": "2023-12-17T22:21:18.077143",
          "exception": false,
          "start_time": "2023-12-17T22:21:17.894486",
          "status": "completed"
        },
        "tags": [],
        "trusted": true,
        "execution": {
          "iopub.status.busy": "2025-09-25T12:40:52.859150Z",
          "iopub.status.idle": "2025-09-25T12:40:52.859522Z",
          "shell.execute_reply": "2025-09-25T12:40:52.859360Z"
        },
        "id": "15D9nvPl7xt0"
      },
      "outputs": [],
      "execution_count": 27
    },
    {
      "cell_type": "markdown",
      "source": [
        "Of course. Here is a brief explanation.\n",
        "\n",
        "This code block **combines the small, trained LoRA adapter with the original base model to create a single, full-sized, standalone fine-tuned model.**\n",
        "\n",
        "It performs three key actions:\n",
        "\n",
        "1.  **`merged_model = trainer.model.merge_and_unload()`**: This is the core step. It \"bakes in\" the fine-tuning by mathematically merging the LoRA adapter's weights into the base model's weights. It then unloads the now-redundant adapter from memory, leaving you with a single, unified model.\n",
        "\n",
        "2.  **`merged_model.save_pretrained(...)`**: This command saves the newly created, full-sized merged model to a directory. Unlike saving just the adapter (which is very small), this saves the entire multi-billion parameter model, making it larger but easier to deploy.\n",
        "\n",
        "3.  **`tokenizer.save_pretrained(...)`**: This saves the tokenizer into the same directory, bundling everything needed for inference into one convenient location. Now, anyone can load this single directory to get the complete, ready-to-use fine-tuned model and its correct tokenizer."
      ],
      "metadata": {
        "id": "BwATAtaPgPCR"
      }
    },
    {
      "cell_type": "code",
      "source": [
        "# Merge LoRA and base model and save\n",
        "merged_model = trainer.model.merge_and_unload()\n",
        "merged_model.save_pretrained(\"merged4q-Gemma3-model\")\n",
        "tokenizer.save_pretrained(\"merged4q-Gemma3-model\")"
      ],
      "metadata": {
        "trusted": true,
        "execution": {
          "iopub.status.busy": "2025-09-25T12:40:52.860336Z",
          "iopub.status.idle": "2025-09-25T12:40:52.860774Z",
          "shell.execute_reply": "2025-09-25T12:40:52.860542Z"
        },
        "colab": {
          "base_uri": "https://localhost:8080/"
        },
        "id": "1QyfDQlF7xt0",
        "outputId": "d8c42c9d-4d80-44ee-efc1-0ea0b0ebde54"
      },
      "outputs": [
        {
          "output_type": "execute_result",
          "data": {
            "text/plain": [
              "('merged4q-Gemma3-model/tokenizer_config.json',\n",
              " 'merged4q-Gemma3-model/special_tokens_map.json',\n",
              " 'merged4q-Gemma3-model/chat_template.jinja',\n",
              " 'merged4q-Gemma3-model/tokenizer.model',\n",
              " 'merged4q-Gemma3-model/added_tokens.json',\n",
              " 'merged4q-Gemma3-model/tokenizer.json')"
            ]
          },
          "metadata": {},
          "execution_count": 28
        }
      ],
      "execution_count": 28
    },
    {
      "cell_type": "code",
      "source": [
        "if not DEMO:\n",
        "  repo_name = f\"lmassaron/merged-LoRA-Gemma3-1B-finsent\"\n",
        "\n",
        "  # Push the model to the Hub\n",
        "  merged_model.push_to_hub(repo_name)\n",
        "\n",
        "  # Push the tokenizer to the Hub\n",
        "  tokenizer.push_to_hub(repo_name)\n",
        "\n",
        "  print(f\"Model and tokenizer pushed to {repo_name}\")"
      ],
      "metadata": {
        "id": "zOKqVveOAp1a"
      },
      "execution_count": null,
      "outputs": []
    },
    {
      "cell_type": "markdown",
      "source": [
        "this code **calculates and prints the total disk size of the two different model types you saved**: the small LoRA adapter and the large, fully merged model.\n",
        "\n",
        "It works in two main parts:\n",
        "\n",
        "1.  **The `get_directory_size` function:**\n",
        "    This is a helper utility. It \"walks\" through every single file within a given directory (and all its subdirectories), gets the size of each one, and adds them all together to calculate a total size in bytes.\n",
        "\n",
        "2.  **The Main Loop:**\n",
        "    The main part of the code then iterates through your two model directories (`qlora-Gemma3-model` and `merged4q-Gemma3-model`). For each one, it:\n",
        "    *   Calls the function to get its total size in bytes.\n",
        "    *   Converts this byte value into gigabytes (GB).\n",
        "    *   Prints the final size in a formatted, easy-to-read way.\n",
        "\n",
        "The purpose of this is to clearly demonstrate the practical difference in file size between saving just the efficient **LoRA adapter** versus saving the entire, standalone **merged model**."
      ],
      "metadata": {
        "id": "JYXV12odgRNX"
      }
    },
    {
      "cell_type": "code",
      "source": [
        "def get_directory_size(directory_path):\n",
        "    \"\"\"Calculates the total size of a directory and its subdirectories in bytes.\"\"\"\n",
        "    total_size = 0\n",
        "    # os.walk generates the file names in a directory tree\n",
        "    for dirpath, dirnames, filenames in os.walk(directory_path):\n",
        "        for f in filenames:\n",
        "            # os.path.join creates a full file path\n",
        "            fp = os.path.join(dirpath, f)\n",
        "            # os.path.getsize gets the size of the file\n",
        "            # os.path.islink checks to avoid errors with symbolic links\n",
        "            if not os.path.islink(fp):\n",
        "                total_size += os.path.getsize(fp)\n",
        "    return total_size\n",
        "\n",
        "bytes_to_gb = 1024 * 1024 * 1024 # or 1e9 for Gigabytes vs. Gibibytes\n",
        "\n",
        "for directory in [\"./qlora-Gemma3-model\", \"./merged4q-Gemma3-model\"]:\n",
        "    # Get size in bytes\n",
        "    size_in_bytes = get_directory_size(directory)\n",
        "\n",
        "    # Convert to GB\n",
        "    size_in_gb = size_in_bytes / bytes_to_gb\n",
        "\n",
        "    # Print the result, formatted to 2 decimal places\n",
        "    print(f\"Directory '{directory}': {size_in_gb:.2f} GB\")"
      ],
      "metadata": {
        "colab": {
          "base_uri": "https://localhost:8080/"
        },
        "id": "OMNRLPzqCK4T",
        "outputId": "ee867cae-09e1-46cf-bb9d-5d98a666268a"
      },
      "execution_count": 30,
      "outputs": [
        {
          "output_type": "stream",
          "name": "stdout",
          "text": [
            "Directory './qlora-Gemma3-model': 0.23 GB\n",
            "Directory './merged4q-Gemma3-model': 1.50 GB\n"
          ]
        }
      ]
    },
    {
      "cell_type": "code",
      "source": [
        "def extract_last_json_block(text: str) -> str | None:\n",
        "    \"\"\"Extracts the last JSON block from a string.\"\"\"\n",
        "    # Find the last closing curly brace\n",
        "    last_close_brace_index = text.rfind('}')\n",
        "\n",
        "    # If no closing brace is found, we can't find a block\n",
        "    if last_close_brace_index == -1:\n",
        "        return None\n",
        "\n",
        "    # Starting from the position of the last closing brace,\n",
        "    # find the last opening curly brace that comes before it.\n",
        "    last_open_brace_index = text.rfind('{', 0, last_close_brace_index)\n",
        "\n",
        "    # If no opening brace is found before the last closing brace, it's not a valid block\n",
        "    if last_open_brace_index == -1:\n",
        "        return None\n",
        "\n",
        "    # Return the slice of the string between the two braces\n",
        "    return text[last_open_brace_index : last_close_brace_index + 1]"
      ],
      "metadata": {
        "id": "3DyuQgBqsv-t"
      },
      "execution_count": 31,
      "outputs": []
    },
    {
      "cell_type": "code",
      "source": [
        "import json\n",
        "\n",
        "def predict_with_reasoning(X_test, model, tokenizer, device=\"auto\", max_new_tokens=300, temperature=0.0):\n",
        "    \"\"\"Predict the sentiment of news headlines and extract the reasoning\"\"\"\n",
        "\n",
        "    y_pred = []  # List to store predicted sentiment strings\n",
        "    all_reasonings = [] # List to store the reasoning strings\n",
        "\n",
        "    # Iterate through each headline in X_test\n",
        "    for i in tqdm(range(len(X_test)), desc=\"Predicting Sentiments\"):\n",
        "        headline = X_test.iloc[i][\"text\"].split(\"[\")[-1].split(\"]\")[0]  # Extract headline text\n",
        "\n",
        "        # Construct the prompt to request a JSON output\n",
        "        prompt = f\"\"\"\n",
        "        Analyze the sentiment of the following headline and provide your reasoning.\n",
        "        The sentiment can be 'positive', 'negative', or 'neutral'.\n",
        "        Return the output as a JSON object with two keys: 'sentiment' and 'reasoning'.\n",
        "        In the reason briefly explain the reaasoning for the sentiment.\n",
        "\n",
        "        Headline: \"{headline}\"\n",
        "\n",
        "        JSON output:\n",
        "        \"\"\"\n",
        "\n",
        "        # Tokenize and move input to the appropriate device\n",
        "        input_ids = tokenizer(prompt, return_tensors=\"pt\").to(device)\n",
        "\n",
        "        # Generate output from the model\n",
        "        params = {\"do_sample\": True, \"temperature\": temperature} if temperature > 0 else {\"do_sample\": False}\n",
        "\n",
        "        outputs = model.generate(**input_ids,\n",
        "                                 max_new_tokens=max_new_tokens,\n",
        "                                 **params)\n",
        "\n",
        "        # Decode the generated output into text\n",
        "        result = tokenizer.decode(outputs[0], skip_special_tokens=True).strip()\n",
        "\n",
        "        if \"{\" in result and \"}\" not in result:\n",
        "          result = result + \"\\\"}\"\n",
        "\n",
        "        # Extract and parse the JSON from the result\n",
        "        try:\n",
        "            # Extract the JSON part of the string\n",
        "            json_string = extract_last_json_block(result)\n",
        "\n",
        "            # Parse the JSON string into a Python dictionary\n",
        "            parsed_json = json.loads(json_string)\n",
        "\n",
        "            # Append the sentiment to y_pred, providing a default if the key is missing\n",
        "            y_pred.append(parsed_json.get(\"sentiment\", \"none\"))\n",
        "\n",
        "            # Append the reasoning, providing a default if the key is missing\n",
        "            all_reasonings.append(parsed_json.get(\"reasoning\", \"No reasoning provided.\"))\n",
        "\n",
        "        except:\n",
        "            error_reason = \"Failed to decode JSON from the output.\"\n",
        "            y_pred.append(\"none\")\n",
        "            all_reasonings.append(result)\n",
        "\n",
        "    return y_pred, all_reasonings"
      ],
      "metadata": {
        "id": "fboyMtFCj5aJ"
      },
      "execution_count": 32,
      "outputs": []
    },
    {
      "cell_type": "code",
      "source": [
        "y_pred, explanations = predict_with_reasoning(X_test[:10], merged_model.eval(), tokenizer, device=device, max_new_tokens=50)"
      ],
      "metadata": {
        "colab": {
          "base_uri": "https://localhost:8080/"
        },
        "id": "jyW4U5ybkUny",
        "outputId": "586d9c1e-cec6-457e-e1dd-083c12c87fe9"
      },
      "execution_count": 33,
      "outputs": [
        {
          "output_type": "stream",
          "name": "stderr",
          "text": [
            "Predicting Sentiments: 100%|██████████| 10/10 [00:47<00:00,  4.79s/it]\n"
          ]
        }
      ]
    },
    {
      "cell_type": "code",
      "source": [
        "for pred, reason in zip(y_pred, explanations):\n",
        "    print(f\"Prediction: {pred}, Reasoning: {reason}\\n\")"
      ],
      "metadata": {
        "colab": {
          "base_uri": "https://localhost:8080/"
        },
        "id": "uRAnTDJfqjoM",
        "outputId": "bc5a026d-cc3e-4c80-86b8-562a02c6508a"
      },
      "execution_count": 34,
      "outputs": [
        {
          "output_type": "stream",
          "name": "stdout",
          "text": [
            "Prediction: positive, Reasoning: The headline expresses optimism about the soy-oats' potential to enter the UK market, suggesting a positive outlook.\n",
            "\n",
            "Prediction: positive, Reasoning: The headline indicates a significant increase in sales, suggesting positive growth.\n",
            "\n",
            "Prediction: positive, Reasoning: The headline indicates a positive agreement between M-real and Sappi, suggesting a beneficial partnership and potential future growth.\n",
            "\n",
            "Prediction: positive, Reasoning: The headline expresses positive sentiment due to the mention of 'strong customer interest' and 'feedback', suggesting that the mentioned entities are likely to improve their products\n",
            "\n",
            "Prediction: positive, Reasoning: The headline expresses positive sentiment towards Activision and Rapala, highlighting a fresh and colorful approach.\n",
            "\n",
            "Prediction: positive, Reasoning: The headline indicates a positive turning point in steel prices, suggesting increased profitability and favorable market conditions.\n",
            "\n",
            "Prediction: positive, Reasoning: The headline indicates a significant increase in the company's net profit, suggesting a positive financial performance.\n",
            "\n",
            "Prediction: positive, Reasoning: The headline indicates that Ruukki, a Finnish footballer, has signed a contract with Veidekke Entreprenor AS, a Norwegian company.\n",
            "\n",
            "Prediction: positive, Reasoning: The headline indicates a significant increase in sales, suggesting a positive financial performance.\n",
            "\n",
            "Prediction: positive, Reasoning: The headline indicates a positive development - the distribution of Shimano's products. This suggests increased sales and market expansion.\n",
            "\n"
          ]
        }
      ]
    }
  ]
}