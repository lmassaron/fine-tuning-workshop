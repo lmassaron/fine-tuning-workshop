{
  "nbformat": 4,
  "nbformat_minor": 0,
  "metadata": {
    "colab": {
      "provenance": [],
      "gpuType": "L4",
      "authorship_tag": "ABX9TyONABkP/zRuPIHkM/R6+plb",
      "include_colab_link": true
    },
    "kernelspec": {
      "name": "python3",
      "display_name": "Python 3"
    },
    "language_info": {
      "name": "python"
    },
    "accelerator": "GPU"
  },
  "cells": [
    {
      "cell_type": "markdown",
      "metadata": {
        "id": "view-in-github",
        "colab_type": "text"
      },
      "source": [
        "<a href=\"https://colab.research.google.com/github/lmassaron/fine-tuning-workshop/blob/main/sherlock_knowledge_sft.ipynb\" target=\"_parent\"><img src=\"https://colab.research.google.com/assets/colab-badge.svg\" alt=\"Open In Colab\"/></a>"
      ]
    },
    {
      "cell_type": "code",
      "execution_count": 1,
      "metadata": {
        "colab": {
          "base_uri": "https://localhost:8080/"
        },
        "id": "5DdB5YJlNXXq",
        "outputId": "b6d4a199-dd09-4839-91fd-0dc2fc88add9"
      },
      "outputs": [
        {
          "output_type": "stream",
          "name": "stdout",
          "text": [
            "Tue Sep 23 22:46:16 2025       \n",
            "+-----------------------------------------------------------------------------------------+\n",
            "| NVIDIA-SMI 550.54.15              Driver Version: 550.54.15      CUDA Version: 12.4     |\n",
            "|-----------------------------------------+------------------------+----------------------+\n",
            "| GPU  Name                 Persistence-M | Bus-Id          Disp.A | Volatile Uncorr. ECC |\n",
            "| Fan  Temp   Perf          Pwr:Usage/Cap |           Memory-Usage | GPU-Util  Compute M. |\n",
            "|                                         |                        |               MIG M. |\n",
            "|=========================================+========================+======================|\n",
            "|   0  NVIDIA L4                      Off |   00000000:00:03.0 Off |                    0 |\n",
            "| N/A   42C    P8             12W /   72W |       0MiB /  23034MiB |      0%      Default |\n",
            "|                                         |                        |                  N/A |\n",
            "+-----------------------------------------+------------------------+----------------------+\n",
            "                                                                                         \n",
            "+-----------------------------------------------------------------------------------------+\n",
            "| Processes:                                                                              |\n",
            "|  GPU   GI   CI        PID   Type   Process name                              GPU Memory |\n",
            "|        ID   ID                                                               Usage      |\n",
            "|=========================================================================================|\n",
            "|  No running processes found                                                             |\n",
            "+-----------------------------------------------------------------------------------------+\n"
          ]
        }
      ],
      "source": [
        "# Check the GPU information\n",
        "!nvidia-smi"
      ]
    },
    {
      "cell_type": "code",
      "source": [
        "# Install necessary libraries for model training and evaluation\n",
        "%%capture\n",
        "!pip install -U transformers trl peft accelerate bitsandbytes\n",
        "!pip install tenacity"
      ],
      "metadata": {
        "id": "V-Gxk-fyRIzO"
      },
      "execution_count": 2,
      "outputs": []
    },
    {
      "cell_type": "code",
      "source": [
        "# Import and print the versions of the installed libraries\n",
        "import torch\n",
        "import trl\n",
        "import peft\n",
        "import bitsandbytes\n",
        "\n",
        "print(f\"Using PyTorch version: {torch.__version__}\")\n",
        "print(f\"Using TRL version: {trl.__version__}\")\n",
        "print(f\"Using peft version: {peft.__version__}\")\n",
        "print(f\"Using bitsandbytes version: {bitsandbytes.__version__}\")"
      ],
      "metadata": {
        "colab": {
          "base_uri": "https://localhost:8080/"
        },
        "id": "tmVggCLHRIwm",
        "outputId": "a13e6652-c51c-436b-981e-ef310fc0902d"
      },
      "execution_count": 3,
      "outputs": [
        {
          "output_type": "stream",
          "name": "stdout",
          "text": [
            "Using PyTorch version: 2.8.0+cu126\n",
            "Using TRL version: 0.23.0\n",
            "Using peft version: 0.17.1\n",
            "Using bitsandbytes version: 0.47.0\n"
          ]
        }
      ]
    },
    {
      "cell_type": "code",
      "source": [
        "# Import various libraries needed for data handling, model loading, and training\n",
        "import os\n",
        "import gc\n",
        "import warnings\n",
        "import torch\n",
        "import numpy as np\n",
        "import pandas as pd\n",
        "import torch\n",
        "import subprocess\n",
        "import sys\n",
        "import random\n",
        "import matplotlib.pyplot as plt\n",
        "from datasets import Dataset, load_dataset\n",
        "from huggingface_hub import login\n",
        "from peft import LoraConfig\n",
        "from tqdm import tqdm\n",
        "from transformers import AutoModelForCausalLM, AutoTokenizer\n",
        "from transformers import set_seed\n",
        "from trl import GRPOConfig, GRPOTrainer, SFTConfig, SFTTrainer"
      ],
      "metadata": {
        "id": "4XGjIbALROk6"
      },
      "execution_count": 4,
      "outputs": []
    },
    {
      "cell_type": "code",
      "source": [
        "DEMO = False"
      ],
      "metadata": {
        "id": "_qqSm9JPqM5C"
      },
      "execution_count": 5,
      "outputs": []
    },
    {
      "cell_type": "code",
      "source": [
        "# Define configuration parameters for the model and data\n",
        "class Config:\n",
        "    \"\"\"Configuration parameters\"\"\"\n",
        "\n",
        "    SIZE = \"3-1b\"\n",
        "    MODEL_NAME = f\"google/gemma-{SIZE}-it\"\n",
        "    OUTPUT_MODEL = f\"gemma-{SIZE}-sherlock-expert\"\n",
        "\n",
        "    max_seq_length = 2048\n",
        "    seed = 0"
      ],
      "metadata": {
        "id": "MqjLdOThRIte"
      },
      "execution_count": 6,
      "outputs": []
    },
    {
      "cell_type": "code",
      "source": [
        "# Initialization script to set up the environment and Hugging Face login\n",
        "def init():\n",
        "    \"\"\"Initialization script\"\"\"\n",
        "    os.environ[\"HF_HUB_ENABLE_HF_TRANSFER\"] = \"0\"\n",
        "    os.environ[\"TOKENIZERS_PARALLELISM\"] = \"false\"\n",
        "    os.environ[\"CUDA_VISIBLE_DEVICES\"] = \"0\"\n",
        "    os.environ[\"PYTORCH_CUDA_ALLOC_CONF\"] = \"max_split_size_mb:128\"\n",
        "\n",
        "    # It is recommended to set the HF_TOKEN as an environment variable\n",
        "    token = os.environ.get(\"HF_TOKEN\")\n",
        "    if token:\n",
        "        login(token=token)\n",
        "    else:\n",
        "      try:\n",
        "        from google.colab import userdata\n",
        "        # Retrieve your Hugging Face token from Colab's secrets manager\n",
        "        # The name 'HF_TOKEN' should match the name you used in the secrets tab\n",
        "        hf_token = userdata.get('HF_TOKEN')\n",
        "\n",
        "        # Check if the token was successfully retrieved\n",
        "        if hf_token:\n",
        "            # Log in to Hugging Face using the retrieved token\n",
        "            # The `add_to_git_credential=True` argument is optional and useful if you plan to push models to the Hub\n",
        "            login(token=hf_token, add_to_git_credential=True)\n",
        "            print(\"Hugging Face login successful using Google Colab secrets!\")\n",
        "        else:\n",
        "            print(\"Error: HF_TOKEN not found in Google Colab secrets or is empty.\")\n",
        "            print(\"Please ensure you have created a secret named 'HF_TOKEN' in the 'Secrets' tab (🔑) on the left sidebar.\")\n",
        "      except:\n",
        "        print(\"HF_TOKEN not set. You might need to log in manually.\")\n",
        "\n",
        "    torch.cuda.empty_cache()\n",
        "    gc.collect()\n",
        "    warnings.filterwarnings(\"ignore\")\n",
        "\n",
        "def is_bfloat16_supported():\n",
        "    \"\"\"Checks if the current device supports bfloat16.\"\"\"\n",
        "    return torch.cuda.is_available() and torch.cuda.get_device_capability(0)[0] >= 8\n",
        "\n",
        "\n",
        "def info_device():\n",
        "    \"\"\"Get device for PyTorch\"\"\"\n",
        "    device = torch.device(\"cuda\" if torch.cuda.is_available() else \"cpu\")\n",
        "    print(f\"Using device: {device}\")\n",
        "    return device\n",
        "\n",
        "def cleanup(objects=None):\n",
        "    \"\"\"Cleans the memory\"\"\"\n",
        "    if objects is not None:\n",
        "        for obj in objects:\n",
        "            del obj\n",
        "    torch.cuda.empty_cache()\n",
        "    gc.collect()\n",
        "\n",
        "def set_deterministic(seed):\n",
        "  \"\"\"Sets all seeds and CUDA settings for deterministic results.\"\"\"\n",
        "  random.seed(seed)\n",
        "  np.random.seed(seed)\n",
        "  torch.manual_seed(seed)\n",
        "  torch.cuda.manual_seed_all(seed)  # if you are using multi-GPU. [2, 3]\n",
        "  set_seed(seed)"
      ],
      "metadata": {
        "id": "Ar0-cOqPRIlN"
      },
      "execution_count": 7,
      "outputs": []
    },
    {
      "cell_type": "code",
      "source": [
        "def install_flash_attn_conditionally():\n",
        "    \"\"\"\n",
        "    Checks the GPU's compute capability and installs the appropriate version of flash-attn.\n",
        "    \"\"\"\n",
        "    if not torch.cuda.is_available():\n",
        "        print(\"No CUDA-enabled GPU found. Skipping flash-attn installation.\")\n",
        "        return\n",
        "\n",
        "    try:\n",
        "        # Get the compute capability of the first available GPU\n",
        "        major, minor = torch.cuda.get_device_capability(0)\n",
        "        compute_capability = float(f\"{major}.{minor}\")\n",
        "        gpu_name = torch.cuda.get_device_name(0)\n",
        "        print(f\"Found GPU: {gpu_name} with Compute Capability: {compute_capability}\")\n",
        "\n",
        "        # Check for Ampere, Ada, Hopper, or newer architectures (for FlashAttention 2)\n",
        "        if compute_capability >= 8.0:\n",
        "            # Ampere, Ada, and Hopper architectures support bfloat16 and are ideal for FlashAttention 2\n",
        "            is_bf16_supported = torch.cuda.is_bf16_supported()\n",
        "            if is_bf16_supported:\n",
        "                print(\"GPU supports BF16 and is compatible with FlashAttention 2.\")\n",
        "                print(\"Proceeding with installation of the latest 'flash-attn'...\")\n",
        "                # Install the latest version of flash-attn\n",
        "                install_package(\"flash-attn\", \"-q\", \"--no-build-isolation\") # Pass arguments correctly\n",
        "                return True\n",
        "            else:\n",
        "                 print(\"GPU architecture is compatible, but BF16 is not supported. Skipping installation.\")\n",
        "                 return False\n",
        "        # Check for Turing architecture (for original FlashAttention)\n",
        "        elif compute_capability == 7.5:\n",
        "            print(\"Turing architecture GPU detected. Compatible with original FlashAttention (v1.x).\")\n",
        "            print(\"Proceeding with installation of 'flash-attn==1.0.9'...\")\n",
        "            # Install a specific version of flash-attn compatible with Turing\n",
        "            install_package(\"flash-attn==1.0.9\", \"-q\", \"--no-build-isolation\") # Pass arguments correctly\n",
        "            return True\n",
        "\n",
        "        else:\n",
        "            print(f\"GPU with compute capability {compute_capability} is not supported by flash-attn. Skipping installation.\")\n",
        "            return False\n",
        "    except Exception as e:\n",
        "        print(f\"An error occurred during GPU check or installation: {e}\")\n",
        "        return False\n",
        "\n",
        "def install_package(package_name, *pip_args):\n",
        "    \"\"\"\n",
        "    A helper function to install a pip package using subprocess.\n",
        "    \"\"\"\n",
        "    try:\n",
        "        command = [sys.executable, \"-m\", \"pip\", \"install\", package_name]\n",
        "        command.extend(pip_args) # Extend with individual arguments\n",
        "        subprocess.check_call(command)\n",
        "        print(f\"Successfully installed {package_name}.\")\n",
        "    except subprocess.CalledProcessError as e:\n",
        "        print(f\"Error installing {package_name}: {e}\")\n",
        "    except Exception as e:\n",
        "        print(f\"An unexpected error occurred: {e}\")"
      ],
      "metadata": {
        "id": "wJQUgDsNTeqr"
      },
      "execution_count": 8,
      "outputs": []
    },
    {
      "cell_type": "code",
      "source": [
        "# Initialize the environment, get parameters, device, and data type\n",
        "init()\n",
        "params = Config()\n",
        "device = info_device()\n",
        "dtype = torch.bfloat16 if is_bfloat16_supported() else torch.float16\n",
        "print(f\"Using dtype: {dtype}\")\n",
        "is_flash_attn_available = install_flash_attn_conditionally()\n",
        "set_deterministic(params.seed)"
      ],
      "metadata": {
        "colab": {
          "base_uri": "https://localhost:8080/"
        },
        "id": "k3_Z-8ANQchp",
        "outputId": "d00ab44d-744d-4195-e9b2-a50d5808189d"
      },
      "execution_count": 9,
      "outputs": [
        {
          "output_type": "stream",
          "name": "stdout",
          "text": [
            "Hugging Face login successful using Google Colab secrets!\n",
            "Using device: cuda\n",
            "Using dtype: torch.bfloat16\n",
            "Found GPU: NVIDIA L4 with Compute Capability: 8.9\n",
            "GPU supports BF16 and is compatible with FlashAttention 2.\n",
            "Proceeding with installation of the latest 'flash-attn'...\n",
            "Successfully installed flash-attn.\n"
          ]
        }
      ]
    },
    {
      "cell_type": "code",
      "source": [
        "from tenacity import retry, stop_after_attempt, wait_fixed\n",
        "\n",
        "# Function to load dataset from Hugging Face Hub with retries\n",
        "@retry(stop=stop_after_attempt(5), wait=wait_fixed(10)) # Retry up to 5 times with 10 seconds delay\n",
        "def get_data(repo_id, mapping_func=None, split=\"train\"):\n",
        "    \"\"\"Upload HF dataset with retries\"\"\"\n",
        "    print(f\"Attempting to load dataset {repo_id}, split {split}...\")\n",
        "    data = load_dataset(repo_id, cache_dir=\"/tmp\")[split]\n",
        "    if mapping_func:\n",
        "      data = data.map(mapping_func)\n",
        "    print(\"Dataset loaded successfully!\")\n",
        "    return data"
      ],
      "metadata": {
        "id": "GsqZ-Jr3R12y"
      },
      "execution_count": 10,
      "outputs": []
    },
    {
      "cell_type": "code",
      "source": [
        "# Load the Sherlock QA dataset\n",
        "data = get_data(repo_id=\"lmassaron/Sherlock_QA\")"
      ],
      "metadata": {
        "id": "h2oTLcc9R2iY"
      },
      "execution_count": null,
      "outputs": []
    },
    {
      "cell_type": "code",
      "source": [
        "data"
      ],
      "metadata": {
        "colab": {
          "base_uri": "https://localhost:8080/"
        },
        "id": "mCYUpfnVR6ij",
        "outputId": "78815866-2eb0-481d-b059-fa7ba52b524a"
      },
      "execution_count": 12,
      "outputs": [
        {
          "output_type": "execute_result",
          "data": {
            "text/plain": [
              "Dataset({\n",
              "    features: ['messages'],\n",
              "    num_rows: 44294\n",
              "})"
            ]
          },
          "metadata": {},
          "execution_count": 12
        }
      ]
    },
    {
      "cell_type": "code",
      "source": [
        "# Deterministically sample k rows by setting a random_state\n",
        "if DEMO:\n",
        "    k = 1_000\n",
        "else:\n",
        "  k = 44_294\n",
        "eval_proportion = 0.2\n",
        "eval_size = int(k * eval_proportion)\n",
        "train_size = k - eval_size\n",
        "\n",
        "# Shuffle the dataset with a fixed seed for reproducibility\n",
        "shuffled_data = data.shuffle(seed=42)\n",
        "\n",
        "# Select the first k elements to create your sample\n",
        "sampled_data = shuffled_data.select(range(k))\n",
        "\n",
        "# Split the sampled data into training and test sets\n",
        "train_data = sampled_data.select(range(train_size))\n",
        "eval_data = sampled_data.select(range(train_size, k))"
      ],
      "metadata": {
        "id": "kWJC_gamSZEG"
      },
      "execution_count": 13,
      "outputs": []
    },
    {
      "cell_type": "code",
      "source": [
        "def remove_system_prompt(example):\n",
        "    if example['messages'][0]['role'] == 'system':\n",
        "        # Return all messages except the first one\n",
        "        return {\"messages\": example['messages'][1:]}\n",
        "    return example\n",
        "\n",
        "train_data = train_data.map(remove_system_prompt)\n",
        "eval_data = eval_data.map(remove_system_prompt)"
      ],
      "metadata": {
        "id": "MNIGX80yY6ng"
      },
      "execution_count": null,
      "outputs": []
    },
    {
      "cell_type": "code",
      "source": [
        "attn_implementation = \"flash_attention_2\" if is_flash_attn_available else \"eager\"\n",
        "\n",
        "model = AutoModelForCausalLM.from_pretrained(\n",
        "    params.MODEL_NAME,\n",
        "    dtype=dtype,\n",
        "    device_map=device,\n",
        "    attn_implementation=attn_implementation\n",
        ")\n",
        "\n",
        "tokenizer = AutoTokenizer.from_pretrained(params.MODEL_NAME, max_seq_length=params.max_seq_length)\n",
        "\n",
        "# Explicitly enable use_cache for faster inference\n",
        "model.config.use_cache = True"
      ],
      "metadata": {
        "id": "kuZoKEAGS0k9"
      },
      "execution_count": null,
      "outputs": []
    },
    {
      "cell_type": "code",
      "source": [
        "print(f\"Model: {model.name_or_path}\")\n",
        "print(f\"Device: {model.device}\")\n",
        "print(f\"DType: {model.dtype}\")\n",
        "print(f\"Attention Implementation: {attn_implementation}\")"
      ],
      "metadata": {
        "colab": {
          "base_uri": "https://localhost:8080/"
        },
        "id": "h9WnzmOZVRjN",
        "outputId": "5427fd64-0e88-4a88-e2e2-215201b7d193"
      },
      "execution_count": 16,
      "outputs": [
        {
          "output_type": "stream",
          "name": "stdout",
          "text": [
            "Model: google/gemma-3-1b-it\n",
            "Device: cuda:0\n",
            "DType: torch.bfloat16\n",
            "Attention Implementation: flash_attention_2\n"
          ]
        }
      ]
    },
    {
      "cell_type": "code",
      "source": [
        "# LoRA configuration\n",
        "peft_config = LoraConfig(\n",
        "    lora_alpha=16,\n",
        "    lora_dropout=0,\n",
        "    r=64,\n",
        "    bias=\"none\",\n",
        "    task_type=\"CAUSAL_LM\",\n",
        "    target_modules=[\"q_proj\", \"k_proj\", \"v_proj\", \"o_proj\",\n",
        "                    \"gate_proj\", \"up_proj\", \"down_proj\",],\n",
        ")\n",
        "\n",
        "# SFT (Supervised Fine-tuning) configuration\n",
        "training_arguments = SFTConfig(\n",
        "    output_dir=\"logs\",\n",
        "    seed=params.seed,\n",
        "    num_train_epochs=1,\n",
        "    gradient_checkpointing=True,\n",
        "    per_device_train_batch_size=1,\n",
        "    gradient_accumulation_steps=8,\n",
        "    optim=\"adamw_torch_fused\",\n",
        "    save_steps=0,\n",
        "    logging_steps=25 if DEMO else 1_000,\n",
        "    learning_rate=2e-4,\n",
        "    weight_decay=0.001,\n",
        "    fp16=not(is_bfloat16_supported()),\n",
        "    bf16=is_bfloat16_supported(),\n",
        "    max_grad_norm=0.3,\n",
        "    max_steps=-1,\n",
        "    warmup_ratio=0.03,\n",
        "    group_by_length=False,\n",
        "    eval_strategy='steps',\n",
        "    eval_steps = 25 if DEMO else 1_000,\n",
        "    eval_accumulation_steps=1,\n",
        "    lr_scheduler_type=\"cosine\",\n",
        "    dataset_text_field=\"messages\",\n",
        "    packing=False,\n",
        "    max_length=params.max_seq_length,\n",
        "    report_to=\"tensorboard\",\n",
        ")\n",
        "\n",
        "# Initialize the trainer\n",
        "trainer = SFTTrainer(\n",
        "    model=model,\n",
        "    train_dataset=train_data,\n",
        "    eval_dataset=eval_data,\n",
        "    peft_config=peft_config,\n",
        "    processing_class=tokenizer,\n",
        "    args=training_arguments,\n",
        "\n",
        ")"
      ],
      "metadata": {
        "id": "QX14fDV5Vo2c"
      },
      "execution_count": null,
      "outputs": []
    },
    {
      "cell_type": "code",
      "source": [
        "# Train model\n",
        "trainer.train()\n",
        "\n",
        "# Save the fine-tuned LoRA adapter\n",
        "trainer.model.save_pretrained(\"trained-model\")"
      ],
      "metadata": {
        "colab": {
          "base_uri": "https://localhost:8080/",
          "height": 257
        },
        "id": "vKbKiqVJXDmH",
        "outputId": "c5ef406a-22b3-46ce-885b-bb5a33986b33"
      },
      "execution_count": 18,
      "outputs": [
        {
          "output_type": "stream",
          "name": "stderr",
          "text": [
            "The tokenizer has new PAD/BOS/EOS tokens that differ from the model config and generation config. The model config and generation config were aligned accordingly, being updated with the tokenizer's values. Updated tokens: {'eos_token_id': 1}.\n",
            "It is strongly recommended to train Gemma3 models with the `eager` attention implementation instead of `flash_attention_2`. Use `eager` with `AutoModelForCausalLM.from_pretrained('<path-to-checkpoint>', attn_implementation='eager')`.\n"
          ]
        },
        {
          "output_type": "display_data",
          "data": {
            "text/plain": [
              "<IPython.core.display.HTML object>"
            ],
            "text/html": [
              "\n",
              "    <div>\n",
              "      \n",
              "      <progress value='4430' max='4430' style='width:300px; height:20px; vertical-align: middle;'></progress>\n",
              "      [4430/4430 3:52:41, Epoch 1/1]\n",
              "    </div>\n",
              "    <table border=\"1\" class=\"dataframe\">\n",
              "  <thead>\n",
              " <tr style=\"text-align: left;\">\n",
              "      <th>Step</th>\n",
              "      <th>Training Loss</th>\n",
              "      <th>Validation Loss</th>\n",
              "      <th>Entropy</th>\n",
              "      <th>Num Tokens</th>\n",
              "      <th>Mean Token Accuracy</th>\n",
              "    </tr>\n",
              "  </thead>\n",
              "  <tbody>\n",
              "    <tr>\n",
              "      <td>1000</td>\n",
              "      <td>2.136400</td>\n",
              "      <td>1.774897</td>\n",
              "      <td>1.739114</td>\n",
              "      <td>233550.000000</td>\n",
              "      <td>0.674262</td>\n",
              "    </tr>\n",
              "    <tr>\n",
              "      <td>2000</td>\n",
              "      <td>1.654400</td>\n",
              "      <td>1.667150</td>\n",
              "      <td>1.608070</td>\n",
              "      <td>468048.000000</td>\n",
              "      <td>0.687900</td>\n",
              "    </tr>\n",
              "    <tr>\n",
              "      <td>3000</td>\n",
              "      <td>1.591700</td>\n",
              "      <td>1.602336</td>\n",
              "      <td>1.545915</td>\n",
              "      <td>701073.000000</td>\n",
              "      <td>0.695353</td>\n",
              "    </tr>\n",
              "    <tr>\n",
              "      <td>4000</td>\n",
              "      <td>1.537000</td>\n",
              "      <td>1.576107</td>\n",
              "      <td>1.526083</td>\n",
              "      <td>934508.000000</td>\n",
              "      <td>0.698918</td>\n",
              "    </tr>\n",
              "  </tbody>\n",
              "</table><p>"
            ]
          },
          "metadata": {}
        }
      ]
    },
    {
      "cell_type": "code",
      "source": [
        "# Access the log history\n",
        "log_history = trainer.state.log_history\n",
        "\n",
        "# Extract training / validation loss\n",
        "train_losses = [log[\"loss\"] for log in log_history if \"loss\" in log]\n",
        "epoch_train = [log[\"epoch\"] for log in log_history if \"loss\" in log]\n",
        "eval_losses = [log[\"eval_loss\"] for log in log_history if \"eval_loss\" in log]\n",
        "epoch_eval = [log[\"epoch\"] for log in log_history if \"eval_loss\" in log]\n",
        "\n",
        "# Plot the training loss\n",
        "plt.plot(epoch_train, train_losses, label=\"Training Loss\")\n",
        "plt.plot(epoch_eval, eval_losses, label=\"Validation Loss\")\n",
        "plt.xlabel(\"Epoch\")\n",
        "plt.ylabel(\"Loss\")\n",
        "plt.title(\"Training and Validation Loss per Epoch\")\n",
        "plt.legend()\n",
        "plt.grid(True)\n",
        "plt.show()"
      ],
      "metadata": {
        "colab": {
          "base_uri": "https://localhost:8080/",
          "height": 472
        },
        "id": "3WzbnhgSXIVG",
        "outputId": "f0244f61-1b53-46b1-b752-79bdaa2b2b3d"
      },
      "execution_count": 19,
      "outputs": [
        {
          "output_type": "display_data",
          "data": {
            "text/plain": [
              "<Figure size 640x480 with 1 Axes>"
            ],
            "image/png": "[encoded data removed]"
          },
          "metadata": {}
        }
      ]
    },
    {
      "cell_type": "code",
      "source": [
        "if not DEMO:\n",
        "  lora_output_dir = f\"{params.OUTPUT_MODEL}-lora\"\n",
        "  trainer.model.save_pretrained(lora_output_dir)\n",
        "  print(f\"LoRA adapters saved to {lora_output_dir}\")\n",
        "  # Also save the tokenizer with the LoRA adapters for convenience\n",
        "  tokenizer.save_pretrained(lora_output_dir)\n",
        "\n",
        "  # Define the name for your repository on the Hub\n",
        "  repo_name = \"lmassaron/\" + lora_output_dir\n",
        "\n",
        "  # Push the model to the Hub\n",
        "  model.push_to_hub(repo_name)\n",
        "\n",
        "  # Push the tokenizer to the Hub\n",
        "  tokenizer.push_to_hub(repo_name)\n",
        "\n",
        "  print(f\"Model and tokenizer pushed to {repo_name}\")"
      ],
      "metadata": {
        "id": "HRy88PKSowMO"
      },
      "execution_count": null,
      "outputs": []
    },
    {
      "cell_type": "code",
      "source": [
        "if not DEMO:\n",
        "  print(\"\\nMerging the final model\")\n",
        "  merged_model = trainer.model.merge_and_unload()\n",
        "\n",
        "  # Save model and tokenizer\n",
        "  output_path = f\"{params.OUTPUT_MODEL}\"\n",
        "  print(f\"Saving the final model to {output_path}\")\n",
        "  merged_model.save_pretrained(output_path)\n",
        "  tokenizer.save_pretrained(output_path)\n",
        "\n",
        "  # Define the name for your repository on the Hub\n",
        "  repo_name = \"lmassaron/\" + output_path\n",
        "\n",
        "  # Push the model to the Hub\n",
        "  model.push_to_hub(repo_name)\n",
        "\n",
        "  # Push the tokenizer to the Hub\n",
        "  tokenizer.push_to_hub(repo_name)\n",
        "\n",
        "  print(f\"Model and tokenizer pushed to {repo_name}\")"
      ],
      "metadata": {
        "id": "jsRE6Vxdn-1K"
      },
      "execution_count": null,
      "outputs": []
    }
  ]
}